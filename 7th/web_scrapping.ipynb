{
  "nbformat": 4,
  "nbformat_minor": 0,
  "metadata": {
    "colab": {
      "provenance": []
    },
    "kernelspec": {
      "name": "python3",
      "display_name": "Python 3"
    },
    "language_info": {
      "name": "python"
    }
  },
  "cells": [
    {
      "cell_type": "markdown",
      "source": [
        "**Filip Koźlik** \\"
      ],
      "metadata": {
        "id": "hHZEvcxbpqf9"
      }
    },
    {
      "cell_type": "code",
      "execution_count": 1,
      "metadata": {
        "colab": {
          "base_uri": "https://localhost:8080/"
        },
        "id": "WnCpTi5ie5j7",
        "outputId": "0e6c7a83-4cbc-452d-9e7a-f5d3523eb36d"
      },
      "outputs": [
        {
          "output_type": "stream",
          "name": "stdout",
          "text": [
            "Requirement already satisfied: beautifulsoup4 in /usr/local/lib/python3.10/dist-packages (4.11.2)\n",
            "Requirement already satisfied: soupsieve>1.2 in /usr/local/lib/python3.10/dist-packages (from beautifulsoup4) (2.5)\n"
          ]
        }
      ],
      "source": [
        "!pip install beautifulsoup4"
      ]
    },
    {
      "cell_type": "code",
      "source": [
        "!pip install requests"
      ],
      "metadata": {
        "colab": {
          "base_uri": "https://localhost:8080/"
        },
        "id": "xDIVfvi1gyaa",
        "outputId": "8afd0b6a-69d0-45ef-b4c3-29c0af230249"
      },
      "execution_count": 2,
      "outputs": [
        {
          "output_type": "stream",
          "name": "stdout",
          "text": [
            "Requirement already satisfied: requests in /usr/local/lib/python3.10/dist-packages (2.31.0)\n",
            "Requirement already satisfied: charset-normalizer<4,>=2 in /usr/local/lib/python3.10/dist-packages (from requests) (3.3.2)\n",
            "Requirement already satisfied: idna<4,>=2.5 in /usr/local/lib/python3.10/dist-packages (from requests) (3.6)\n",
            "Requirement already satisfied: urllib3<3,>=1.21.1 in /usr/local/lib/python3.10/dist-packages (from requests) (2.0.7)\n",
            "Requirement already satisfied: certifi>=2017.4.17 in /usr/local/lib/python3.10/dist-packages (from requests) (2023.11.17)\n"
          ]
        }
      ]
    },
    {
      "cell_type": "markdown",
      "source": [
        "**Task 1.**\\\n",
        "\n",
        "Download the contents of https://ms.polsl.pl/kzmimsi/pracownicy/. \\\n",
        "Extract the staff list from the content. \\\n",
        "Create a bar chart to show a summary of the number of Masters, PhDs and Professors in the Department."
      ],
      "metadata": {
        "id": "1LvfVOUOhRMb"
      }
    },
    {
      "cell_type": "code",
      "source": [
        "from pydantic import BaseModel\n",
        "from typing import TypeVar, List, Generic\n",
        "\n",
        "TDataType = TypeVar('TDataType')\n",
        "\n",
        "class EmployeeDto(BaseModel):\n",
        "  name: str # Full name of employee described at page\n",
        "  url: str # Url to data about selected employee\n",
        "  title: str # Employee title\n",
        "\n",
        "class ResponseCollectionDto(BaseModel):\n",
        "  collection: List[TDataType]\n",
        "  count: int"
      ],
      "metadata": {
        "id": "MbfJ6lEYhWtH"
      },
      "execution_count": 13,
      "outputs": []
    },
    {
      "cell_type": "code",
      "source": [
        "from typing import Final\n",
        "\n",
        "# * Defined needed consts for extracting data from below page\n",
        "CHAIR_OF_APPLIED_MATHEMATICS_URL: Final[str] = 'https://ms.polsl.pl/kzmimsi/pracownicy/'\n",
        "EMPLOYEE_DATA_SELECTOR: Final[str] = 'a.light div.pracownik'\n",
        "EMPLOYEE_IMG_SELECTOR: Final[str] = 'img'\n",
        "EMPLOYEE_STRONG_SELECTOR: Final[str] = 'strong'\n",
        "EMPLOYEE_IMG_ALT_SELECTOR: Final[str] = 'alt'\n",
        "EMPLOYEE_IMG_SRC_SELECTOR: Final[str] = 'src'"
      ],
      "metadata": {
        "id": "QmG-RTKWhyoP"
      },
      "execution_count": 31,
      "outputs": []
    },
    {
      "cell_type": "code",
      "source": [
        "import requests\n",
        "from bs4 import BeautifulSoup\n",
        "\n",
        "class ScrapeService:\n",
        "\n",
        "  @staticmethod\n",
        "  def get_response_as_soup(url: str) -> BeautifulSoup:\n",
        "    \"\"\"\n",
        "    Definition of static method for converting scrapped results into bs4 object.\n",
        "\n",
        "    Args:\n",
        "      url (__str__): String representation of url to scrape.\n",
        "    \"\"\"\n",
        "    response = requests.get(url)\n",
        "\n",
        "    if response.status_code != 200:\n",
        "      return\n",
        "\n",
        "    return BeautifulSoup(response.text, 'html.parser')"
      ],
      "metadata": {
        "id": "iCkgEtgDg5z5"
      },
      "execution_count": 6,
      "outputs": []
    },
    {
      "cell_type": "code",
      "source": [
        "from abc import ABC, abstractmethod\n",
        "from dataclasses import dataclass\n",
        "from typing import Optional, Any\n",
        "\n",
        "@dataclass\n",
        "class AbstractParseService(ABC):\n",
        "\n",
        "    soup: BeautifulSoup  # Object created based on api response\n",
        "\n",
        "    @abstractmethod\n",
        "    def parse(self) -> ResponseCollectionDto:\n",
        "        \"\"\"\n",
        "        Should parse expected results and return them in the scheme of ResponseCollectionDto.\n",
        "\n",
        "        Returns:\n",
        "          ResponseCollectionDto: Representation of objects collection as ResponseCollectionDto of the provided type.\n",
        "        \"\"\"\n",
        "        ...\n",
        "\n",
        "@dataclass\n",
        "class ChairOfAppliedMathematicsParseService(AbstractParseService):\n",
        "\n",
        "  def parse(self) -> ResponseCollectionDto:\n",
        "    \"\"\"\n",
        "    Definition of parse method for extracting needed information about employees.\n",
        "\n",
        "    Returns:\n",
        "      ResponseCollectionDto: Data described as ResponseCollectionDto object.\n",
        "    \"\"\"\n",
        "    items = self.soup.select(EMPLOYEE_DATA_SELECTOR)\n",
        "    collection = list()\n",
        "\n",
        "    for div in items:\n",
        "      img_tag = div.find(EMPLOYEE_IMG_SELECTOR)\n",
        "      strong_tag = self._get_null_or_value(div.find(EMPLOYEE_STRONG_SELECTOR))\n",
        "\n",
        "      if img_tag:\n",
        "          alt_value = img_tag.get(EMPLOYEE_IMG_ALT_SELECTOR)\n",
        "          src_value = img_tag.get(EMPLOYEE_IMG_SRC_SELECTOR)\n",
        "          collection.append(EmployeeDto(\n",
        "              name = alt_value,\n",
        "              url = src_value,\n",
        "              title = strong_tag\n",
        "          ))\n",
        "    return ResponseCollectionDto(\n",
        "        collection = collection,\n",
        "        count = len(collection)\n",
        "    )\n",
        "\n",
        "  def _get_null_or_value(self, value: str) -> Optional[str]:\n",
        "    return value.text if value else None\n"
      ],
      "metadata": {
        "id": "V3Xi9BZNipUS"
      },
      "execution_count": 55,
      "outputs": []
    },
    {
      "cell_type": "code",
      "source": [
        "soup = ScrapeService.get_response_as_soup(CHAIR_OF_APPLIED_MATHEMATICS_URL)\n",
        "parser = ChairOfAppliedMathematicsParseService(soup)\n",
        "parsed_data = parser.parse()"
      ],
      "metadata": {
        "id": "V--r9pb3ifAL"
      },
      "execution_count": 53,
      "outputs": []
    },
    {
      "cell_type": "code",
      "source": [
        "parsed_data"
      ],
      "metadata": {
        "colab": {
          "base_uri": "https://localhost:8080/"
        },
        "id": "ZE0Prc52imuN",
        "outputId": "06cecf42-ab37-469b-806c-01ff0715b924"
      },
      "execution_count": 54,
      "outputs": [
        {
          "output_type": "execute_result",
          "data": {
            "text/plain": [
              "ResponseCollectionDto(collection=[EmployeeDto(name='dr Katarzyna Adrianowicz', url='https://ms.polsl.pl/_zdjecia/adri.jpg', title='dr Katarzyna Adrianowicz'), EmployeeDto(name='mgr inż. Arkadiusz Banasik', url='https://ms.polsl.pl/_zdjecia/bana.jpg', title='mgr inż. Arkadiusz Banasik'), EmployeeDto(name='Błasik', url='https://ms.polsl.pl/kzmimsi/images/nn.png', title='dr inż. Marek Błasik'), EmployeeDto(name='prof. dr hab. Mykola Bratiichuk', url='https://ms.polsl.pl/_zdjecia/brat.jpg', title='prof. dr hab. Mykola Bratiichuk'), EmployeeDto(name='dr inż. Rafał Brociek', url='https://ms.polsl.pl/_zdjecia/broc.jpg', title='dr inż. Rafał Brociek'), EmployeeDto(name='Capizzi', url='https://ms.polsl.pl/kzmimsi/images/nn.png', title='dr Giacomo Capizzi'), EmployeeDto(name='dr Robertas Damaševičius', url='https://ms.polsl.pl/_zdjecia/dama.jpg', title='dr Robertas Damaševičius'), EmployeeDto(name='dr hab. inż. Edyta Hetmaniok', url='https://ms.polsl.pl/_zdjecia/hetm.jpg', title='dr hab. inż. Edyta Hetmaniok, prof. PŚ'), EmployeeDto(name='dr hab. inż. Waldemar Hołubowski', url='https://ms.polsl.pl/_zdjecia/holu.jpg', title='dr hab. inż. Waldemar Hołubowski, prof. PŚ'), EmployeeDto(name='dr inż. Konrad Kaczmarek', url='https://ms.polsl.pl/_zdjecia/kacz.jpg', title='dr inż. Konrad Kaczmarek'), EmployeeDto(name='dr inż. Adrian Kapczyński', url='https://ms.polsl.pl/_zdjecia/kapc.jpg', title='dr inż. Adrian Kapczyński'), EmployeeDto(name='dr inż. Jarosław Karcewicz', url='https://ms.polsl.pl/_zdjecia/karc.jpg', title='dr inż. Jarosław Karcewicz'), EmployeeDto(name='dr hab. inż. Wojciech Kempa', url='https://ms.polsl.pl/_zdjecia/kemp.jpg', title='dr hab. inż. Wojciech Kempa, prof. PŚ'), EmployeeDto(name='mgr Martyna Kobielnik', url='https://ms.polsl.pl/_zdjecia/kobi.jpg', title='mgr Martyna Kobielnik'), EmployeeDto(name='Kozyra', url='https://ms.polsl.pl/kzmimsi/images/nn.png', title='dr Paweł Kozyra'), EmployeeDto(name='dr inż. Marcin Lawnik', url='https://ms.polsl.pl/_zdjecia/lawn.jpg', title='dr inż. Marcin Lawnik'), EmployeeDto(name='dr Ewa Łobos', url='https://ms.polsl.pl/_zdjecia/lobo.jpg', title='dr Ewa Łobos'), EmployeeDto(name='dr Zbigniew Marszałek', url='https://ms.polsl.pl/_zdjecia/mars.jpg', title='dr Zbigniew Marszałek'), EmployeeDto(name='dr inż. Elwira Mateja-Losa', url='https://ms.polsl.pl/_zdjecia/mate.jpg', title='dr inż. Elwira Mateja-Losa'), EmployeeDto(name='dr hab. Iwona Nowak', url='https://ms.polsl.pl/_zdjecia/nowi.jpg', title='dr hab. Iwona Nowak, prof. PŚ'), EmployeeDto(name='Pabiasz', url='https://ms.polsl.pl/kzmimsi/images/nn.png', title='dr Sebastian Pabiasz'), EmployeeDto(name='Pikiewicz', url='https://ms.polsl.pl/kzmimsi/images/nn.png', title='dr inż. Piotr Pikiewicz'), EmployeeDto(name='dr inż. Mariusz Pleszczyński', url='https://ms.polsl.pl/_zdjecia/ples.jpg', title='dr inż. Mariusz Pleszczyński'), EmployeeDto(name='dr inż. Dawid Połap', url='https://ms.polsl.pl/_zdjecia/pola.jpg', title='dr inż. Dawid Połap'), EmployeeDto(name='prof. dr hab. inż. Damian Słota', url='https://ms.polsl.pl/_zdjecia/slot.jpg', title='prof. dr hab. inż. Damian Słota'), EmployeeDto(name='dr inż. Marcin Sobota', url='https://ms.polsl.pl/_zdjecia/sobo.jpg', title='dr inż. Marcin Sobota'), EmployeeDto(name='dr inż. Zdzisław Sroczyński', url='https://ms.polsl.pl/_zdjecia/sroz.jpg', title='dr inż. Zdzisław Sroczyński'), EmployeeDto(name='Stecuła', url='https://ms.polsl.pl/kzmimsi/images/nn.png', title='mgr inż. Beniamin Stecuła'), EmployeeDto(name='Witkowski', url='https://ms.polsl.pl/kzmimsi/images/nn.png', title='mgr inż. Mirosław Witkowski'), EmployeeDto(name='prof. dr hab. inż. Marcin Woźniak', url='https://ms.polsl.pl/_zdjecia/wozn.jpg', title='prof. dr hab. inż. Marcin Woźniak'), EmployeeDto(name='dr inż. Adam Zielonka', url='https://ms.polsl.pl/_zdjecia/ziel.jpg', title='dr inż. Adam Zielonka'), EmployeeDto(name='Maskeliunas', url='https://ms.polsl.pl/kzmimsi/images/nn.png', title='prof. Rytis Maskeliunas'), EmployeeDto(name='prof. dr hab. inż. Radosław Grzymkowski', url='https://ms.polsl.pl/_zdjecia/grzy.jpg', title='prof. dr hab. inż. Radosław Grzymkowski'), EmployeeDto(name='mgr Hanna Wójtowicz', url='https://ms.polsl.pl/_zdjecia/wojt.jpg', title='mgr Hanna Wójtowicz')], count=34)"
            ]
          },
          "metadata": {},
          "execution_count": 54
        }
      ]
    },
    {
      "cell_type": "code",
      "source": [
        "import matplotlib.pyplot as plt\n",
        "\n",
        "def create_graph_summary(data: ResponseCollectionDto) -> None:\n",
        "  # Assuming parsed_data is a dictionary or an object where you can access the EmployeeDto list\n",
        "  employees = parsed_data.collection\n",
        "\n",
        "  # Counters for titles\n",
        "  engineers_count = 0\n",
        "  master_count = 0\n",
        "  doctor_count = 0\n",
        "  professor_count = 0\n",
        "\n",
        "  # Count titles in the EmployeeDto list\n",
        "  for employee in employees:\n",
        "      title = employee.title.lower()\n",
        "      if 'inż' in title:\n",
        "        engineers_count += 1\n",
        "      if 'mgr' in title or 'magister' in title:\n",
        "          master_count += 1\n",
        "      if 'dr' in title:\n",
        "          doctor_count += 1\n",
        "      if 'prof' in title:\n",
        "          professor_count += 1\n",
        "\n",
        "  # Data for the bar chart\n",
        "  titles = ['Engineers', 'Master', 'Doctor', 'Professor']\n",
        "  counts = [engineers_count, master_count, doctor_count, professor_count]\n",
        "\n",
        "  # Plotting the bar chart\n",
        "  plt.bar(titles, counts, color=['purple', 'blue', 'green', 'red'])\n",
        "  plt.xlabel('Summary of employees')\n",
        "  plt.ylabel('Number of Employees')\n",
        "  plt.title('Distribution of Titles in the Department')\n",
        "  plt.show()"
      ],
      "metadata": {
        "id": "7pWeoJLIplR0"
      },
      "execution_count": 65,
      "outputs": []
    },
    {
      "cell_type": "code",
      "source": [
        "create_graph_summary(parsed_data)"
      ],
      "metadata": {
        "colab": {
          "base_uri": "https://localhost:8080/",
          "height": 472
        },
        "id": "jnTkgnqYqeH9",
        "outputId": "651cb665-3d54-4428-e0a0-1902090cdacf"
      },
      "execution_count": 66,
      "outputs": [
        {
          "output_type": "display_data",
          "data": {
            "text/plain": [
              "<Figure size 640x480 with 1 Axes>"
            ],
            "image/png": "[encoded data removed]"
          },
          "metadata": {}
        }
      ]
    },
    {
      "cell_type": "markdown",
      "source": [
        "**Task 2.** \\\n",
        "Create a new html file that links to the directions downloaded from https://rekrutacja.polsl.pl/wyszukiwarka-kierunkow-i-stopnia/?pa_kierunek=inf."
      ],
      "metadata": {
        "id": "IIi119K9rXf0"
      }
    },
    {
      "cell_type": "code",
      "source": [
        "from typing import Final\n",
        "\n",
        "SEARCH_ENGINE_DIRECTIONS: Final[str] = 'https://rekrutacja.polsl.pl/wyszukiwarka-kierunkow-i-stopnia/?pa_kierunek=inf'\n",
        "SEARCH_ENGINE_DIV_SELECTOR: Final[str] = 'div.product-image a'\n",
        "SEARCH_ENGINE_A_SELECTOR: Final[str] = 'a'\n",
        "SEARCH_ENGINGE_A_HREF_SELECTOR: Final[str] = 'href'\n",
        "SEARCH_ENGINGE_IMG_SELECTOR: Final[str] = 'img'\n",
        "SEARCH_ENGINE_ALT_SELECTOR: Final[str] = 'alt'"
      ],
      "metadata": {
        "id": "6rRgkWrnr56C"
      },
      "execution_count": 112,
      "outputs": []
    },
    {
      "cell_type": "code",
      "source": [
        "from pydantic import BaseModel\n",
        "\n",
        "class SearchDirectionDto(BaseModel):\n",
        "  name: str # Name of direction\n",
        "  url: str # Url to direction description"
      ],
      "metadata": {
        "id": "01cIddBqsvrC"
      },
      "execution_count": 74,
      "outputs": []
    },
    {
      "cell_type": "code",
      "source": [
        "from dataclasses import dataclass\n",
        "\n",
        "@dataclass\n",
        "class SearchDirectionsParseService(AbstractParseService):\n",
        "\n",
        "  def parse(self) -> ResponseCollectionDto:\n",
        "    \"\"\"\n",
        "    Definition of parse method for extracting needed information about directions.\n",
        "\n",
        "    Returns:\n",
        "      ResponseCollectionDto: Data described as ResponseCollectionDto object.\n",
        "    \"\"\"\n",
        "    items = self.soup.select(SEARCH_ENGINE_DIV_SELECTOR)\n",
        "    collection = list()\n",
        "\n",
        "    for item in items:\n",
        "        link_url = item[SEARCH_ENGINGE_A_HREF_SELECTOR]\n",
        "        img = item.find(SEARCH_ENGINGE_IMG_SELECTOR)\n",
        "        if img is not None:\n",
        "          img_alt = img.get(SEARCH_ENGINE_ALT_SELECTOR)\n",
        "          collection.append(SearchDirectionDto(\n",
        "              name = img_alt,\n",
        "              url = link_url\n",
        "          ))\n",
        "\n",
        "    return ResponseCollectionDto(\n",
        "        collection = collection,\n",
        "        count = len(collection)\n",
        "    )"
      ],
      "metadata": {
        "id": "fbbrzAIasErI"
      },
      "execution_count": 129,
      "outputs": []
    },
    {
      "cell_type": "code",
      "source": [
        "another_soup = ScrapeService.get_response_as_soup(SEARCH_ENGINE_DIRECTIONS)\n",
        "another_parser = SearchDirectionsParseService(another_soup)\n",
        "another_results = another_parser.parse()"
      ],
      "metadata": {
        "id": "BopLY5Eaqh_Q"
      },
      "execution_count": 132,
      "outputs": []
    },
    {
      "cell_type": "code",
      "source": [
        "another_results"
      ],
      "metadata": {
        "colab": {
          "base_uri": "https://localhost:8080/"
        },
        "id": "VenGnDV0scWt",
        "outputId": "36941961-200c-4acc-ad7b-f5707c2dc11c"
      },
      "execution_count": 133,
      "outputs": [
        {
          "output_type": "execute_result",
          "data": {
            "text/plain": [
              "ResponseCollectionDto(collection=[SearchDirectionDto(name='Informatyka', url='https://rekrutacja.polsl.pl/kierunek/informatyka2/'), SearchDirectionDto(name='Informatyka (profil ogólnoakademicki)', url='https://rekrutacja.polsl.pl/kierunek/informatykaogolno/'), SearchDirectionDto(name='Informatyka (profil praktyczny)', url='https://rekrutacja.polsl.pl/kierunek/informatykaprak2/'), SearchDirectionDto(name='Informatyka (profil praktyczny Wydziału Matematyki Stosowanej)', url='https://rekrutacja.polsl.pl/kierunek/informatykarms/')], count=4)"
            ]
          },
          "metadata": {},
          "execution_count": 133
        }
      ]
    },
    {
      "cell_type": "code",
      "source": [
        "from string import Template\n",
        "\n",
        "html_template = Template('''\n",
        "<!DOCTYPE html>\n",
        "<html lang=\"en\">\n",
        "<head>\n",
        "    <meta charset=\"UTF-8\">\n",
        "    <meta name=\"viewport\" content=\"width=device-width, initial-scale=1.0\">\n",
        "    <title>Search Directions</title>\n",
        "</head>\n",
        "<body>\n",
        "\n",
        "<h2>Search Directions</h2>\n",
        "\n",
        "<ul>\n",
        "    $directions\n",
        "</ul>\n",
        "\n",
        "</body>\n",
        "</html>\n",
        "''')\n",
        "\n",
        "directions_html = list()\n",
        "for item in another_results.collection:\n",
        "  directions_html.append(f'<li>${item.name}: <a href=\"${item.url}\" target=\"_blank\">${item.url}</a></li>')\n",
        "\n",
        "html_content = html_template.substitute(directions='\\n'.join(directions_html))\n",
        "\n",
        "with open('task2_results.html', 'w') as f:\n",
        "    f.write(html_content)"
      ],
      "metadata": {
        "id": "nheOINjh1XTK"
      },
      "execution_count": 137,
      "outputs": []
    },
    {
      "cell_type": "code",
      "source": [],
      "metadata": {
        "id": "dcGY9FJc10oY"
      },
      "execution_count": null,
      "outputs": []
    }
  ]
}