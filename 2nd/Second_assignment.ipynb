{
  "nbformat": 4,
  "nbformat_minor": 0,
  "metadata": {
    "colab": {
      "provenance": []
    },
    "kernelspec": {
      "name": "python3",
      "display_name": "Python 3"
    },
    "language_info": {
      "name": "python"
    }
  },
  "cells": [
    {
      "cell_type": "markdown",
      "source": [
        "# Języki Obiektowe I - Python"
      ],
      "metadata": {
        "id": "eWrcDz6asxLB"
      }
    },
    {
      "cell_type": "markdown",
      "source": [
        "**Filip Koźlik** \\\\\n",
        "*Informatyka st. II hybrydowo*"
      ],
      "metadata": {
        "id": "YRXnqigbsztc"
      }
    },
    {
      "cell_type": "markdown",
      "source": [
        "**Task 1**\n",
        "1. Write a class Deck, which will contain another class - the class Card, which spells out the following requirements:\n",
        "- type (Diamonds, Hearts, Clubs, Spades)\n",
        "- value (A,2,3,4,5,6,7,8,9,10,J,Q,K)\n",
        "2. Add methods:\n",
        "- deal, to take a single card from the deck - the card after dealing is removed from the deck\n",
        "- reshuffle, which ensures that the Deck consists of 52 cards and arranges them randomly"
      ],
      "metadata": {
        "id": "yVwy0NBDsviX"
      }
    },
    {
      "cell_type": "code",
      "source": [
        "%%file card_enums.py\n",
        "from enum import Enum\n",
        "class CardType(Enum):\n",
        "  \"\"\"\n",
        "  Declaring enum for card types.\n",
        "  \"\"\"\n",
        "  DIAMONDS: str = '♦'\n",
        "  HEARTS: str = '♥'\n",
        "  CLUBS: str = '♣'\n",
        "  SPADES: str = '♠'\n",
        "\n",
        "class CardValue(Enum):\n",
        "  \"\"\"\n",
        "  Declaring enum for card values.\n",
        "  \"\"\"\n",
        "  TWO: str = '2'\n",
        "  THREE: str = '3'\n",
        "  FOUR: str = '4'\n",
        "  FIVE: str = '5'\n",
        "  SIX: str = '6'\n",
        "  SEVEN: str = '7'\n",
        "  EIGHT: str = '8'\n",
        "  NINE: str = '9'\n",
        "  TEN: str = '10'\n",
        "  JACK: str = 'J'\n",
        "  QUEEN: str = 'Q'\n",
        "  KING: str = 'K'\n",
        "  ACE: str = 'A'"
      ],
      "metadata": {
        "id": "z08-YfdmIWhB",
        "colab": {
          "base_uri": "https://localhost:8080/"
        },
        "outputId": "de96feb2-874f-4e9c-c306-48c20b0a89bc"
      },
      "execution_count": 1,
      "outputs": [
        {
          "output_type": "stream",
          "name": "stdout",
          "text": [
            "Overwriting card_enums.py\n"
          ]
        }
      ]
    },
    {
      "cell_type": "code",
      "source": [
        "%%file card.py\n",
        "from random import shuffle\n",
        "from dataclasses import dataclass\n",
        "@dataclass\n",
        "class Card:\n",
        "  \"\"\"\n",
        "  Dataclass for representing Card object.\n",
        "  Fields:\n",
        "      card_value (__str__): One of enumerable value from CardValue Enum.\n",
        "      card_type (__str__): One of enumerable value from CardType Enum.\n",
        "  \"\"\"\n",
        "  card_value: str\n",
        "  card_type: str\n",
        "\n",
        "  def __repr__(self) -> str:\n",
        "    \"\"\"\n",
        "    Class method that modfiies way of object representation.\n",
        "\n",
        "    Returns:\n",
        "          str: String representation of Card object description.\n",
        "    \"\"\"\n",
        "    return f'{self.card_value}{self.card_type}'\n"
      ],
      "metadata": {
        "id": "d7UPRwmNJ0hl",
        "colab": {
          "base_uri": "https://localhost:8080/"
        },
        "outputId": "578b8612-f64a-4bbe-8e94-b0727216ae71"
      },
      "execution_count": 2,
      "outputs": [
        {
          "output_type": "stream",
          "name": "stdout",
          "text": [
            "Overwriting card.py\n"
          ]
        }
      ]
    },
    {
      "cell_type": "code",
      "source": [
        "%%file test_card.py\n",
        "from card import Card\n",
        "from card_enums import CardValue, CardType\n",
        "import pytest\n",
        "from _pytest.mark import param\n",
        "\n",
        "@pytest.fixture(params=[cv for cv in (CardValue)])\n",
        "def card_value(request):\n",
        "  \"\"\"\n",
        "  Declaring fixture for card value.\n",
        "  \"\"\"\n",
        "  return request.param\n",
        "\n",
        "@pytest.fixture(params=[ct for ct in (CardType)])\n",
        "def card_type(request):\n",
        "  \"\"\"\n",
        "  Declaring fixture for card type.\n",
        "  \"\"\"\n",
        "  return request.param\n",
        "\n",
        "@pytest.fixture\n",
        "def card_instance(card_value, card_type):\n",
        "  return Card(card_value, card_type)\n",
        "\n",
        "def test_card_value(card_instance, card_value):\n",
        "  \"\"\"\n",
        "  Test function to check whether object is created propperly.\n",
        "  Testing card_value propperty.\n",
        "  \"\"\"\n",
        "  assert card_instance.card_value == card_value\n",
        "\n",
        "def test_card_type(card_instance, card_type):\n",
        "  \"\"\"\n",
        "  Test function to check whether object is created propperly.\n",
        "  Testing card_type propperty.\n",
        "  \"\"\"\n",
        "  assert card_instance.card_type == card_type"
      ],
      "metadata": {
        "colab": {
          "base_uri": "https://localhost:8080/"
        },
        "id": "zL9I_pmGrR0D",
        "outputId": "32c356de-01d0-4349-f748-038390c5a7b8"
      },
      "execution_count": 3,
      "outputs": [
        {
          "output_type": "stream",
          "name": "stdout",
          "text": [
            "Overwriting test_card.py\n"
          ]
        }
      ]
    },
    {
      "cell_type": "code",
      "source": [
        "!python -m pytest test_card.py -v"
      ],
      "metadata": {
        "colab": {
          "base_uri": "https://localhost:8080/"
        },
        "id": "g9Gv2DWEsiQf",
        "outputId": "750a52e2-2d76-4db0-8e37-fd5432d2456f"
      },
      "execution_count": 4,
      "outputs": [
        {
          "output_type": "stream",
          "name": "stdout",
          "text": [
            "\u001b[1m============================= test session starts ==============================\u001b[0m\n",
            "platform linux -- Python 3.9.16, pytest-7.2.2, pluggy-1.0.0 -- /usr/bin/python3\n",
            "cachedir: .pytest_cache\n",
            "rootdir: /content\n",
            "plugins: anyio-3.6.2\n",
            "\u001b[1mcollecting ... \u001b[0m\u001b[1m\rcollected 104 items                                                            \u001b[0m\n",
            "\n",
            "test_card.py::test_card_value[CardValue.TWO-CardType.DIAMONDS] \u001b[32mPASSED\u001b[0m\u001b[32m    [  0%]\u001b[0m\n",
            "test_card.py::test_card_value[CardValue.TWO-CardType.HEARTS] \u001b[32mPASSED\u001b[0m\u001b[32m      [  1%]\u001b[0m\n",
            "test_card.py::test_card_value[CardValue.TWO-CardType.CLUBS] \u001b[32mPASSED\u001b[0m\u001b[32m       [  2%]\u001b[0m\n",
            "test_card.py::test_card_value[CardValue.TWO-CardType.SPADES] \u001b[32mPASSED\u001b[0m\u001b[32m      [  3%]\u001b[0m\n",
            "test_card.py::test_card_value[CardValue.THREE-CardType.DIAMONDS] \u001b[32mPASSED\u001b[0m\u001b[32m  [  4%]\u001b[0m\n",
            "test_card.py::test_card_value[CardValue.THREE-CardType.HEARTS] \u001b[32mPASSED\u001b[0m\u001b[32m    [  5%]\u001b[0m\n",
            "test_card.py::test_card_value[CardValue.THREE-CardType.CLUBS] \u001b[32mPASSED\u001b[0m\u001b[32m     [  6%]\u001b[0m\n",
            "test_card.py::test_card_value[CardValue.THREE-CardType.SPADES] \u001b[32mPASSED\u001b[0m\u001b[32m    [  7%]\u001b[0m\n",
            "test_card.py::test_card_value[CardValue.FOUR-CardType.DIAMONDS] \u001b[32mPASSED\u001b[0m\u001b[32m   [  8%]\u001b[0m\n",
            "test_card.py::test_card_value[CardValue.FOUR-CardType.HEARTS] \u001b[32mPASSED\u001b[0m\u001b[32m     [  9%]\u001b[0m\n",
            "test_card.py::test_card_value[CardValue.FOUR-CardType.CLUBS] \u001b[32mPASSED\u001b[0m\u001b[32m      [ 10%]\u001b[0m\n",
            "test_card.py::test_card_value[CardValue.FOUR-CardType.SPADES] \u001b[32mPASSED\u001b[0m\u001b[32m     [ 11%]\u001b[0m\n",
            "test_card.py::test_card_value[CardValue.FIVE-CardType.DIAMONDS] \u001b[32mPASSED\u001b[0m\u001b[32m   [ 12%]\u001b[0m\n",
            "test_card.py::test_card_value[CardValue.FIVE-CardType.HEARTS] \u001b[32mPASSED\u001b[0m\u001b[32m     [ 13%]\u001b[0m\n",
            "test_card.py::test_card_value[CardValue.FIVE-CardType.CLUBS] \u001b[32mPASSED\u001b[0m\u001b[32m      [ 14%]\u001b[0m\n",
            "test_card.py::test_card_value[CardValue.FIVE-CardType.SPADES] \u001b[32mPASSED\u001b[0m\u001b[32m     [ 15%]\u001b[0m\n",
            "test_card.py::test_card_value[CardValue.SIX-CardType.DIAMONDS] \u001b[32mPASSED\u001b[0m\u001b[32m    [ 16%]\u001b[0m\n",
            "test_card.py::test_card_value[CardValue.SIX-CardType.HEARTS] \u001b[32mPASSED\u001b[0m\u001b[32m      [ 17%]\u001b[0m\n",
            "test_card.py::test_card_value[CardValue.SIX-CardType.CLUBS] \u001b[32mPASSED\u001b[0m\u001b[32m       [ 18%]\u001b[0m\n",
            "test_card.py::test_card_value[CardValue.SIX-CardType.SPADES] \u001b[32mPASSED\u001b[0m\u001b[32m      [ 19%]\u001b[0m\n",
            "test_card.py::test_card_value[CardValue.SEVEN-CardType.DIAMONDS] \u001b[32mPASSED\u001b[0m\u001b[32m  [ 20%]\u001b[0m\n",
            "test_card.py::test_card_value[CardValue.SEVEN-CardType.HEARTS] \u001b[32mPASSED\u001b[0m\u001b[32m    [ 21%]\u001b[0m\n",
            "test_card.py::test_card_value[CardValue.SEVEN-CardType.CLUBS] \u001b[32mPASSED\u001b[0m\u001b[32m     [ 22%]\u001b[0m\n",
            "test_card.py::test_card_value[CardValue.SEVEN-CardType.SPADES] \u001b[32mPASSED\u001b[0m\u001b[32m    [ 23%]\u001b[0m\n",
            "test_card.py::test_card_value[CardValue.EIGHT-CardType.DIAMONDS] \u001b[32mPASSED\u001b[0m\u001b[32m  [ 24%]\u001b[0m\n",
            "test_card.py::test_card_value[CardValue.EIGHT-CardType.HEARTS] \u001b[32mPASSED\u001b[0m\u001b[32m    [ 25%]\u001b[0m\n",
            "test_card.py::test_card_value[CardValue.EIGHT-CardType.CLUBS] \u001b[32mPASSED\u001b[0m\u001b[32m     [ 25%]\u001b[0m\n",
            "test_card.py::test_card_value[CardValue.EIGHT-CardType.SPADES] \u001b[32mPASSED\u001b[0m\u001b[32m    [ 26%]\u001b[0m\n",
            "test_card.py::test_card_value[CardValue.NINE-CardType.DIAMONDS] \u001b[32mPASSED\u001b[0m\u001b[32m   [ 27%]\u001b[0m\n",
            "test_card.py::test_card_value[CardValue.NINE-CardType.HEARTS] \u001b[32mPASSED\u001b[0m\u001b[32m     [ 28%]\u001b[0m\n",
            "test_card.py::test_card_value[CardValue.NINE-CardType.CLUBS] \u001b[32mPASSED\u001b[0m\u001b[32m      [ 29%]\u001b[0m\n",
            "test_card.py::test_card_value[CardValue.NINE-CardType.SPADES] \u001b[32mPASSED\u001b[0m\u001b[32m     [ 30%]\u001b[0m\n",
            "test_card.py::test_card_value[CardValue.TEN-CardType.DIAMONDS] \u001b[32mPASSED\u001b[0m\u001b[32m    [ 31%]\u001b[0m\n",
            "test_card.py::test_card_value[CardValue.TEN-CardType.HEARTS] \u001b[32mPASSED\u001b[0m\u001b[32m      [ 32%]\u001b[0m\n",
            "test_card.py::test_card_value[CardValue.TEN-CardType.CLUBS] \u001b[32mPASSED\u001b[0m\u001b[32m       [ 33%]\u001b[0m\n",
            "test_card.py::test_card_value[CardValue.TEN-CardType.SPADES] \u001b[32mPASSED\u001b[0m\u001b[32m      [ 34%]\u001b[0m\n",
            "test_card.py::test_card_value[CardValue.JACK-CardType.DIAMONDS] \u001b[32mPASSED\u001b[0m\u001b[32m   [ 35%]\u001b[0m\n",
            "test_card.py::test_card_value[CardValue.JACK-CardType.HEARTS] \u001b[32mPASSED\u001b[0m\u001b[32m     [ 36%]\u001b[0m\n",
            "test_card.py::test_card_value[CardValue.JACK-CardType.CLUBS] \u001b[32mPASSED\u001b[0m\u001b[32m      [ 37%]\u001b[0m\n",
            "test_card.py::test_card_value[CardValue.JACK-CardType.SPADES] \u001b[32mPASSED\u001b[0m\u001b[32m     [ 38%]\u001b[0m\n",
            "test_card.py::test_card_value[CardValue.QUEEN-CardType.DIAMONDS] \u001b[32mPASSED\u001b[0m\u001b[32m  [ 39%]\u001b[0m\n",
            "test_card.py::test_card_value[CardValue.QUEEN-CardType.HEARTS] \u001b[32mPASSED\u001b[0m\u001b[32m    [ 40%]\u001b[0m\n",
            "test_card.py::test_card_value[CardValue.QUEEN-CardType.CLUBS] \u001b[32mPASSED\u001b[0m\u001b[32m     [ 41%]\u001b[0m\n",
            "test_card.py::test_card_value[CardValue.QUEEN-CardType.SPADES] \u001b[32mPASSED\u001b[0m\u001b[32m    [ 42%]\u001b[0m\n",
            "test_card.py::test_card_value[CardValue.KING-CardType.DIAMONDS] \u001b[32mPASSED\u001b[0m\u001b[32m   [ 43%]\u001b[0m\n",
            "test_card.py::test_card_value[CardValue.KING-CardType.HEARTS] \u001b[32mPASSED\u001b[0m\u001b[32m     [ 44%]\u001b[0m\n",
            "test_card.py::test_card_value[CardValue.KING-CardType.CLUBS] \u001b[32mPASSED\u001b[0m\u001b[32m      [ 45%]\u001b[0m\n",
            "test_card.py::test_card_value[CardValue.KING-CardType.SPADES] \u001b[32mPASSED\u001b[0m\u001b[32m     [ 46%]\u001b[0m\n",
            "test_card.py::test_card_value[CardValue.ACE-CardType.DIAMONDS] \u001b[32mPASSED\u001b[0m\u001b[32m    [ 47%]\u001b[0m\n",
            "test_card.py::test_card_value[CardValue.ACE-CardType.HEARTS] \u001b[32mPASSED\u001b[0m\u001b[32m      [ 48%]\u001b[0m\n",
            "test_card.py::test_card_value[CardValue.ACE-CardType.CLUBS] \u001b[32mPASSED\u001b[0m\u001b[32m       [ 49%]\u001b[0m\n",
            "test_card.py::test_card_value[CardValue.ACE-CardType.SPADES] \u001b[32mPASSED\u001b[0m\u001b[32m      [ 50%]\u001b[0m\n",
            "test_card.py::test_card_type[CardType.DIAMONDS-CardValue.TWO] \u001b[32mPASSED\u001b[0m\u001b[32m     [ 50%]\u001b[0m\n",
            "test_card.py::test_card_type[CardType.DIAMONDS-CardValue.THREE] \u001b[32mPASSED\u001b[0m\u001b[32m   [ 51%]\u001b[0m\n",
            "test_card.py::test_card_type[CardType.DIAMONDS-CardValue.FOUR] \u001b[32mPASSED\u001b[0m\u001b[32m    [ 52%]\u001b[0m\n",
            "test_card.py::test_card_type[CardType.DIAMONDS-CardValue.FIVE] \u001b[32mPASSED\u001b[0m\u001b[32m    [ 53%]\u001b[0m\n",
            "test_card.py::test_card_type[CardType.DIAMONDS-CardValue.SIX] \u001b[32mPASSED\u001b[0m\u001b[32m     [ 54%]\u001b[0m\n",
            "test_card.py::test_card_type[CardType.DIAMONDS-CardValue.SEVEN] \u001b[32mPASSED\u001b[0m\u001b[32m   [ 55%]\u001b[0m\n",
            "test_card.py::test_card_type[CardType.DIAMONDS-CardValue.EIGHT] \u001b[32mPASSED\u001b[0m\u001b[32m   [ 56%]\u001b[0m\n",
            "test_card.py::test_card_type[CardType.DIAMONDS-CardValue.NINE] \u001b[32mPASSED\u001b[0m\u001b[32m    [ 57%]\u001b[0m\n",
            "test_card.py::test_card_type[CardType.DIAMONDS-CardValue.TEN] \u001b[32mPASSED\u001b[0m\u001b[32m     [ 58%]\u001b[0m\n",
            "test_card.py::test_card_type[CardType.DIAMONDS-CardValue.JACK] \u001b[32mPASSED\u001b[0m\u001b[32m    [ 59%]\u001b[0m\n",
            "test_card.py::test_card_type[CardType.DIAMONDS-CardValue.QUEEN] \u001b[32mPASSED\u001b[0m\u001b[32m   [ 60%]\u001b[0m\n",
            "test_card.py::test_card_type[CardType.DIAMONDS-CardValue.KING] \u001b[32mPASSED\u001b[0m\u001b[32m    [ 61%]\u001b[0m\n",
            "test_card.py::test_card_type[CardType.DIAMONDS-CardValue.ACE] \u001b[32mPASSED\u001b[0m\u001b[32m     [ 62%]\u001b[0m\n",
            "test_card.py::test_card_type[CardType.HEARTS-CardValue.TWO] \u001b[32mPASSED\u001b[0m\u001b[32m       [ 63%]\u001b[0m\n",
            "test_card.py::test_card_type[CardType.HEARTS-CardValue.THREE] \u001b[32mPASSED\u001b[0m\u001b[32m     [ 64%]\u001b[0m\n",
            "test_card.py::test_card_type[CardType.HEARTS-CardValue.FOUR] \u001b[32mPASSED\u001b[0m\u001b[32m      [ 65%]\u001b[0m\n",
            "test_card.py::test_card_type[CardType.HEARTS-CardValue.FIVE] \u001b[32mPASSED\u001b[0m\u001b[32m      [ 66%]\u001b[0m\n",
            "test_card.py::test_card_type[CardType.HEARTS-CardValue.SIX] \u001b[32mPASSED\u001b[0m\u001b[32m       [ 67%]\u001b[0m\n",
            "test_card.py::test_card_type[CardType.HEARTS-CardValue.SEVEN] \u001b[32mPASSED\u001b[0m\u001b[32m     [ 68%]\u001b[0m\n",
            "test_card.py::test_card_type[CardType.HEARTS-CardValue.EIGHT] \u001b[32mPASSED\u001b[0m\u001b[32m     [ 69%]\u001b[0m\n",
            "test_card.py::test_card_type[CardType.HEARTS-CardValue.NINE] \u001b[32mPASSED\u001b[0m\u001b[32m      [ 70%]\u001b[0m\n",
            "test_card.py::test_card_type[CardType.HEARTS-CardValue.TEN] \u001b[32mPASSED\u001b[0m\u001b[32m       [ 71%]\u001b[0m\n",
            "test_card.py::test_card_type[CardType.HEARTS-CardValue.JACK] \u001b[32mPASSED\u001b[0m\u001b[32m      [ 72%]\u001b[0m\n",
            "test_card.py::test_card_type[CardType.HEARTS-CardValue.QUEEN] \u001b[32mPASSED\u001b[0m\u001b[32m     [ 73%]\u001b[0m\n",
            "test_card.py::test_card_type[CardType.HEARTS-CardValue.KING] \u001b[32mPASSED\u001b[0m\u001b[32m      [ 74%]\u001b[0m\n",
            "test_card.py::test_card_type[CardType.HEARTS-CardValue.ACE] \u001b[32mPASSED\u001b[0m\u001b[32m       [ 75%]\u001b[0m\n",
            "test_card.py::test_card_type[CardType.CLUBS-CardValue.TWO] \u001b[32mPASSED\u001b[0m\u001b[32m        [ 75%]\u001b[0m\n",
            "test_card.py::test_card_type[CardType.CLUBS-CardValue.THREE] \u001b[32mPASSED\u001b[0m\u001b[32m      [ 76%]\u001b[0m\n",
            "test_card.py::test_card_type[CardType.CLUBS-CardValue.FOUR] \u001b[32mPASSED\u001b[0m\u001b[32m       [ 77%]\u001b[0m\n",
            "test_card.py::test_card_type[CardType.CLUBS-CardValue.FIVE] \u001b[32mPASSED\u001b[0m\u001b[32m       [ 78%]\u001b[0m\n",
            "test_card.py::test_card_type[CardType.CLUBS-CardValue.SIX] \u001b[32mPASSED\u001b[0m\u001b[32m        [ 79%]\u001b[0m\n",
            "test_card.py::test_card_type[CardType.CLUBS-CardValue.SEVEN] \u001b[32mPASSED\u001b[0m\u001b[32m      [ 80%]\u001b[0m\n",
            "test_card.py::test_card_type[CardType.CLUBS-CardValue.EIGHT] \u001b[32mPASSED\u001b[0m\u001b[32m      [ 81%]\u001b[0m\n",
            "test_card.py::test_card_type[CardType.CLUBS-CardValue.NINE] \u001b[32mPASSED\u001b[0m\u001b[32m       [ 82%]\u001b[0m\n",
            "test_card.py::test_card_type[CardType.CLUBS-CardValue.TEN] \u001b[32mPASSED\u001b[0m\u001b[32m        [ 83%]\u001b[0m\n",
            "test_card.py::test_card_type[CardType.CLUBS-CardValue.JACK] \u001b[32mPASSED\u001b[0m\u001b[32m       [ 84%]\u001b[0m\n",
            "test_card.py::test_card_type[CardType.CLUBS-CardValue.QUEEN] \u001b[32mPASSED\u001b[0m\u001b[32m      [ 85%]\u001b[0m\n",
            "test_card.py::test_card_type[CardType.CLUBS-CardValue.KING] \u001b[32mPASSED\u001b[0m\u001b[32m       [ 86%]\u001b[0m\n",
            "test_card.py::test_card_type[CardType.CLUBS-CardValue.ACE] \u001b[32mPASSED\u001b[0m\u001b[32m        [ 87%]\u001b[0m\n",
            "test_card.py::test_card_type[CardType.SPADES-CardValue.TWO] \u001b[32mPASSED\u001b[0m\u001b[32m       [ 88%]\u001b[0m\n",
            "test_card.py::test_card_type[CardType.SPADES-CardValue.THREE] \u001b[32mPASSED\u001b[0m\u001b[32m     [ 89%]\u001b[0m\n",
            "test_card.py::test_card_type[CardType.SPADES-CardValue.FOUR] \u001b[32mPASSED\u001b[0m\u001b[32m      [ 90%]\u001b[0m\n",
            "test_card.py::test_card_type[CardType.SPADES-CardValue.FIVE] \u001b[32mPASSED\u001b[0m\u001b[32m      [ 91%]\u001b[0m\n",
            "test_card.py::test_card_type[CardType.SPADES-CardValue.SIX] \u001b[32mPASSED\u001b[0m\u001b[32m       [ 92%]\u001b[0m\n",
            "test_card.py::test_card_type[CardType.SPADES-CardValue.SEVEN] \u001b[32mPASSED\u001b[0m\u001b[32m     [ 93%]\u001b[0m\n",
            "test_card.py::test_card_type[CardType.SPADES-CardValue.EIGHT] \u001b[32mPASSED\u001b[0m\u001b[32m     [ 94%]\u001b[0m\n",
            "test_card.py::test_card_type[CardType.SPADES-CardValue.NINE] \u001b[32mPASSED\u001b[0m\u001b[32m      [ 95%]\u001b[0m\n",
            "test_card.py::test_card_type[CardType.SPADES-CardValue.TEN] \u001b[32mPASSED\u001b[0m\u001b[32m       [ 96%]\u001b[0m\n",
            "test_card.py::test_card_type[CardType.SPADES-CardValue.JACK] \u001b[32mPASSED\u001b[0m\u001b[32m      [ 97%]\u001b[0m\n",
            "test_card.py::test_card_type[CardType.SPADES-CardValue.QUEEN] \u001b[32mPASSED\u001b[0m\u001b[32m     [ 98%]\u001b[0m\n",
            "test_card.py::test_card_type[CardType.SPADES-CardValue.KING] \u001b[32mPASSED\u001b[0m\u001b[32m      [ 99%]\u001b[0m\n",
            "test_card.py::test_card_type[CardType.SPADES-CardValue.ACE] \u001b[32mPASSED\u001b[0m\u001b[32m       [100%]\u001b[0m\n",
            "\n",
            "\u001b[32m============================= \u001b[32m\u001b[1m104 passed\u001b[0m\u001b[32m in 0.27s\u001b[0m\u001b[32m ==============================\u001b[0m\n"
          ]
        }
      ]
    },
    {
      "cell_type": "code",
      "source": [
        "%%file card_deck.py\n",
        "from card import Card\n",
        "from card_enums import CardType, CardValue\n",
        "from dataclasses import dataclass, field\n",
        "from random import shuffle\n",
        "\n",
        "@dataclass\n",
        "class CardDeck:\n",
        "  \"\"\"\n",
        "  Dataclass for representing Card Deck object.\n",
        "  \"\"\"\n",
        "  card_collection: list[Card] = field(default=list[Card], init=False)\n",
        "  \n",
        "  def __post_init__(self) -> None:\n",
        "    \"\"\"\n",
        "    Post init for CardDeck class that sets up the card collection.\n",
        "    \"\"\"\n",
        "    self.card_collection = [Card(card_value.value, card_type.value)\\\n",
        "                                for card_type in (CardType)\\\n",
        "                                    for card_value in (CardValue)]\n",
        "        \n",
        "\n",
        "  def hand_over_the_card(self) -> Card:\n",
        "    \"\"\"\n",
        "    Class method that returns card at the top of the deck.\n",
        "\n",
        "    Returns:\n",
        "          Card: Card object at the top of the deck. First element at the collection.\n",
        "    \"\"\"\n",
        "    if self.card_collection:\n",
        "      return self.card_collection.pop(0)\n",
        "    else:\n",
        "      print('Deck is empty!')\n",
        "\n",
        "  def shuffle_deck(self) -> None:\n",
        "    \"\"\"\n",
        "    Class method that shuffles the entire collection of cards in random way.\n",
        "    \"\"\"\n",
        "    shuffle(self.card_collection)"
      ],
      "metadata": {
        "colab": {
          "base_uri": "https://localhost:8080/"
        },
        "id": "F2QAODPgo645",
        "outputId": "e4b56dbf-d7e5-4539-ee1e-0712b2b8fb79"
      },
      "execution_count": 5,
      "outputs": [
        {
          "output_type": "stream",
          "name": "stdout",
          "text": [
            "Overwriting card_deck.py\n"
          ]
        }
      ]
    },
    {
      "cell_type": "code",
      "source": [
        "%%file test_card_deck.py\n",
        "from card_deck import CardDeck\n",
        "import pytest\n",
        "\n",
        "@pytest.fixture\n",
        "def card_deck_instance():\n",
        "  \"\"\"\n",
        "  Declaring fixture for CardDeck instance.\n",
        "  \"\"\"\n",
        "  return CardDeck()\n",
        "\n",
        "def test_length_of_card_deck(card_deck_instance):\n",
        "  \"\"\"\n",
        "  Test function to check whether at the beggining card deck has 52 length.\n",
        "  \"\"\"\n",
        "  assert len(card_deck_instance.card_collection) == 52\n",
        "\n",
        "def test_shuffle_deck(card_deck_instance):\n",
        "  \"\"\"\n",
        "  Test function to check whether order of object is diffrent after calling shuffle_deck method.\n",
        "  \"\"\"\n",
        "  assert not card_deck_instance.shuffle_deck == card_deck_instance.card_collection\n",
        "\n",
        "def test_hand_over_the_card(card_deck_instance):\n",
        "  \"\"\"\n",
        "  Test function to check whether hand overed card is no longer at the card collection.\n",
        "  \"\"\"\n",
        "  test_card = card_deck_instance.hand_over_the_card()\n",
        "  assert not test_card in card_deck_instance.card_collection\n"
      ],
      "metadata": {
        "colab": {
          "base_uri": "https://localhost:8080/"
        },
        "id": "oCh7iunvpVY3",
        "outputId": "feced5e5-b0f5-4b54-c5f7-a94b9bea1abe"
      },
      "execution_count": 6,
      "outputs": [
        {
          "output_type": "stream",
          "name": "stdout",
          "text": [
            "Overwriting test_card_deck.py\n"
          ]
        }
      ]
    },
    {
      "cell_type": "code",
      "source": [
        "!python -m pytest test_card_deck.py -v"
      ],
      "metadata": {
        "colab": {
          "base_uri": "https://localhost:8080/"
        },
        "id": "nDWjZUTjvbYu",
        "outputId": "4f81de40-e87c-498f-b928-6ed987ca4bba"
      },
      "execution_count": 7,
      "outputs": [
        {
          "output_type": "stream",
          "name": "stdout",
          "text": [
            "\u001b[1m============================= test session starts ==============================\u001b[0m\n",
            "platform linux -- Python 3.9.16, pytest-7.2.2, pluggy-1.0.0 -- /usr/bin/python3\n",
            "cachedir: .pytest_cache\n",
            "rootdir: /content\n",
            "plugins: anyio-3.6.2\n",
            "\u001b[1mcollecting ... \u001b[0m\u001b[1m\rcollected 3 items                                                              \u001b[0m\n",
            "\n",
            "test_card_deck.py::test_length_of_card_deck \u001b[32mPASSED\u001b[0m\u001b[32m                       [ 33%]\u001b[0m\n",
            "test_card_deck.py::test_shuffle_deck \u001b[32mPASSED\u001b[0m\u001b[32m                              [ 66%]\u001b[0m\n",
            "test_card_deck.py::test_hand_over_the_card \u001b[32mPASSED\u001b[0m\u001b[32m                        [100%]\u001b[0m\n",
            "\n",
            "\u001b[32m============================== \u001b[32m\u001b[1m3 passed\u001b[0m\u001b[32m in 0.04s\u001b[0m\u001b[32m ===============================\u001b[0m\n"
          ]
        }
      ]
    },
    {
      "cell_type": "code",
      "source": [
        "from card_deck import CardDeck\n",
        "cd = CardDeck()\n",
        "print('---------BEFORE-SHUFFLING------------')\n",
        "print(cd.card_collection)\n",
        "cd.shuffle_deck()\n",
        "print('--------AFTER-SHUFFLING------------')\n",
        "print(cd.card_collection)\n",
        "print('\\n')\n",
        "\n",
        "print('--------HAMD-OVER-CARD---------')\n",
        "c1 = cd.hand_over_the_card()\n",
        "print(f'Hand overed card: {c1}')\n",
        "print('---------COLLECTION-AFTER-CARD-POP--------------')\n",
        "print(cd.card_collection)"
      ],
      "metadata": {
        "colab": {
          "base_uri": "https://localhost:8080/"
        },
        "id": "zHiQ5m7DM8xv",
        "outputId": "7e0371e5-89e2-4fc4-9258-fe1fd1ad6774"
      },
      "execution_count": 8,
      "outputs": [
        {
          "output_type": "stream",
          "name": "stdout",
          "text": [
            "---------BEFORE-SHUFFLING------------\n",
            "[2♦, 3♦, 4♦, 5♦, 6♦, 7♦, 8♦, 9♦, 10♦, J♦, Q♦, K♦, A♦, 2♥, 3♥, 4♥, 5♥, 6♥, 7♥, 8♥, 9♥, 10♥, J♥, Q♥, K♥, A♥, 2♣, 3♣, 4♣, 5♣, 6♣, 7♣, 8♣, 9♣, 10♣, J♣, Q♣, K♣, A♣, 2♠, 3♠, 4♠, 5♠, 6♠, 7♠, 8♠, 9♠, 10♠, J♠, Q♠, K♠, A♠]\n",
            "--------AFTER-SHUFFLING------------\n",
            "[10♦, 8♠, 6♣, A♥, 4♥, A♣, 5♣, 3♠, 10♣, J♥, K♥, J♠, 6♦, Q♦, 4♣, 2♣, Q♠, 10♠, 5♦, J♦, A♦, 8♥, K♠, 3♣, 2♠, 6♥, 7♥, A♠, 3♥, 7♠, 5♠, 7♦, 2♥, 3♦, Q♥, 6♠, 4♦, 2♦, Q♣, 5♥, 10♥, K♦, 4♠, K♣, 9♣, 8♦, 9♥, 7♣, 8♣, J♣, 9♠, 9♦]\n",
            "\n",
            "\n",
            "--------HAMD-OVER-CARD---------\n",
            "Hand overed card: 10♦\n",
            "---------COLLECTION-AFTER-CARD-POP--------------\n",
            "[8♠, 6♣, A♥, 4♥, A♣, 5♣, 3♠, 10♣, J♥, K♥, J♠, 6♦, Q♦, 4♣, 2♣, Q♠, 10♠, 5♦, J♦, A♦, 8♥, K♠, 3♣, 2♠, 6♥, 7♥, A♠, 3♥, 7♠, 5♠, 7♦, 2♥, 3♦, Q♥, 6♠, 4♦, 2♦, Q♣, 5♥, 10♥, K♦, 4♠, K♣, 9♣, 8♦, 9♥, 7♣, 8♣, J♣, 9♠, 9♦]\n"
          ]
        }
      ]
    },
    {
      "cell_type": "markdown",
      "source": [
        "**Task 2**\n",
        "1. Write a Vehicle class that meets the following requirements:\n",
        "- contains the max speed field\n",
        "- contains the mileage field (number of kilometers, to be driven on one liter)\n",
        "- displays: (240, 18)\n",
        "2. Write a derived class Bus that:\n",
        "- contains the name field\n",
        "- contains field speed max\n",
        "- contains the field mileage (number of kilometers, to be driven on one liter)\n",
        "- displays: (\"School Volvo\", 180, 12)\n",
        "3. Extend the Bus class so that:\n",
        "- extend the arguments to total capacity with a default value of 50\n",
        "- overload some, needed methods\n",
        "- test\n",
        "4. Write a Car class that inherits all the parameters\n",
        "5. In the Vehicle class, add a class attribute color with a default value of white, to be inherited by the Bus and\n",
        "Car\n",
        "- Add (\"Audi Q5\", 240. 18) and (\"School Volvo\", 180, 12).\n",
        "6. Extend the Vehicle class as follows:\n",
        "- add the Fee attribute, which you calculate by multiplying the number of seats by 100, and if the vehicle is in the Bus class, you add another\n",
        "10 percent of the fee"
      ],
      "metadata": {
        "id": "zPcyurfUxdxb"
      }
    },
    {
      "cell_type": "code",
      "source": [
        "%%file vehicle.py\n",
        "from dataclasses import dataclass, field\n",
        "@dataclass\n",
        "class Vehicle:\n",
        "  \"\"\"\n",
        "  Dataclass representation of Vehicle.\n",
        "  Fields:\n",
        "      _max_speed (__int__): Private field specifying max speed of vehicle.\n",
        "      _mileage (__int__): Private field specifying mileage (number of km, to be driven on one liter) of vehicle.\n",
        "      _color (__str__): Private field specifying color of the vehicle.\n",
        "      _number_of_seats (__int__): Private field specifying number of seats at vehicle.\n",
        "  Returns:\n",
        "      float: Calculated vale of fee for vehicle.\n",
        "  Raise:\n",
        "      ValueError: Occures when trying to set value below 0. \n",
        "      TypeError: Occures when trying to set wrong type of value.\n",
        "  \"\"\"\n",
        "  # ! Declaring private/ protected variables\n",
        "  _max_speed: int = field(default=int, init=False)\n",
        "  _mileage: int = field(default=int, init=False)\n",
        "  _color: str = field(default_factory=lambda: 'White', init=False)\n",
        "  _numer_of_seats: int =  field(default=int, init=False)\n",
        "\n",
        "  @property\n",
        "  def max_speed(self) -> int:\n",
        "    \"\"\"\n",
        "    Getter for property _max_speed.\n",
        "    \"\"\"\n",
        "    return self._max_speed\n",
        "\n",
        "  @max_speed.setter\n",
        "  def max_speed(self, max_speed: int) -> None:\n",
        "    \"\"\"\n",
        "    Setter for property _max_speed.\n",
        "    \"\"\"\n",
        "    if isinstance(max_speed, (int, float)):\n",
        "      if max_speed > 0:\n",
        "        self._max_speed = max_speed\n",
        "      else:\n",
        "        raise ValueError(f'Provided value is lower or equal 0!')\n",
        "    else:\n",
        "      raise TypeError(f'Wrong type provided: {type(max_speed)}!')\n",
        "\n",
        "  @property\n",
        "  def mileage(self) -> int:\n",
        "    \"\"\"\n",
        "    Getter for property _mileage.\n",
        "    \"\"\"\n",
        "    return self._mileage\n",
        "\n",
        "  @mileage.setter\n",
        "  def mileage(self, mileage: int) -> None:\n",
        "    \"\"\"\n",
        "    Setter for property _mileage.\n",
        "    \"\"\"\n",
        "    if isinstance(mileage, (int, float)):\n",
        "      if mileage > 0:\n",
        "        self._mileage = mileage\n",
        "      else:\n",
        "        raise ValueError(f'Provided value is lower or equal 0!')\n",
        "    else:\n",
        "      raise TypeError(f'Wrong type provided: {type(mileage)}!')\n",
        "\n",
        "  @property\n",
        "  def color(self) -> str:\n",
        "    \"\"\"\n",
        "    Getter for property _color.\n",
        "    \"\"\"\n",
        "    return self._color\n",
        "\n",
        "  @color.setter\n",
        "  def color(self, color: str) -> None:\n",
        "    \"\"\"\n",
        "    Setter for porperty _color.\n",
        "    \"\"\"\n",
        "    if isinstance(color, str):\n",
        "      self._color = color\n",
        "    else:\n",
        "      raise TypeError(f'Wrong type provided: {type(color)}!')\n",
        "\n",
        "  @property\n",
        "  def number_of_seats(self) -> int:\n",
        "    \"\"\"\n",
        "    Getter for property _number_of_seats.\n",
        "    \"\"\"\n",
        "    return self._number_of_seats\n",
        "\n",
        "  @number_of_seats.setter\n",
        "  def number_of_seats(self, number_of_seats: int) -> None:\n",
        "    \"\"\"\n",
        "    Setter for propert _number_of_seats.\n",
        "    \"\"\"\n",
        "    if isinstance(number_of_seats, int):\n",
        "      if number_of_seats >= 1:\n",
        "        self._number_of_seats = number_of_seats\n",
        "      else:\n",
        "        raise ValueError(f'Could not set given property for value lower than 1: {number_of_seats}!')\n",
        "    else:\n",
        "      raise TypeError(f'Wrong type provided: {type(number_of_seats)}!')\n",
        "\n",
        "  def fee(self) -> float:\n",
        "    \"\"\"\n",
        "    Class method for calculating fee based on declared pattern in task content.\n",
        "    \"\"\"\n",
        "    return self._number_of_seats * 100\n",
        "\n",
        "  def __repr__(self) -> str:\n",
        "    \"\"\"\n",
        "    Overriding default repr method.\n",
        "    \"\"\"\n",
        "    return  f\"\"\"Max speed: {self._max_speed} km/h\\n\n",
        "              Mileage: {self._mileage}l\\n\n",
        "              Color: {self.color}\\n\n",
        "              Number of seats: {self.number_of_seats}\"\"\""
      ],
      "metadata": {
        "id": "GZe-xONaxdL7",
        "colab": {
          "base_uri": "https://localhost:8080/"
        },
        "outputId": "b0d10141-55bd-4f2f-d245-eec35fc6dc89"
      },
      "execution_count": 9,
      "outputs": [
        {
          "output_type": "stream",
          "name": "stdout",
          "text": [
            "Overwriting vehicle.py\n"
          ]
        }
      ]
    },
    {
      "cell_type": "code",
      "source": [
        "%%file test_vehicle.py\n",
        "from vehicle import Vehicle\n",
        "import pytest\n",
        "\n",
        "# Declaring fixtures\n",
        "\n",
        "@pytest.fixture\n",
        "def max_speed():\n",
        "  \"\"\"\n",
        "  Declaring fixture for max_speed property, test case = 250.\n",
        "  \"\"\"\n",
        "  return 250\n",
        "\n",
        "@pytest.fixture\n",
        "def mileage():\n",
        "  \"\"\"\n",
        "  Declaring fixture for mileage property, test case = 18.\n",
        "  \"\"\"\n",
        "  return 18\n",
        "\n",
        "@pytest.fixture\n",
        "def color():\n",
        "  \"\"\"\n",
        "  Declaring fixture for color property, test case = 'Red'.\n",
        "  \"\"\"\n",
        "  return 'Red'\n",
        "\n",
        "@pytest.fixture\n",
        "def number_of_seats():\n",
        "  \"\"\"\n",
        "  Declaring fixture for number_of_seats property. test case = 4.\n",
        "  \"\"\"\n",
        "  return 5\n",
        "\n",
        "@pytest.fixture\n",
        "def v_instance():\n",
        "  \"\"\"\n",
        "  Declaring fixture for returning instance of Vehicle class.\n",
        "  \"\"\"\n",
        "  return Vehicle()\n",
        "\n",
        "# Testing max_speed property\n",
        "\n",
        "def test_max_speed_property(max_speed, v_instance):\n",
        "  \"\"\"\n",
        "  Test function to check whether max_speed property works propperly.\n",
        "  \"\"\"\n",
        "  v_instance.max_speed = max_speed\n",
        "  assert v_instance.max_speed == max_speed\n",
        "\n",
        "def test_max_speed_property_type_error(v_instance):\n",
        "  \"\"\"\n",
        "  Test function to check whether for max_speed property and passed str input we're getting expected error.\n",
        "  \"\"\"\n",
        "  with pytest.raises(TypeError):\n",
        "    v_instance.max_speed = 'abc'\n",
        "\n",
        "def test_max_speed_property_value_error(v_instance):\n",
        "  \"\"\"\n",
        "  Test function to check whether for max_speed property and passed value below 0 we're getting expected error.\n",
        "  \"\"\"\n",
        "  with pytest.raises(ValueError):\n",
        "    v_instance.max_speed = -5\n",
        "\n",
        "# Test mileage property\n",
        "\n",
        "def test_mileage_property(mileage, v_instance):\n",
        "  \"\"\"\n",
        "  Test function to check whether mileage property works propperly.\n",
        "  \"\"\"\n",
        "  v_instance.mileage = mileage\n",
        "  assert v_instance.mileage == mileage\n",
        "\n",
        "def test_mileage_property_type_error(v_instance):\n",
        "  \"\"\"\n",
        "  Test function to check whether for mileage property and passed str input we're getting expected error.\n",
        "  \"\"\"\n",
        "  with pytest.raises(TypeError):\n",
        "    v_instance.mileage = 'abc'\n",
        "\n",
        "def test_mileage_property_value_error(v_instance):\n",
        "  \"\"\"\n",
        "  Test function to check whether for max_speed property and passed value below 0 we're getting expected error.\n",
        "  \"\"\"\n",
        "  with pytest.raises(ValueError):\n",
        "    v_instance.mileage = -5\n",
        "\n",
        "# Test color property\n",
        "\n",
        "def test_color_property(v_instance, color):\n",
        "  \"\"\"\n",
        "  Test function to check whether color property is working propperly.\n",
        "  \"\"\"\n",
        "  v_instance.color = color\n",
        "  assert v_instance.color == color\n",
        "\n",
        "def test_color_property_type_error(v_instance):\n",
        "  \"\"\"\n",
        "  Test function to check whether for color property and passed int input we're getting expected error.\n",
        "  \"\"\"\n",
        "  with pytest.raises(TypeError):\n",
        "    v_instance.color = 150\n",
        "\n",
        "# Test number_of_seats property\n",
        "def test_number_of_seats_propert(v_instance, number_of_seats):\n",
        "  \"\"\"\n",
        "  Test function to check whether number_of_seats property is working propperly.\n",
        "  \"\"\"\n",
        "  v_instance.number_of_seats = number_of_seats\n",
        "  assert v_instance.number_of_seats == number_of_seats\n",
        "\n",
        "def test_number_of_seats_type_error(v_instance):\n",
        "  \"\"\"\n",
        "  Test function to check whether for number_of_seats property and passed str input we're getting expected error.\n",
        "  \"\"\"\n",
        "  with pytest.raises(TypeError):\n",
        "    v_instance.number_of_seats = 'Blue'\n",
        "\n",
        "def test_number_of_seats_value_error(v_instance):\n",
        "  \"\"\"\n",
        "  Test function to check whether for number_of_seats property and passed negative value we're getting expected error.\n",
        "  \"\"\"\n",
        "  with pytest.raises(ValueError):\n",
        "    v_instance.number_of_seats = -5\n",
        "\n",
        "# Test fee method\n",
        "def test_fee(v_instance, number_of_seats):\n",
        "  \"\"\"\n",
        "  Test function to check whether fee for vehicle is calculated propperly.\n",
        "  \"\"\"\n",
        "  raw_calculated = number_of_seats * 100\n",
        "  v_instance.number_of_seats = number_of_seats\n",
        "  assert v_instance.fee() == raw_calculated"
      ],
      "metadata": {
        "colab": {
          "base_uri": "https://localhost:8080/"
        },
        "id": "CX64cwzmE8hf",
        "outputId": "6af75f0f-bcf5-4fa5-a72d-d9455d74f266"
      },
      "execution_count": 10,
      "outputs": [
        {
          "output_type": "stream",
          "name": "stdout",
          "text": [
            "Overwriting test_vehicle.py\n"
          ]
        }
      ]
    },
    {
      "cell_type": "code",
      "source": [
        "!python -m pytest test_vehicle.py -v"
      ],
      "metadata": {
        "colab": {
          "base_uri": "https://localhost:8080/"
        },
        "id": "dcE0Z_J9GcIZ",
        "outputId": "292fa248-931d-4589-bcd1-2ff220950f6e"
      },
      "execution_count": 11,
      "outputs": [
        {
          "output_type": "stream",
          "name": "stdout",
          "text": [
            "\u001b[1m============================= test session starts ==============================\u001b[0m\n",
            "platform linux -- Python 3.9.16, pytest-7.2.2, pluggy-1.0.0 -- /usr/bin/python3\n",
            "cachedir: .pytest_cache\n",
            "rootdir: /content\n",
            "plugins: anyio-3.6.2\n",
            "\u001b[1mcollecting ... \u001b[0m\u001b[1m\rcollected 12 items                                                             \u001b[0m\n",
            "\n",
            "test_vehicle.py::test_max_speed_property \u001b[32mPASSED\u001b[0m\u001b[32m                          [  8%]\u001b[0m\n",
            "test_vehicle.py::test_max_speed_property_type_error \u001b[32mPASSED\u001b[0m\u001b[32m               [ 16%]\u001b[0m\n",
            "test_vehicle.py::test_max_speed_property_value_error \u001b[32mPASSED\u001b[0m\u001b[32m              [ 25%]\u001b[0m\n",
            "test_vehicle.py::test_mileage_property \u001b[32mPASSED\u001b[0m\u001b[32m                            [ 33%]\u001b[0m\n",
            "test_vehicle.py::test_mileage_property_type_error \u001b[32mPASSED\u001b[0m\u001b[32m                 [ 41%]\u001b[0m\n",
            "test_vehicle.py::test_mileage_property_value_error \u001b[32mPASSED\u001b[0m\u001b[32m                [ 50%]\u001b[0m\n",
            "test_vehicle.py::test_color_property \u001b[32mPASSED\u001b[0m\u001b[32m                              [ 58%]\u001b[0m\n",
            "test_vehicle.py::test_color_property_type_error \u001b[32mPASSED\u001b[0m\u001b[32m                   [ 66%]\u001b[0m\n",
            "test_vehicle.py::test_number_of_seats_propert \u001b[32mPASSED\u001b[0m\u001b[32m                     [ 75%]\u001b[0m\n",
            "test_vehicle.py::test_number_of_seats_type_error \u001b[32mPASSED\u001b[0m\u001b[32m                  [ 83%]\u001b[0m\n",
            "test_vehicle.py::test_number_of_seats_value_error \u001b[32mPASSED\u001b[0m\u001b[32m                 [ 91%]\u001b[0m\n",
            "test_vehicle.py::test_fee \u001b[32mPASSED\u001b[0m\u001b[32m                                         [100%]\u001b[0m\n",
            "\n",
            "\u001b[32m============================== \u001b[32m\u001b[1m12 passed\u001b[0m\u001b[32m in 0.06s\u001b[0m\u001b[32m ==============================\u001b[0m\n"
          ]
        }
      ]
    },
    {
      "cell_type": "code",
      "source": [
        "from vehicle import Vehicle\n",
        "v1 = Vehicle()\n",
        "v1.max_speed = 240\n",
        "v1.mileage = 18\n",
        "v1.number_of_seats = 5\n",
        "print('-----BEFORE-SETTING-COLOR------')\n",
        "print(v1)\n",
        "print('------AFTER-SETTTING-COLOR------')\n",
        "v1.color = 'Blue'\n",
        "print(v1)\n",
        "print(f'Fee: {v1.fee()}')"
      ],
      "metadata": {
        "colab": {
          "base_uri": "https://localhost:8080/"
        },
        "id": "r4M1bv_2EeGo",
        "outputId": "c6ade9a1-3101-4b1d-ef6c-e747d6505e3d"
      },
      "execution_count": 12,
      "outputs": [
        {
          "output_type": "stream",
          "name": "stdout",
          "text": [
            "-----BEFORE-SETTING-COLOR------\n",
            "Max speed: 240 km/h\n",
            "\n",
            "              Mileage: 18l\n",
            "\n",
            "              Color: White\n",
            "\n",
            "              Number of seats: 5\n",
            "------AFTER-SETTTING-COLOR------\n",
            "Max speed: 240 km/h\n",
            "\n",
            "              Mileage: 18l\n",
            "\n",
            "              Color: Blue\n",
            "\n",
            "              Number of seats: 5\n",
            "Fee: 500\n"
          ]
        }
      ]
    },
    {
      "cell_type": "code",
      "source": [
        "%%file bus.py\n",
        "from dataclasses import dataclass, field\n",
        "from vehicle import Vehicle\n",
        "\n",
        "@dataclass\n",
        "class Bus(Vehicle):\n",
        "  \"\"\"\n",
        "  Dataclass representation of derived class Bus.\n",
        "  Fields:\n",
        "      _name (__str__): Private field representating name of the bus.\n",
        "      _total_capacity (__int__): Private field specifying total capactiy of bus.\n",
        "  Returns:\n",
        "      float: Calculated fee increased by 10%.\n",
        "  Raise:\n",
        "      ValueError: Occures when trying to set value below 0. \n",
        "      TypeError: Occures when trying to set wrong type of value.\n",
        "  \"\"\"\n",
        "\n",
        "  # ! Declaring private/ protected fields for dervied class Bus.\n",
        "  _name: str = field(default=str, init=False)\n",
        "  _total_capacity: int = field(default_factory=lambda: 50, init=False)\n",
        "\n",
        "  @property\n",
        "  def name(self) -> str:\n",
        "    \"\"\"\n",
        "    Getter for property _name.\n",
        "    \"\"\"\n",
        "    return self._name\n",
        "\n",
        "  @name.setter\n",
        "  def name(self, name: str) -> None:\n",
        "    \"\"\"\n",
        "    Setter for property _name.\n",
        "    \"\"\"\n",
        "    if isinstance(name, str):\n",
        "      self._name = name\n",
        "    else:\n",
        "      raise TypeError(f'Provided variable type: {type(name)} could not be assigned to name property!')\n",
        "\n",
        "  @property\n",
        "  def total_capacity(self) -> int:\n",
        "    \"\"\"\n",
        "    Getter for property _total_capacity.\n",
        "    \"\"\"\n",
        "    return self._total_capacity\n",
        "\n",
        "  @total_capacity.setter\n",
        "  def total_capacity(self, total_capacity: int) -> None:\n",
        "    \"\"\"\n",
        "    Setter for property _total_capacity.\n",
        "    \"\"\"\n",
        "    if isinstance(total_capacity, (int, float)):\n",
        "      if total_capacity > 0:\n",
        "        self._total_capacity = total_capacity\n",
        "      else:\n",
        "        raise ValueError('Total capacity can not be lower than 0!')\n",
        "    else:\n",
        "      raise TypeError(f'Provided variable type: {type(total_capacity)} could not be assigned to total_capacity property!')\n",
        "\n",
        "  def fee(self) -> float:\n",
        "    \"\"\"\n",
        "    Overriden method fee derivated from Vehicle class.\n",
        "    Returns:\n",
        "        float: Increased value of fee by 10%.\n",
        "    \"\"\"\n",
        "    if isinstance(self, Bus):\n",
        "      base =  super().fee()\n",
        "      return round(base * 1.1, 2)\n",
        "\n",
        "  def __repr__(self) -> str:\n",
        "    \"\"\"\n",
        "    Overriding string representation of an object, so new fields can be printed out.\n",
        "    \"\"\"\n",
        "    return f\"\"\"Bus Name: {self._name} \\n\n",
        "               Color: {self.color} \\n\n",
        "               Max speed: {self._max_speed} km/h \\n\n",
        "               Mileage: {self._mileage}l \\n\n",
        "               Number of seats: {self.number_of_seats}\\n\n",
        "               Total Capacity: {self._total_capacity}\n",
        "               \"\"\""
      ],
      "metadata": {
        "id": "-xceA46QEnN1",
        "colab": {
          "base_uri": "https://localhost:8080/"
        },
        "outputId": "62510a68-13b1-45e8-bd13-d702fe4eb17b"
      },
      "execution_count": 13,
      "outputs": [
        {
          "output_type": "stream",
          "name": "stdout",
          "text": [
            "Overwriting bus.py\n"
          ]
        }
      ]
    },
    {
      "cell_type": "code",
      "source": [
        "%%file test_bus.py\n",
        "from pygments.token import Number\n",
        "from bus import Bus\n",
        "import pytest\n",
        "\n",
        "@pytest.fixture\n",
        "def name():\n",
        "  \"\"\"\n",
        "  Declaring fixture for name property. Test case = 'School Volvo'.\n",
        "  \"\"\"\n",
        "  return 'School Volvo'\n",
        "\n",
        "@pytest.fixture\n",
        "def total_capacity():\n",
        "  \"\"\"\n",
        "  Declaring fixture for total_capacity property. Test case = 150.\n",
        "  \"\"\"\n",
        "  return 150\n",
        "\n",
        "@pytest.fixture\n",
        "def bus_instance():\n",
        "  \"\"\"\n",
        "  Declaring fixture for Bus class instance.\n",
        "  \"\"\"\n",
        "  return Bus()\n",
        "\n",
        "# Testing total_capacity property\n",
        "\n",
        "def test_total_capacity_start_value(bus_instance):\n",
        "  \"\"\"\n",
        "  Test function to check whether start value of total_capacity property is 50.\n",
        "  \"\"\"\n",
        "  assert bus_instance.total_capacity == 50\n",
        "\n",
        "def test_total_capacity_property(bus_instance, total_capacity):\n",
        "  \"\"\"\n",
        "  Test function to check whether total_capacity property works propperly.\n",
        "  \"\"\"\n",
        "  bus_instance.total_capacity = total_capacity\n",
        "  assert bus_instance.total_capacity == total_capacity\n",
        "\n",
        "def test_total_capacity_property_type_error(bus_instance):\n",
        "  \"\"\"\n",
        "  Test function to check whether we're getting expected error for wrong input.\n",
        "  \"\"\"\n",
        "  with pytest.raises(TypeError):\n",
        "    bus_instance.total_capacity = 'abc'\n",
        "\n",
        "def test_total_capacity_property_value_error(bus_instance):\n",
        "  \"\"\"\n",
        "  Test function to check whether we're getting expected error for wrong input.\n",
        "  \"\"\"\n",
        "  with pytest.raises(ValueError):\n",
        "    bus_instance.total_capacity = -5\n",
        "\n",
        "# Testing name property\n",
        "def test_name_property(bus_instance, name):\n",
        "    \"\"\"\n",
        "    Test function to check whether name property works propperly.\n",
        "    \"\"\"\n",
        "    bus_instance.name = name\n",
        "    assert bus_instance.name == name\n",
        "\n",
        "def test_name_property_type_error(bus_instance):\n",
        "  \"\"\"\n",
        "  Test function to check whether we're getting expected error for wrong input.\n",
        "  \"\"\"\n",
        "  with pytest.raises(TypeError):\n",
        "    bus_instance.name = 150\n",
        "\n",
        "# Testing fee method\n",
        "def test_fee(bus_instance):\n",
        "  \"\"\"\n",
        "  Test function to check whether fee method in Bus class is propperly increased by 10%.\n",
        "  \"\"\"\n",
        "  number_of_seats: int = 5\n",
        "  raw_calculated = 5*100 + 0.1*(5*100)\n",
        "  bus_instance.number_of_seats = 5\n",
        "  assert bus_instance.fee() == raw_calculated"
      ],
      "metadata": {
        "colab": {
          "base_uri": "https://localhost:8080/"
        },
        "id": "tLK2_umaVP1P",
        "outputId": "911db11d-76c8-471c-9659-626e942bde06"
      },
      "execution_count": 14,
      "outputs": [
        {
          "output_type": "stream",
          "name": "stdout",
          "text": [
            "Overwriting test_bus.py\n"
          ]
        }
      ]
    },
    {
      "cell_type": "code",
      "source": [
        "!python -m pytest test_bus.py -v"
      ],
      "metadata": {
        "colab": {
          "base_uri": "https://localhost:8080/"
        },
        "id": "eU_m5XZlW8gh",
        "outputId": "6a950652-71d5-4c3c-ca80-369aa2bb04a4"
      },
      "execution_count": 15,
      "outputs": [
        {
          "output_type": "stream",
          "name": "stdout",
          "text": [
            "\u001b[1m============================= test session starts ==============================\u001b[0m\n",
            "platform linux -- Python 3.9.16, pytest-7.2.2, pluggy-1.0.0 -- /usr/bin/python3\n",
            "cachedir: .pytest_cache\n",
            "rootdir: /content\n",
            "plugins: anyio-3.6.2\n",
            "\u001b[1mcollecting ... \u001b[0m\u001b[1m\rcollected 7 items                                                              \u001b[0m\n",
            "\n",
            "test_bus.py::test_total_capacity_start_value \u001b[32mPASSED\u001b[0m\u001b[32m                      [ 14%]\u001b[0m\n",
            "test_bus.py::test_total_capacity_property \u001b[32mPASSED\u001b[0m\u001b[32m                         [ 28%]\u001b[0m\n",
            "test_bus.py::test_total_capacity_property_type_error \u001b[32mPASSED\u001b[0m\u001b[32m              [ 42%]\u001b[0m\n",
            "test_bus.py::test_total_capacity_property_value_error \u001b[32mPASSED\u001b[0m\u001b[32m             [ 57%]\u001b[0m\n",
            "test_bus.py::test_name_property \u001b[32mPASSED\u001b[0m\u001b[32m                                   [ 71%]\u001b[0m\n",
            "test_bus.py::test_name_property_type_error \u001b[32mPASSED\u001b[0m\u001b[32m                        [ 85%]\u001b[0m\n",
            "test_bus.py::test_fee \u001b[32mPASSED\u001b[0m\u001b[32m                                             [100%]\u001b[0m\n",
            "\n",
            "\u001b[32m============================== \u001b[32m\u001b[1m7 passed\u001b[0m\u001b[32m in 0.04s\u001b[0m\u001b[32m ===============================\u001b[0m\n"
          ]
        }
      ]
    },
    {
      "cell_type": "code",
      "source": [
        "from bus import Bus\n",
        "b = Bus()\n",
        "# Setting name\n",
        "b.name = 'School Volvo'\n",
        "\n",
        "# Setting max speed\n",
        "b.max_speed = 180\n",
        "\n",
        "# Setting mileage\n",
        "b.mileage = 12\n",
        "\n",
        "# Setting color\n",
        "b.color = 'Blue'\n",
        "\n",
        "# Setting number of seats\n",
        "b.number_of_seats = 20\n",
        "\n",
        "# Without setting total capacity\n",
        "print(b)\n",
        "print('-------------------')\n",
        "# After setting total capacity\n",
        "b.total_capacity = 75\n",
        "print(b)\n",
        "\n",
        "print(f'Bus fee: {b.fee()}')"
      ],
      "metadata": {
        "colab": {
          "base_uri": "https://localhost:8080/"
        },
        "id": "B8xtbb2yS87-",
        "outputId": "4fe0726d-a1bd-4b31-cb83-d605494224f1"
      },
      "execution_count": 16,
      "outputs": [
        {
          "output_type": "stream",
          "name": "stdout",
          "text": [
            "Bus Name: School Volvo \n",
            "\n",
            "               Color: Blue \n",
            "\n",
            "               Max speed: 180 km/h \n",
            "\n",
            "               Mileage: 12l \n",
            "\n",
            "               Number of seats: 20\n",
            "\n",
            "               Total Capacity: 50\n",
            "               \n",
            "-------------------\n",
            "Bus Name: School Volvo \n",
            "\n",
            "               Color: Blue \n",
            "\n",
            "               Max speed: 180 km/h \n",
            "\n",
            "               Mileage: 12l \n",
            "\n",
            "               Number of seats: 20\n",
            "\n",
            "               Total Capacity: 75\n",
            "               \n",
            "Bus fee: 2200.0\n"
          ]
        }
      ]
    },
    {
      "cell_type": "code",
      "source": [
        "%%file car.py\n",
        "from bus import Bus\n",
        "from dataclasses import dataclass\n",
        "\n",
        "@dataclass\n",
        "class Car(Bus):\n",
        "  \"\"\"\n",
        "  Dataclass representation of derived class Car.\n",
        "  Returns:\n",
        "      float: Base value of fee.\n",
        "  \"\"\"\n",
        "  def fee(self) -> float:\n",
        "    \"\"\"\n",
        "    Base value of fee.\n",
        "    \"\"\"\n",
        "    return self.number_of_seats * 100\n",
        "\n",
        "  def __repr__(self) -> str:\n",
        "    \"\"\"\n",
        "    Overriding string representation method.\n",
        "    \"\"\"\n",
        "    return f\"\"\"Car Name: {self._name} \\n\n",
        "               Color: {self.color} \\n\n",
        "               Max speed: {self._max_speed} km/h \\n\n",
        "               Mileage: {self._mileage}l \\n\n",
        "               Number of seats: {self.number_of_seats}\\n\n",
        "               Total Capacity: {self._total_capacity}\"\"\""
      ],
      "metadata": {
        "colab": {
          "base_uri": "https://localhost:8080/"
        },
        "id": "j74pgVeAU8LT",
        "outputId": "dca054f2-3cf1-4cea-a093-bbbc81f2a967"
      },
      "execution_count": 17,
      "outputs": [
        {
          "output_type": "stream",
          "name": "stdout",
          "text": [
            "Overwriting car.py\n"
          ]
        }
      ]
    },
    {
      "cell_type": "markdown",
      "source": [
        "Due to the lack of new fields/ methods - no tests for the Car class"
      ],
      "metadata": {
        "id": "wkulNSRlgfzf"
      }
    },
    {
      "cell_type": "code",
      "source": [
        "from car import Car\n",
        "c = Car()\n",
        "\n",
        "# Setting attributes\n",
        "c.name = 'Audi A4'\n",
        "c.max_speed = 240\n",
        "c.mileage = 7.5\n",
        "c.color = 'Black'\n",
        "c.number_of_seats = 5\n",
        "\n",
        "# Before setting total capacity property\n",
        "print(c)\n",
        "print('--------------')\n",
        "\n",
        "# After setting total capacity property\n",
        "c.total_capacity = 60\n",
        "print(c)\n",
        "\n",
        "# Fee\n",
        "print(f'Car fee: {c.fee()}')"
      ],
      "metadata": {
        "colab": {
          "base_uri": "https://localhost:8080/"
        },
        "id": "FHTPw77efrg1",
        "outputId": "66563ff5-f39e-4aa5-ca68-3ea5c732033f"
      },
      "execution_count": 18,
      "outputs": [
        {
          "output_type": "stream",
          "name": "stdout",
          "text": [
            "Car Name: Audi A4 \n",
            "\n",
            "               Color: Black \n",
            "\n",
            "               Max speed: 240 km/h \n",
            "\n",
            "               Mileage: 7.5l \n",
            "\n",
            "               Number of seats: 5\n",
            "\n",
            "               Total Capacity: 50\n",
            "--------------\n",
            "Car Name: Audi A4 \n",
            "\n",
            "               Color: Black \n",
            "\n",
            "               Max speed: 240 km/h \n",
            "\n",
            "               Mileage: 7.5l \n",
            "\n",
            "               Number of seats: 5\n",
            "\n",
            "               Total Capacity: 60\n",
            "Car fee: 500\n"
          ]
        }
      ]
    },
    {
      "cell_type": "code",
      "source": [],
      "metadata": {
        "id": "ubSXQ_3_gdJf"
      },
      "execution_count": 18,
      "outputs": []
    }
  ]
}