{
  "nbformat": 4,
  "nbformat_minor": 0,
  "metadata": {
    "colab": {
      "provenance": []
    },
    "kernelspec": {
      "name": "python3",
      "display_name": "Python 3"
    },
    "language_info": {
      "name": "python"
    }
  },
  "cells": [
    {
      "cell_type": "markdown",
      "source": [
        "# Języki Obiektowe I - Python\n"
      ],
      "metadata": {
        "id": "e1gh7QkiLqAs"
      }
    },
    {
      "cell_type": "markdown",
      "source": [
        "**Filip Koźlik** \\\\\n",
        "*Informatyka st. II hybrydowo*"
      ],
      "metadata": {
        "id": "zlpNp10JMByE"
      }
    },
    {
      "cell_type": "markdown",
      "source": [
        "**Task 1**\\\n",
        "Write a function to encrypt the contents of a file using Caesar cipher. Use the _ord()_ and\n",
        "_chr()_, which respectively return the numeric value of a character and convert a number to a character."
      ],
      "metadata": {
        "id": "Ie6m6WdWMGE1"
      }
    },
    {
      "cell_type": "code",
      "source": [
        "%%file caesar_cipher.py\n",
        "def caesar_cipher_encrypt(message: str, shift: int) -> str:\n",
        "    \"\"\"\n",
        "    Function to encrypt provided message using Caesar cipher.\n",
        "\n",
        "    Args:\n",
        "      message (__str__): String representation of message to encrypt.\n",
        "      shift (__int__): Value to shift.\n",
        "    \"\"\"\n",
        "    encrypted_text = \"\"\n",
        "    for char in message:\n",
        "        if char.isalpha():\n",
        "            base = ord('A') if char.isupper() else ord('a')\n",
        "            encrypted_char = chr((ord(char) - base + shift) % 26 + base)\n",
        "        else:\n",
        "            encrypted_char = char\n",
        "\n",
        "        encrypted_text += encrypted_char\n",
        "\n",
        "    return encrypted_text"
      ],
      "metadata": {
        "colab": {
          "base_uri": "https://localhost:8080/"
        },
        "id": "3xhcr-kDL1Jg",
        "outputId": "361c8440-086e-484c-c740-ae96b1df7a3c"
      },
      "execution_count": 1,
      "outputs": [
        {
          "output_type": "stream",
          "name": "stdout",
          "text": [
            "Writing caesar_cipher.py\n"
          ]
        }
      ]
    },
    {
      "cell_type": "code",
      "source": [
        "%%file test_caesar_cipher.py\n",
        "import pytest\n",
        "from caesar_cipher import caesar_cipher_encrypt\n",
        "\n",
        "def test_caesar_cipher_encrypt():\n",
        "    \"\"\"\n",
        "    Test function to check whether provided string has been modified.\n",
        "    \"\"\"\n",
        "    plaintext = \"Hello, World!\"\n",
        "    shift = 3\n",
        "    assert caesar_cipher_encrypt(plaintext, shift) != plaintext\n",
        "\n",
        "def test_encrypted_text_length():\n",
        "    \"\"\"\n",
        "    Test function to check whether length of provided string and encrypted message are the same.\n",
        "    \"\"\"\n",
        "    plaintext = \"Hello, World!\"\n",
        "    shift = 5\n",
        "    assert len(plaintext) == len(caesar_cipher_encrypt(plaintext, shift))\n"
      ],
      "metadata": {
        "colab": {
          "base_uri": "https://localhost:8080/"
        },
        "id": "Ck9jjSQHNfPM",
        "outputId": "bb46e6e4-9c86-42b4-882b-99e27d3c0e53"
      },
      "execution_count": 6,
      "outputs": [
        {
          "output_type": "stream",
          "name": "stdout",
          "text": [
            "Overwriting test_caesar_cipher.py\n"
          ]
        }
      ]
    },
    {
      "cell_type": "code",
      "source": [
        "!python -m pytest test_caesar_cipher.py -v"
      ],
      "metadata": {
        "colab": {
          "base_uri": "https://localhost:8080/"
        },
        "id": "VKHIlrlWNmwb",
        "outputId": "b1984728-f58f-406c-bb07-65b9e4a9c9f8"
      },
      "execution_count": 7,
      "outputs": [
        {
          "output_type": "stream",
          "name": "stdout",
          "text": [
            "\u001b[1m============================= test session starts ==============================\u001b[0m\n",
            "platform linux -- Python 3.10.11, pytest-7.2.2, pluggy-1.0.0 -- /usr/bin/python3\n",
            "cachedir: .pytest_cache\n",
            "rootdir: /content\n",
            "plugins: anyio-3.6.2\n",
            "\u001b[1mcollecting ... \u001b[0m\u001b[1m\rcollected 2 items                                                              \u001b[0m\n",
            "\n",
            "test_caesar_cipher.py::test_caesar_cipher_encrypt \u001b[32mPASSED\u001b[0m\u001b[32m                 [ 50%]\u001b[0m\n",
            "test_caesar_cipher.py::test_encrypted_text_length \u001b[32mPASSED\u001b[0m\u001b[32m                 [100%]\u001b[0m\n",
            "\n",
            "\u001b[32m============================== \u001b[32m\u001b[1m2 passed\u001b[0m\u001b[32m in 0.02s\u001b[0m\u001b[32m ===============================\u001b[0m\n"
          ]
        }
      ]
    },
    {
      "cell_type": "code",
      "source": [
        "from caesar_cipher import caesar_cipher_encrypt\n",
        "caesar_cipher_encrypt(\"To jest wiadomosc do zaszyfrowania\", 15)"
      ],
      "metadata": {
        "colab": {
          "base_uri": "https://localhost:8080/",
          "height": 35
        },
        "id": "Sz3pE-T9MvZP",
        "outputId": "ec6fa784-3aa0-4409-f9e4-dc764e859308"
      },
      "execution_count": 8,
      "outputs": [
        {
          "output_type": "execute_result",
          "data": {
            "text/plain": [
              "'Id ythi lxpsdbdhr sd ophonugdlpcxp'"
            ],
            "application/vnd.google.colaboratory.intrinsic+json": {
              "type": "string"
            }
          },
          "metadata": {},
          "execution_count": 8
        }
      ]
    },
    {
      "cell_type": "markdown",
      "source": [
        "**Task 2**\\\n",
        "Using the %timeit documentation function, check which procedure is faster:\n",
        "- ista with sines whose arguments are consecutive integers (in the range 0 - 10^6\n",
        ") created using the functions\n",
        "math.sin and np.sin\n",
        "- ista with values [0...10 ∗ ∗6] + 1 created with a list expression and using the numpy library"
      ],
      "metadata": {
        "id": "H4AL7P0zMzxJ"
      }
    },
    {
      "cell_type": "code",
      "source": [
        "%%file time_comparsion.py\n",
        "import math\n",
        "import numpy as np\n",
        "\n",
        "def create_list_math() -> list[float]:\n",
        "    \"\"\"\n",
        "    Function that creates values of sin using math library.\n",
        "\n",
        "    Returns:\n",
        "      list[float]: List of sin values.\n",
        "    \"\"\"\n",
        "    return [math.sin(x) for x in range(10**6 + 1)]\n",
        "\n",
        "def create_list_numpy() -> list[float]:\n",
        "    \"\"\"\n",
        "    Function that creates values of sin using numpy library.\n",
        "\n",
        "    Returns:\n",
        "      list[float]: List of sin values.\n",
        "    \"\"\"\n",
        "    return np.sin(np.arange(10**6 + 1))"
      ],
      "metadata": {
        "colab": {
          "base_uri": "https://localhost:8080/"
        },
        "id": "lBe8hAWXzM00",
        "outputId": "254e6a9c-994a-419b-e472-ea6bc7597ecb"
      },
      "execution_count": 11,
      "outputs": [
        {
          "output_type": "stream",
          "name": "stdout",
          "text": [
            "Overwriting time_comparsion.py\n"
          ]
        }
      ]
    },
    {
      "cell_type": "code",
      "source": [
        "%%file test_time_comparsion.py\n",
        "from time_comparsion import create_list_numpy, create_list_math\n",
        "import numpy as np\n",
        "import pytest\n",
        "\n",
        "def test_create_list_math():\n",
        "    \"\"\"\n",
        "    Test function for math function to check whether:\n",
        "    1. Length of results is expected 10**6,\n",
        "    2. Instance of an object included in returned list is float.\n",
        "    \"\"\"\n",
        "    result = create_list_math()\n",
        "    assert len(result) == 10**6 + 1\n",
        "    assert all(isinstance(x, float) for x in result)\n",
        "\n",
        "def test_create_list_numpy():\n",
        "    \"\"\"\n",
        "    Test function for numpy function to check whether:\n",
        "    1. Length of results is expected 10**6,\n",
        "    2. Instance of an object included in returned list is float.\n",
        "    \"\"\"\n",
        "    result = create_list_numpy()\n",
        "    assert len(result) == 10**6 + 1\n",
        "    assert isinstance(result, np.ndarray)"
      ],
      "metadata": {
        "colab": {
          "base_uri": "https://localhost:8080/"
        },
        "id": "_i0D578V0uq8",
        "outputId": "f648037c-b2e6-4d1f-84f7-8d73141e0d5e"
      },
      "execution_count": 14,
      "outputs": [
        {
          "output_type": "stream",
          "name": "stdout",
          "text": [
            "Overwriting test_time_comparsion.py\n"
          ]
        }
      ]
    },
    {
      "cell_type": "code",
      "source": [
        "!python -m pytest test_time_comparsion.py -v"
      ],
      "metadata": {
        "colab": {
          "base_uri": "https://localhost:8080/"
        },
        "id": "K2joSA8J1Zta",
        "outputId": "ebc430e8-b4f4-4a44-a8d4-8af1d24ad618"
      },
      "execution_count": 15,
      "outputs": [
        {
          "output_type": "stream",
          "name": "stdout",
          "text": [
            "\u001b[1m============================= test session starts ==============================\u001b[0m\n",
            "platform linux -- Python 3.10.11, pytest-7.2.2, pluggy-1.0.0 -- /usr/bin/python3\n",
            "cachedir: .pytest_cache\n",
            "rootdir: /content\n",
            "plugins: anyio-3.6.2\n",
            "\u001b[1mcollecting ... \u001b[0m\u001b[1m\rcollected 2 items                                                              \u001b[0m\n",
            "\n",
            "test_time_comparsion.py::test_create_list_math \u001b[32mPASSED\u001b[0m\u001b[32m                    [ 50%]\u001b[0m\n",
            "test_time_comparsion.py::test_create_list_numpy \u001b[32mPASSED\u001b[0m\u001b[32m                   [100%]\u001b[0m\n",
            "\n",
            "\u001b[32m============================== \u001b[32m\u001b[1m2 passed\u001b[0m\u001b[32m in 0.56s\u001b[0m\u001b[32m ===============================\u001b[0m\n"
          ]
        }
      ]
    },
    {
      "cell_type": "code",
      "source": [
        "from time_comparsion import create_list_numpy, create_list_math\n",
        "math_time = %timeit -r 3 -n 100 create_list_math()\n",
        "numpy_time = %timeit -r 3 -n 100 create_list_numpy()"
      ],
      "metadata": {
        "colab": {
          "base_uri": "https://localhost:8080/"
        },
        "id": "p2Rlijffz4K3",
        "outputId": "4b67aee1-6c1c-42b3-c3bc-63df5535f7bf"
      },
      "execution_count": 16,
      "outputs": [
        {
          "output_type": "stream",
          "name": "stdout",
          "text": [
            "168 ms ± 3.22 ms per loop (mean ± std. dev. of 3 runs, 100 loops each)\n",
            "21.5 ms ± 4.95 ms per loop (mean ± std. dev. of 3 runs, 100 loops each)\n"
          ]
        }
      ]
    },
    {
      "cell_type": "markdown",
      "source": [
        "**Task 3**\\\n",
        "In the body of the task, the full wording of the command is missing."
      ],
      "metadata": {
        "id": "7vvbzaZZz_BW"
      }
    },
    {
      "cell_type": "markdown",
      "source": [
        "**Task 4**\\\n",
        "Write a function that generates a checkerboard composed of 0's and 1's of the given size."
      ],
      "metadata": {
        "id": "xCwmX8L110oD"
      }
    },
    {
      "cell_type": "code",
      "source": [
        "%%file generate_checkerboad.py\n",
        "\n",
        "def generate_chessboard(size: int) -> list[list[int]]:\n",
        "    \"\"\"\n",
        "    Function that generates chessboard for provided size of rows.\n",
        "\n",
        "    Args:\n",
        "      size (__int__): Integer representation of chessboard size.\n",
        "\n",
        "    Returns:\n",
        "      list[list[int]]: List of list representation of chessboard.\n",
        "    \"\"\"\n",
        "    return [[1 if (i + j) % 2 == 0 else 0 for j in range(size)] for i in range(size)]"
      ],
      "metadata": {
        "colab": {
          "base_uri": "https://localhost:8080/"
        },
        "id": "k6aJsRjZ2IOK",
        "outputId": "b516ca54-e45a-4766-a4ec-f15574b1b88f"
      },
      "execution_count": 23,
      "outputs": [
        {
          "output_type": "stream",
          "name": "stdout",
          "text": [
            "Overwriting generate_checkerboad.py\n"
          ]
        }
      ]
    },
    {
      "cell_type": "code",
      "source": [
        "%%file test_generate_checkerboard.py\n",
        "from generate_checkerboad import generate_chessboard\n",
        "import pytest\n",
        "\n",
        "def test_generate_chessboard():\n",
        "    \"\"\"\n",
        "    Test function to check whether chessboard is generated propperly.\n",
        "    \"\"\"\n",
        "    size = 8\n",
        "    chessboard = generate_chessboard(size)\n",
        "\n",
        "    assert len(chessboard) == size\n",
        "\n",
        "    for i in range(size):\n",
        "        assert len(chessboard[i]) == size\n",
        "\n",
        "        for j in range(size):\n",
        "            if (i + j) % 2 == 0:\n",
        "                assert chessboard[i][j] == 1\n",
        "            else:\n",
        "                assert chessboard[i][j] == 0"
      ],
      "metadata": {
        "colab": {
          "base_uri": "https://localhost:8080/"
        },
        "id": "VmQLGaFu3epp",
        "outputId": "6f75e680-281b-4e3d-e7f6-f7daac22b9e0"
      },
      "execution_count": 24,
      "outputs": [
        {
          "output_type": "stream",
          "name": "stdout",
          "text": [
            "Writing test_generate_checkerboard.py\n"
          ]
        }
      ]
    },
    {
      "cell_type": "code",
      "source": [
        "!python -m pytest test_generate_checkerboard.py -v"
      ],
      "metadata": {
        "colab": {
          "base_uri": "https://localhost:8080/"
        },
        "id": "SV66Q-xl37xA",
        "outputId": "de5fb34f-e7bc-4289-d7a0-4778d31beccb"
      },
      "execution_count": 25,
      "outputs": [
        {
          "output_type": "stream",
          "name": "stdout",
          "text": [
            "\u001b[1m============================= test session starts ==============================\u001b[0m\n",
            "platform linux -- Python 3.10.11, pytest-7.2.2, pluggy-1.0.0 -- /usr/bin/python3\n",
            "cachedir: .pytest_cache\n",
            "rootdir: /content\n",
            "plugins: anyio-3.6.2\n",
            "\u001b[1mcollecting ... \u001b[0m\u001b[1m\rcollected 1 item                                                               \u001b[0m\n",
            "\n",
            "test_generate_checkerboard.py::test_generate_chessboard \u001b[32mPASSED\u001b[0m\u001b[32m           [100%]\u001b[0m\n",
            "\n",
            "\u001b[32m============================== \u001b[32m\u001b[1m1 passed\u001b[0m\u001b[32m in 0.01s\u001b[0m\u001b[32m ===============================\u001b[0m\n"
          ]
        }
      ]
    },
    {
      "cell_type": "code",
      "source": [
        "from generate_checkerboad import generate_chessboard\n",
        "generate_chessboard(5)"
      ],
      "metadata": {
        "colab": {
          "base_uri": "https://localhost:8080/"
        },
        "id": "bOk67-td2d8w",
        "outputId": "ad2ce0d7-ba5a-4251-b016-1b854dfc087a"
      },
      "execution_count": 26,
      "outputs": [
        {
          "output_type": "execute_result",
          "data": {
            "text/plain": [
              "[[1, 0, 1, 0, 1],\n",
              " [0, 1, 0, 1, 0],\n",
              " [1, 0, 1, 0, 1],\n",
              " [0, 1, 0, 1, 0],\n",
              " [1, 0, 1, 0, 1]]"
            ]
          },
          "metadata": {},
          "execution_count": 26
        }
      ]
    },
    {
      "cell_type": "markdown",
      "source": [
        "**Task 5**\\\n",
        "Create a function that converts the temperature from degrees Farneheit to degrees Celcius. Input data [0, 12, 45.21, 34, 99.91]."
      ],
      "metadata": {
        "id": "wudYibGz2h9x"
      }
    },
    {
      "cell_type": "code",
      "source": [
        "%%file convert_temp.py\n",
        "\n",
        "def convert_fahrenheit_to_celsius(temperatures: list[float]) -> list[float]:\n",
        "    \"\"\"\n",
        "    Function that converts fahrenheit list of degrees to celsius.\n",
        "\n",
        "    Args:\n",
        "      temperatures (list[float]): Representation of fahrenheit degrees.\n",
        "\n",
        "    Returns:\n",
        "      list[float]: Calculated list of celsis degrees.\n",
        "    \"\"\"\n",
        "    return [(temp - 32) * 5/9 for temp in temperatures]"
      ],
      "metadata": {
        "colab": {
          "base_uri": "https://localhost:8080/"
        },
        "id": "hrlIP6u-4A7o",
        "outputId": "213e1aa8-aa14-4a39-da42-6628a99f64a4"
      },
      "execution_count": 30,
      "outputs": [
        {
          "output_type": "stream",
          "name": "stdout",
          "text": [
            "Overwriting convert_temp.py\n"
          ]
        }
      ]
    },
    {
      "cell_type": "code",
      "source": [
        "%%file test_convert_temp.py\n",
        "from convert_temp import convert_fahrenheit_to_celsius\n",
        "import pytest\n",
        "\n",
        "def test_convert_fahrenheit_to_celsius():\n",
        "    \"\"\"\n",
        "    Test function to check whether fahrenheit degrees are propperly converted to celsius.\n",
        "    \"\"\"\n",
        "    fahrenheit_temperatures = [0, 12, 45.21, 34, 99.91]\n",
        "    celsius_temperatures = convert_fahrenheit_to_celsius(fahrenheit_temperatures)\n",
        "\n",
        "    expected_celsius_temperatures = [-17.77777777777778, -11.11111111111111, 7.338888888888889, 1.1111111111111112, 37.727777777777774]\n",
        "\n",
        "    assert len(celsius_temperatures) == len(expected_celsius_temperatures)\n",
        "\n",
        "    for celsius, expected_celsius in zip(celsius_temperatures, expected_celsius_temperatures):\n",
        "        assert pytest.approx(celsius, abs=1e-6) == expected_celsius"
      ],
      "metadata": {
        "colab": {
          "base_uri": "https://localhost:8080/"
        },
        "id": "-GWr3Qs-4bNE",
        "outputId": "23703901-1733-424e-a0e4-5bb5e6d8540b"
      },
      "execution_count": 31,
      "outputs": [
        {
          "output_type": "stream",
          "name": "stdout",
          "text": [
            "Overwriting test_convert_temp.py\n"
          ]
        }
      ]
    },
    {
      "cell_type": "code",
      "source": [
        "!python -m pytest test_convert_temp.py -v"
      ],
      "metadata": {
        "colab": {
          "base_uri": "https://localhost:8080/"
        },
        "id": "ATJAL7Qo4j8U",
        "outputId": "e975fff6-1a92-4060-987f-0f877d04ab87"
      },
      "execution_count": 32,
      "outputs": [
        {
          "output_type": "stream",
          "name": "stdout",
          "text": [
            "\u001b[1m============================= test session starts ==============================\u001b[0m\n",
            "platform linux -- Python 3.10.11, pytest-7.2.2, pluggy-1.0.0 -- /usr/bin/python3\n",
            "cachedir: .pytest_cache\n",
            "rootdir: /content\n",
            "plugins: anyio-3.6.2\n",
            "\u001b[1mcollecting ... \u001b[0m\u001b[1m\rcollected 1 item                                                               \u001b[0m\n",
            "\n",
            "test_convert_temp.py::test_convert_fahrenheit_to_celsius \u001b[32mPASSED\u001b[0m\u001b[32m          [100%]\u001b[0m\n",
            "\n",
            "\u001b[32m============================== \u001b[32m\u001b[1m1 passed\u001b[0m\u001b[32m in 0.01s\u001b[0m\u001b[32m ===============================\u001b[0m\n"
          ]
        }
      ]
    },
    {
      "cell_type": "code",
      "source": [
        "from convert_temp import convert_fahrenheit_to_celsius\n",
        "convert_fahrenheit_to_celsius([0, 12, 45.21, 34, 99.91])"
      ],
      "metadata": {
        "colab": {
          "base_uri": "https://localhost:8080/"
        },
        "id": "a1FlJ81S4meQ",
        "outputId": "0b195f24-43e5-4cbf-e65d-c15329463026"
      },
      "execution_count": 33,
      "outputs": [
        {
          "output_type": "execute_result",
          "data": {
            "text/plain": [
              "[-17.77777777777778,\n",
              " -11.11111111111111,\n",
              " 7.33888888888889,\n",
              " 1.1111111111111112,\n",
              " 37.727777777777774]"
            ]
          },
          "metadata": {},
          "execution_count": 33
        }
      ]
    },
    {
      "cell_type": "markdown",
      "source": [
        "**Task 6**\\\n",
        "Write a function that creates an array with values on the diagonal [4, 5, 6, 7] and zeros in the remaining cells."
      ],
      "metadata": {
        "id": "wWI_Nley8G9o"
      }
    },
    {
      "cell_type": "code",
      "source": [
        "%%file create_diagonal_matrix.py\n",
        "import numpy as np\n",
        "\n",
        "def create_diagonal_matrix() -> np.array:\n",
        "    \"\"\"\n",
        "    Function that generates diagonal matrix in form.\n",
        "    4 O O O\n",
        "    O 5 O O\n",
        "    O O 6 O\n",
        "    O O O 7\n",
        "\n",
        "    Returns:\n",
        "      np.array: Numpy array representation of mantrioned above matrix.\n",
        "    \"\"\"\n",
        "    diagonal_values = [4, 5, 6, 7]\n",
        "    return np.diag(diagonal_values)"
      ],
      "metadata": {
        "colab": {
          "base_uri": "https://localhost:8080/"
        },
        "id": "qoHQvtwZ8JxE",
        "outputId": "15f0d47b-ea9e-4a2a-a05f-b57cb3740705"
      },
      "execution_count": 42,
      "outputs": [
        {
          "output_type": "stream",
          "name": "stdout",
          "text": [
            "Overwriting create_diagonal_matrix.py\n"
          ]
        }
      ]
    },
    {
      "cell_type": "code",
      "source": [
        "%%file test_create_diagonal_matrix.py\n",
        "from create_diagonal_matrix import create_diagonal_matrix\n",
        "import pytest\n",
        "import numpy as np\n",
        "\n",
        "def test_create_diagonal_matrix():\n",
        "    \"\"\"\n",
        "    Test function to check whether matrix is generated propperly.\n",
        "    \"\"\"\n",
        "    diagonal_matrix = create_diagonal_matrix()\n",
        "\n",
        "    expected_matrix = np.array([[4, 0, 0, 0],\n",
        "                                [0, 5, 0, 0],\n",
        "                                [0, 0, 6, 0],\n",
        "                                [0, 0, 0, 7]])\n",
        "\n",
        "    assert np.array_equal(diagonal_matrix, expected_matrix)"
      ],
      "metadata": {
        "colab": {
          "base_uri": "https://localhost:8080/"
        },
        "id": "IUlZlrHt86-e",
        "outputId": "0480d1bc-eef5-4668-dbdc-db12333f556c"
      },
      "execution_count": 43,
      "outputs": [
        {
          "output_type": "stream",
          "name": "stdout",
          "text": [
            "Overwriting test_create_diagonal_matrix.py\n"
          ]
        }
      ]
    },
    {
      "cell_type": "code",
      "source": [
        "!python -m pytest test_create_diagonal_matrix.py -v"
      ],
      "metadata": {
        "colab": {
          "base_uri": "https://localhost:8080/"
        },
        "id": "ti6QRdi39FjG",
        "outputId": "3c1834d7-28eb-4b2d-b70f-3e99475d1d18"
      },
      "execution_count": 41,
      "outputs": [
        {
          "output_type": "stream",
          "name": "stdout",
          "text": [
            "\u001b[1m============================= test session starts ==============================\u001b[0m\n",
            "platform linux -- Python 3.10.11, pytest-7.2.2, pluggy-1.0.0 -- /usr/bin/python3\n",
            "cachedir: .pytest_cache\n",
            "rootdir: /content\n",
            "plugins: anyio-3.6.2\n",
            "\u001b[1mcollecting ... \u001b[0m\u001b[1m\rcollected 1 item                                                               \u001b[0m\n",
            "\n",
            "test_create_diagonal_matrix.py::test_create_diagonal_matrix \u001b[32mPASSED\u001b[0m\u001b[32m       [100%]\u001b[0m\n",
            "\n",
            "\u001b[32m============================== \u001b[32m\u001b[1m1 passed\u001b[0m\u001b[32m in 0.12s\u001b[0m\u001b[32m ===============================\u001b[0m\n"
          ]
        }
      ]
    },
    {
      "cell_type": "code",
      "source": [
        "from create_diagonal_matrix import create_diagonal_matrix\n",
        "create_diagonal_matrix()"
      ],
      "metadata": {
        "colab": {
          "base_uri": "https://localhost:8080/"
        },
        "id": "q5U2cBpT8sWG",
        "outputId": "7867582c-041c-43a0-91e3-f08b04eb92e5"
      },
      "execution_count": 39,
      "outputs": [
        {
          "output_type": "execute_result",
          "data": {
            "text/plain": [
              "array([[4, 0, 0, 0],\n",
              "       [0, 5, 0, 0],\n",
              "       [0, 0, 6, 0],\n",
              "       [0, 0, 0, 7]])"
            ]
          },
          "metadata": {},
          "execution_count": 39
        }
      ]
    },
    {
      "cell_type": "markdown",
      "source": [
        "**Task 7**\\\n",
        "Write a function that for the data [[1, 2, 3], [4, 5, 6], [7, 8, 9]] returns the result [9, 8, 7, 6, 5, 4, 3, 2, 1]."
      ],
      "metadata": {
        "id": "0__EQk2w8vTD"
      }
    },
    {
      "cell_type": "code",
      "source": [
        "%%file flatten_matrix.py\n",
        "\n",
        "def flatten_matrix(matrix: list[list[int]]) -> list[int]:\n",
        "    \"\"\"\n",
        "    Function that flattens and reverse provided matrix.\n",
        "\n",
        "    Args:\n",
        "      matrix: (list[list[int]]): Matrix representation of nested list.\n",
        "\n",
        "    Returns:\n",
        "      list[int]: Flattened and reversed matrix.\n",
        "    \"\"\"\n",
        "    return [element for row in reversed(matrix) for element in reversed(row)]"
      ],
      "metadata": {
        "colab": {
          "base_uri": "https://localhost:8080/"
        },
        "id": "8Tl2ICGtBCxi",
        "outputId": "37d8683b-f38f-4732-f3fa-5e54391e1925"
      },
      "execution_count": 54,
      "outputs": [
        {
          "output_type": "stream",
          "name": "stdout",
          "text": [
            "Overwriting flatten_matrix.py\n"
          ]
        }
      ]
    },
    {
      "cell_type": "code",
      "source": [
        "%%file test_flatten_matrix.py\n",
        "from flatten_matrix import flatten_matrix\n",
        "import pytest\n",
        "\n",
        "def test_flatten_matrix():\n",
        "    \"\"\"\n",
        "    Test function to check whether for provided matrix its propperly flattened and reversed.\n",
        "    \"\"\"\n",
        "    matrix = [[1, 2, 3], [4, 5, 6], [7, 8, 9]]\n",
        "    flattened_list = flatten_matrix(matrix)\n",
        "\n",
        "    expected_result = [9, 8, 7, 6, 5, 4, 3, 2, 1]\n",
        "\n",
        "    assert flattened_list == expected_result"
      ],
      "metadata": {
        "colab": {
          "base_uri": "https://localhost:8080/"
        },
        "id": "U3xsa2fDB62C",
        "outputId": "ee9f9277-956f-48ee-e310-07920de41e1f"
      },
      "execution_count": 55,
      "outputs": [
        {
          "output_type": "stream",
          "name": "stdout",
          "text": [
            "Overwriting test_flatten_matrix.py\n"
          ]
        }
      ]
    },
    {
      "cell_type": "code",
      "source": [
        "!python -m pytest test_flatten_matrix.py -v"
      ],
      "metadata": {
        "colab": {
          "base_uri": "https://localhost:8080/"
        },
        "id": "9uJzpLQ-B7Tu",
        "outputId": "de81f8a2-5457-4e7c-b720-2cc9c49804f9"
      },
      "execution_count": 56,
      "outputs": [
        {
          "output_type": "stream",
          "name": "stdout",
          "text": [
            "\u001b[1m============================= test session starts ==============================\u001b[0m\n",
            "platform linux -- Python 3.10.11, pytest-7.2.2, pluggy-1.0.0 -- /usr/bin/python3\n",
            "cachedir: .pytest_cache\n",
            "rootdir: /content\n",
            "plugins: anyio-3.6.2\n",
            "\u001b[1mcollecting ... \u001b[0m\u001b[1m\rcollected 1 item                                                               \u001b[0m\n",
            "\n",
            "test_flatten_matrix.py::test_flatten_matrix \u001b[32mPASSED\u001b[0m\u001b[32m                       [100%]\u001b[0m\n",
            "\n",
            "\u001b[32m============================== \u001b[32m\u001b[1m1 passed\u001b[0m\u001b[32m in 0.01s\u001b[0m\u001b[32m ===============================\u001b[0m\n"
          ]
        }
      ]
    },
    {
      "cell_type": "code",
      "source": [
        "from flatten_matrix import flatten_matrix\n",
        "flatten_matrix([[1, 2, 3], [4, 5, 6], [7, 8, 9]])"
      ],
      "metadata": {
        "colab": {
          "base_uri": "https://localhost:8080/"
        },
        "id": "temaN8A5CUWi",
        "outputId": "4e76a4d7-0eb3-40a6-f3a9-5deb26b03085"
      },
      "execution_count": 57,
      "outputs": [
        {
          "output_type": "execute_result",
          "data": {
            "text/plain": [
              "[9, 8, 7, 6, 5, 4, 3, 2, 1]"
            ]
          },
          "metadata": {},
          "execution_count": 57
        }
      ]
    },
    {
      "cell_type": "markdown",
      "source": [
        "**Task 8**\\\n",
        "From an array of size 10x10 whose elements are consecutive natural numbers, select the elements that are divisible by 2 and are not\n",
        "are divisible by 3. Obtain the solution using masking."
      ],
      "metadata": {
        "id": "pj6aO3fSDWaj"
      }
    },
    {
      "cell_type": "code",
      "source": [
        "%%file select_elements.py\n",
        "import numpy as np\n",
        "\n",
        "def select_elements(array: np.array) -> np.array:\n",
        "    \"\"\"\n",
        "    Function selects elements that are disible by 2 and are not divisible by 3.\n",
        "\n",
        "    Args:\n",
        "      array (np.array): Numpy array 10x10 size.\n",
        "\n",
        "    Returns:\n",
        "      np.array: Numpy array representation of propperly selected elements.\n",
        "    \"\"\"\n",
        "    mask = (array % 2 == 0) & (array % 3 != 0)\n",
        "    selected_elements = array[mask]\n",
        "    return selected_elements"
      ],
      "metadata": {
        "colab": {
          "base_uri": "https://localhost:8080/"
        },
        "id": "HmWrFR4JDXQr",
        "outputId": "afcd26f6-a6c9-42ad-b4d4-71f59c1524de"
      },
      "execution_count": 59,
      "outputs": [
        {
          "output_type": "stream",
          "name": "stdout",
          "text": [
            "Writing select_elements.py\n"
          ]
        }
      ]
    },
    {
      "cell_type": "code",
      "source": [
        "%%file test_select_elements.py\n",
        "from select_elements import select_elements\n",
        "import pytest\n",
        "import numpy as np\n",
        "\n",
        "def test_select_elements():\n",
        "    \"\"\"\n",
        "    Test function to check whether elements from array are propperly selected. \n",
        "    \"\"\"\n",
        "    array = np.arange(1, 101).reshape(10, 10)\n",
        "    selected_elements = select_elements(array)\n",
        "\n",
        "    expected_result = np.array([2, 4, 8, 10, 14, 16, 20, 22, 26, 28,\n",
        "                                32, 34, 38, 40, 44, 46, 50, 52, 56, 58,\n",
        "                                62, 64, 68, 70, 74, 76, 80, 82, 86, 88,\n",
        "                                92, 94, 98, 100])\n",
        "\n",
        "    assert np.array_equal(selected_elements, expected_result)"
      ],
      "metadata": {
        "colab": {
          "base_uri": "https://localhost:8080/"
        },
        "id": "BSrJqaqwDplV",
        "outputId": "6d84061a-41f0-4c47-d943-18c8c7d05e88"
      },
      "execution_count": 60,
      "outputs": [
        {
          "output_type": "stream",
          "name": "stdout",
          "text": [
            "Writing test_select_elements.py\n"
          ]
        }
      ]
    },
    {
      "cell_type": "code",
      "source": [
        "!python -m pytest test_select_elements.py -v"
      ],
      "metadata": {
        "colab": {
          "base_uri": "https://localhost:8080/"
        },
        "id": "gLDYtUBzFwEK",
        "outputId": "8a6d11e2-8146-43bc-cf1d-9d04d4fdbcac"
      },
      "execution_count": 61,
      "outputs": [
        {
          "output_type": "stream",
          "name": "stdout",
          "text": [
            "\u001b[1m============================= test session starts ==============================\u001b[0m\n",
            "platform linux -- Python 3.10.11, pytest-7.2.2, pluggy-1.0.0 -- /usr/bin/python3\n",
            "cachedir: .pytest_cache\n",
            "rootdir: /content\n",
            "plugins: anyio-3.6.2\n",
            "\u001b[1mcollecting ... \u001b[0m\u001b[1m\rcollected 1 item                                                               \u001b[0m\n",
            "\n",
            "test_select_elements.py::test_select_elements \u001b[32mPASSED\u001b[0m\u001b[32m                     [100%]\u001b[0m\n",
            "\n",
            "\u001b[32m============================== \u001b[32m\u001b[1m1 passed\u001b[0m\u001b[32m in 0.13s\u001b[0m\u001b[32m ===============================\u001b[0m\n"
          ]
        }
      ]
    },
    {
      "cell_type": "code",
      "source": [
        "import numpy as np\n",
        "array = np.arange(1, 101).reshape(10, 10)\n",
        "selected_elements = select_elements(array)\n",
        "print(selected_elements)"
      ],
      "metadata": {
        "colab": {
          "base_uri": "https://localhost:8080/"
        },
        "id": "GUrOcvuZFyBq",
        "outputId": "9c4dbc88-af62-4970-ac2d-ae1caeb9bfbc"
      },
      "execution_count": 62,
      "outputs": [
        {
          "output_type": "stream",
          "name": "stdout",
          "text": [
            "[  2   4   8  10  14  16  20  22  26  28  32  34  38  40  44  46  50  52\n",
            "  56  58  62  64  68  70  74  76  80  82  86  88  92  94  98 100]\n"
          ]
        }
      ]
    },
    {
      "cell_type": "markdown",
      "source": [
        "**Task 9**\\\n",
        "Write a function that generates a matrix with random elements (integers in a given range) with a predetermined\n",
        "value of the determinant."
      ],
      "metadata": {
        "id": "TxgxvDAhF2K2"
      }
    },
    {
      "cell_type": "code",
      "source": [
        "%%file generate_random_matrix.py\n",
        "import numpy as np\n",
        "\n",
        "def generate_matrix_with_determinant(determinant: int, size: int,\n",
        "                                     min_value: int, max_value: int) -> np.array:\n",
        "    \"\"\"\n",
        "    Function that generates a matrix with random integer elements in a given range with a predetermined value of the determinant.\n",
        "\n",
        "    Args:\n",
        "      determinant (__int__): Declared value of matrix determinant.\n",
        "      size (__int__): Matrix size.\n",
        "      min_value (__int__): Specified min value of range.\n",
        "      max_value (__int__): Specified max value of range.\n",
        "    \"\"\"\n",
        "    while True:\n",
        "        matrix = np.random.randint(min_value, max_value+1, size=(size, size))\n",
        "        if np.linalg.det(matrix) == determinant:\n",
        "            return matrix"
      ],
      "metadata": {
        "colab": {
          "base_uri": "https://localhost:8080/"
        },
        "id": "1kpL9KprF6PL",
        "outputId": "f127aeb5-16fd-44fc-be4f-1fac99c5d71b"
      },
      "execution_count": 66,
      "outputs": [
        {
          "output_type": "stream",
          "name": "stdout",
          "text": [
            "Overwriting generate_random_matrix.py\n"
          ]
        }
      ]
    },
    {
      "cell_type": "code",
      "source": [
        "%%file test_generate_random_matrix.py\n",
        "from generate_random_matrix import generate_matrix_with_determinant\n",
        "\n",
        "def test_generate_matrix_with_determinant():\n",
        "    \"\"\"\n",
        "    Test function to check whether for provided params matrix is generated propperly.\n",
        "    \"\"\"\n",
        "    determinant = 10\n",
        "    size = 3\n",
        "    min_value = 1\n",
        "    max_value = 10\n",
        "\n",
        "    matrix = generate_matrix_with_determinant(determinant, size, min_value, max_value)\n",
        "\n",
        "    assert np.linalg.det(matrix) == determinant\n",
        "    assert matrix.shape == (size, size)\n",
        "    assert np.all(matrix >= min_value) and np.all(matrix <= max_value)"
      ],
      "metadata": {
        "colab": {
          "base_uri": "https://localhost:8080/"
        },
        "id": "PcK_2M7KF8KA",
        "outputId": "a6372423-4358-4e7d-9e0f-5492b3c98ec2"
      },
      "execution_count": 64,
      "outputs": [
        {
          "output_type": "stream",
          "name": "stdout",
          "text": [
            "Writing test_generate_random_matrix.py\n"
          ]
        }
      ]
    },
    {
      "cell_type": "code",
      "source": [
        "!python -m pytest test_generate_random_matrix.py -v"
      ],
      "metadata": {
        "colab": {
          "base_uri": "https://localhost:8080/"
        },
        "id": "SmoncUvoF8dl",
        "outputId": "0d1d033a-1c6e-41cd-b688-a36338974b55"
      },
      "execution_count": 65,
      "outputs": [
        {
          "output_type": "stream",
          "name": "stdout",
          "text": [
            "\u001b[1m============================= test session starts ==============================\u001b[0m\n",
            "platform linux -- Python 3.10.11, pytest-7.2.2, pluggy-1.0.0 -- /usr/bin/python3\n",
            "cachedir: .pytest_cache\n",
            "rootdir: /content\n",
            "plugins: anyio-3.6.2\n",
            "\u001b[1mcollecting ... \u001b[0m\u001b[1m\rcollected 0 items                                                              \u001b[0m\n",
            "\n",
            "\u001b[33m============================ \u001b[33mno tests ran\u001b[0m\u001b[33m in 0.01s\u001b[0m\u001b[33m =============================\u001b[0m\n"
          ]
        }
      ]
    },
    {
      "cell_type": "code",
      "source": [
        "from generate_random_matrix import generate_matrix_with_determinant\n",
        "determinant = 10\n",
        "size = 3\n",
        "min_value = 1\n",
        "max_value = 10\n",
        "\n",
        "matrix = generate_matrix_with_determinant(determinant, size, min_value, max_value)\n",
        "print(matrix)"
      ],
      "metadata": {
        "colab": {
          "base_uri": "https://localhost:8080/",
          "height": 339
        },
        "id": "bstITbwUGFvH",
        "outputId": "6cf454fd-4fe7-4408-eeee-eb43d93eac2d"
      },
      "execution_count": 67,
      "outputs": [
        {
          "output_type": "error",
          "ename": "KeyboardInterrupt",
          "evalue": "ignored",
          "traceback": [
            "\u001b[0;31m---------------------------------------------------------------------------\u001b[0m",
            "\u001b[0;31mKeyboardInterrupt\u001b[0m                         Traceback (most recent call last)",
            "\u001b[0;32m<ipython-input-67-5c47d4544ee6>\u001b[0m in \u001b[0;36m<cell line: 7>\u001b[0;34m()\u001b[0m\n\u001b[1;32m      5\u001b[0m \u001b[0mmax_value\u001b[0m \u001b[0;34m=\u001b[0m \u001b[0;36m10\u001b[0m\u001b[0;34m\u001b[0m\u001b[0;34m\u001b[0m\u001b[0m\n\u001b[1;32m      6\u001b[0m \u001b[0;34m\u001b[0m\u001b[0m\n\u001b[0;32m----> 7\u001b[0;31m \u001b[0mmatrix\u001b[0m \u001b[0;34m=\u001b[0m \u001b[0mgenerate_matrix_with_determinant\u001b[0m\u001b[0;34m(\u001b[0m\u001b[0mdeterminant\u001b[0m\u001b[0;34m,\u001b[0m \u001b[0msize\u001b[0m\u001b[0;34m,\u001b[0m \u001b[0mmin_value\u001b[0m\u001b[0;34m,\u001b[0m \u001b[0mmax_value\u001b[0m\u001b[0;34m)\u001b[0m\u001b[0;34m\u001b[0m\u001b[0;34m\u001b[0m\u001b[0m\n\u001b[0m\u001b[1;32m      8\u001b[0m \u001b[0mprint\u001b[0m\u001b[0;34m(\u001b[0m\u001b[0mmatrix\u001b[0m\u001b[0;34m)\u001b[0m\u001b[0;34m\u001b[0m\u001b[0;34m\u001b[0m\u001b[0m\n",
            "\u001b[0;32m/content/generate_random_matrix.py\u001b[0m in \u001b[0;36mgenerate_matrix_with_determinant\u001b[0;34m(determinant, size, min_value, max_value)\u001b[0m\n\u001b[1;32m     13\u001b[0m     \"\"\"\n\u001b[1;32m     14\u001b[0m     \u001b[0;32mwhile\u001b[0m \u001b[0;32mTrue\u001b[0m\u001b[0;34m:\u001b[0m\u001b[0;34m\u001b[0m\u001b[0;34m\u001b[0m\u001b[0m\n\u001b[0;32m---> 15\u001b[0;31m         \u001b[0mmatrix\u001b[0m \u001b[0;34m=\u001b[0m \u001b[0mnp\u001b[0m\u001b[0;34m.\u001b[0m\u001b[0mrandom\u001b[0m\u001b[0;34m.\u001b[0m\u001b[0mrandint\u001b[0m\u001b[0;34m(\u001b[0m\u001b[0mmin_value\u001b[0m\u001b[0;34m,\u001b[0m \u001b[0mmax_value\u001b[0m\u001b[0;34m+\u001b[0m\u001b[0;36m1\u001b[0m\u001b[0;34m,\u001b[0m \u001b[0msize\u001b[0m\u001b[0;34m=\u001b[0m\u001b[0;34m(\u001b[0m\u001b[0msize\u001b[0m\u001b[0;34m,\u001b[0m \u001b[0msize\u001b[0m\u001b[0;34m)\u001b[0m\u001b[0;34m)\u001b[0m\u001b[0;34m\u001b[0m\u001b[0;34m\u001b[0m\u001b[0m\n\u001b[0m\u001b[1;32m     16\u001b[0m         \u001b[0;32mif\u001b[0m \u001b[0mnp\u001b[0m\u001b[0;34m.\u001b[0m\u001b[0mlinalg\u001b[0m\u001b[0;34m.\u001b[0m\u001b[0mdet\u001b[0m\u001b[0;34m(\u001b[0m\u001b[0mmatrix\u001b[0m\u001b[0;34m)\u001b[0m \u001b[0;34m==\u001b[0m \u001b[0mdeterminant\u001b[0m\u001b[0;34m:\u001b[0m\u001b[0;34m\u001b[0m\u001b[0;34m\u001b[0m\u001b[0m\n\u001b[1;32m     17\u001b[0m             \u001b[0;32mreturn\u001b[0m \u001b[0mmatrix\u001b[0m\u001b[0;34m\u001b[0m\u001b[0;34m\u001b[0m\u001b[0m\n",
            "\u001b[0;31mKeyboardInterrupt\u001b[0m: "
          ]
        }
      ]
    }
  ]
}