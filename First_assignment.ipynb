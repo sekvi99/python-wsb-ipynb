{
  "nbformat": 4,
  "nbformat_minor": 0,
  "metadata": {
    "colab": {
      "provenance": []
    },
    "kernelspec": {
      "name": "python3",
      "display_name": "Python 3"
    },
    "language_info": {
      "name": "python"
    }
  },
  "cells": [
    {
      "cell_type": "markdown",
      "source": [
        "# Języki Obiektowe I - Python"
      ],
      "metadata": {
        "id": "vT_fzMKe8dIa"
      }
    },
    {
      "cell_type": "markdown",
      "source": [
        "**Filip Koźlik** \\\\\n",
        "*Informatyka st. II hybrydowo*"
      ],
      "metadata": {
        "id": "jZBs3m688ito"
      }
    },
    {
      "cell_type": "markdown",
      "source": [
        "**Task 1**\\\n",
        "Write a function that, for two numbers taken from the keyboard, returns their product."
      ],
      "metadata": {
        "id": "8LpEYIseDmPJ"
      }
    },
    {
      "cell_type": "code",
      "source": [
        "%%file multiplication.py\n",
        "from typing import Any\n",
        "class NotValidTypeError(Exception):\n",
        "  \"\"\"\n",
        "  Custom error class that occures when provided type of variable is not correct.\n",
        "  \"\"\"\n",
        "  def __init__(self, message: str) -> None:\n",
        "    self.message = message\n",
        "    super(Exception, self).__init__(self.message)\n",
        "\n",
        "def calculate_multiplication(*args: Any) -> float:\n",
        "  \"\"\"\n",
        "  Function that multiplies passed amount of values and return its result.\n",
        "\n",
        "  Args:\n",
        "        pattern (__str__): String representation of pattern to match.\n",
        "        text (__str__): String representation of provided text to check.\n",
        "\n",
        "  Returns:\n",
        "        float: Return float value that represents result of multiplcation.\n",
        "        \n",
        "  Raises:\n",
        "        NotValidTypeError: Occures when provided variable type is not correct. \n",
        "  \"\"\"\n",
        "  multiplication_result = 1\n",
        "  for item in args:\n",
        "    if isinstance(item, (int, float)):\n",
        "      multiplication_result *= item\n",
        "    else:\n",
        "      raise NotValidTypeError(f'Provided variable is a type of: {type(item)}!')\n",
        "  return multiplication_result"
      ],
      "metadata": {
        "colab": {
          "base_uri": "https://localhost:8080/"
        },
        "id": "M8pooEso-Icl",
        "outputId": "d3f87c08-4fb2-4a3f-d7d1-a53a06a1878a"
      },
      "execution_count": 5,
      "outputs": [
        {
          "output_type": "stream",
          "name": "stdout",
          "text": [
            "Writing multiplication.py\n"
          ]
        }
      ]
    },
    {
      "cell_type": "code",
      "source": [
        "%%file test_multiplication.py\n",
        "import pytest\n",
        "from multiplication import calculate_multiplication, NotValidTypeError\n",
        "\n",
        "def test_calculate_multiplication():\n",
        "  \"\"\"\n",
        "  Function to test whether calculate_multiplication return propper values or \\n\n",
        "  throw an error when it is required.\n",
        "  \"\"\"\n",
        "  assert calculate_multiplication(3,4,5) == 60\n",
        "  assert calculate_multiplication(5,3) == 15\n",
        "  assert calculate_multiplication(0,1) == 0\n",
        "  assert calculate_multiplication(-5, -3, -2.5) == -37.5\n",
        "  assert calculate_multiplication(1,2,3,4,5) == 120\n",
        "  with pytest.raises(NotValidTypeError) as error:\n",
        "    calculate_multiplication(-5, 'abc')\n",
        "    calculate_multiplication('a', 'b', 'c')"
      ],
      "metadata": {
        "colab": {
          "base_uri": "https://localhost:8080/"
        },
        "id": "YxChDQYOA4SI",
        "outputId": "b86ff82e-cd79-4f59-c94d-1761a9aebeb0"
      },
      "execution_count": null,
      "outputs": [
        {
          "output_type": "stream",
          "name": "stdout",
          "text": [
            "Writing test_multiplication.py\n"
          ]
        }
      ]
    },
    {
      "cell_type": "code",
      "source": [
        "!python -m pytest test_multiplication.py -v"
      ],
      "metadata": {
        "colab": {
          "base_uri": "https://localhost:8080/"
        },
        "id": "3_ubiy80XjGH",
        "outputId": "749f541b-022c-4ea8-e846-e8b7021a1785"
      },
      "execution_count": null,
      "outputs": [
        {
          "output_type": "stream",
          "name": "stdout",
          "text": [
            "\u001b[1m============================= test session starts ==============================\u001b[0m\n",
            "platform linux -- Python 3.9.16, pytest-7.2.2, pluggy-1.0.0 -- /usr/bin/python3\n",
            "cachedir: .pytest_cache\n",
            "rootdir: /content\n",
            "plugins: anyio-3.6.2\n",
            "\u001b[1mcollecting ... \u001b[0m\u001b[1m\rcollected 1 item                                                               \u001b[0m\n",
            "\n",
            "test_multiplication.py::test_calculate_multiplication \u001b[32mPASSED\u001b[0m\u001b[32m             [100%]\u001b[0m\n",
            "\n",
            "\u001b[32m============================== \u001b[32m\u001b[1m1 passed\u001b[0m\u001b[32m in 0.02s\u001b[0m\u001b[32m ===============================\u001b[0m\n"
          ]
        }
      ]
    },
    {
      "cell_type": "code",
      "source": [
        "from multiplication import calculate_multiplication\n",
        "try:\n",
        "    a: float = float(input('Please provide 1st value to multiply: '))\n",
        "    b: float = float(input('Please provide 2nd value to multiply: '))\n",
        "    result: float = round(calculate_multiplication(a, b), 2)\n",
        "    print(f'Result of multiplication: {result}')\n",
        "except NotValidTypeError as error:\n",
        "    print('Provided variable type could not be converted to float!')"
      ],
      "metadata": {
        "colab": {
          "base_uri": "https://localhost:8080/"
        },
        "id": "kambQIfwEHwo",
        "outputId": "ae479522-d9b8-466b-c13f-89962521f629"
      },
      "execution_count": null,
      "outputs": [
        {
          "output_type": "stream",
          "name": "stdout",
          "text": [
            "Please provide 1st value to multiply: 3.125\n",
            "Please provide 2nd value to multiply: -2.16125\n",
            "Result of multiplication: -6.75\n"
          ]
        }
      ]
    },
    {
      "cell_type": "markdown",
      "source": [
        "**Task 2**\\\n",
        "Write a function that checks if the given number is even."
      ],
      "metadata": {
        "id": "hAGYwwgZExfA"
      }
    },
    {
      "cell_type": "code",
      "source": [
        "%%file is_even.py\n",
        "from multiplication import NotValidTypeError\n",
        "from typing import Any\n",
        "\n",
        "def can_be_casted_to_int(x: Any) -> bool:\n",
        "  \"\"\"\n",
        "  Helper function that checks wheter provided object can be casted to integer.\n",
        "\n",
        "  Args:\n",
        "        x (__Any__): Object to check.\n",
        "  Returns:\n",
        "        bool: Return True/False whether object can be casted to int\n",
        "  \"\"\"\n",
        "  try:\n",
        "    int(x)\n",
        "    return True\n",
        "  except:\n",
        "    return False\n",
        "\n",
        "def is_even(x: Any) -> bool:\n",
        "  \"\"\"\n",
        "  Function that checks whether provided object is a even number.\n",
        "\n",
        "  Args:\n",
        "        x (__Any__): Object representation of number.\n",
        "\n",
        "  Returns:\n",
        "        bool: Return True/False value based on result check.\n",
        "        \n",
        "  Raises:\n",
        "        NotValidTypeError: Occures when provided variable type is not correct. \n",
        "  \"\"\"\n",
        "  if can_be_casted_to_int(x):\n",
        "    return x % 2 == 0\n",
        "  else:\n",
        "    raise NotValidTypeError(f'Provided type of var: {type(x)} is not valid!')"
      ],
      "metadata": {
        "id": "jvai2b_yAgdn",
        "colab": {
          "base_uri": "https://localhost:8080/"
        },
        "outputId": "e1a119bb-8fcb-41d6-f51d-50f539103866"
      },
      "execution_count": 1,
      "outputs": [
        {
          "output_type": "stream",
          "name": "stdout",
          "text": [
            "Writing is_even.py\n"
          ]
        }
      ]
    },
    {
      "cell_type": "code",
      "source": [
        "%%file test_is_even.py\n",
        "from is_even import can_be_casted_to_int, is_even\n",
        "from multiplication import NotValidTypeError\n",
        "import pytest\n",
        "\n",
        "@pytest.mark.parametrize(\n",
        "    ('input', 'expected'),\n",
        "    (\n",
        "        (2, True),\n",
        "        (-5, True),\n",
        "        ('abasa', False),\n",
        "        (2.56, True)\n",
        "    )\n",
        ")\n",
        "def test_can_be_casted_to_int(input, expected):\n",
        "  \"\"\"\n",
        "  Test function to check whether it is possible to cast provided values to int.\n",
        "  \"\"\"\n",
        "  assert can_be_casted_to_int(input) == expected\n",
        "\n",
        "@pytest.mark.parametrize(\n",
        "    ('input', 'expected'),\n",
        "    (\n",
        "        (0, True),\n",
        "        (2, True),\n",
        "        (3, False),\n",
        "        (-5, False),\n",
        "        (-4, True)\n",
        "    )\n",
        ")\n",
        "def test_is_even(input, expected):\n",
        "  \"\"\"\n",
        "  Test function to check whether provided value is a even number.\n",
        "  \"\"\"\n",
        "  assert is_even(input) == expected\n",
        "  with pytest.raises(NotValidTypeError) as error:\n",
        "    assert is_even('abc')"
      ],
      "metadata": {
        "colab": {
          "base_uri": "https://localhost:8080/"
        },
        "id": "zHVRftzzyDuE",
        "outputId": "4dee5045-00f4-416f-e428-f33a9ef40003"
      },
      "execution_count": null,
      "outputs": [
        {
          "output_type": "stream",
          "name": "stdout",
          "text": [
            "Overwriting test_is_even.py\n"
          ]
        }
      ]
    },
    {
      "cell_type": "code",
      "source": [
        "!python -m pytest test_is_even.py -v"
      ],
      "metadata": {
        "colab": {
          "base_uri": "https://localhost:8080/"
        },
        "id": "vkwn8kM_0DZd",
        "outputId": "bc5225a6-9bf7-494f-e392-fd9430b834e7"
      },
      "execution_count": null,
      "outputs": [
        {
          "output_type": "stream",
          "name": "stdout",
          "text": [
            "\u001b[1m============================= test session starts ==============================\u001b[0m\n",
            "platform linux -- Python 3.9.16, pytest-7.2.2, pluggy-1.0.0 -- /usr/bin/python3\n",
            "cachedir: .pytest_cache\n",
            "rootdir: /content\n",
            "plugins: anyio-3.6.2\n",
            "\u001b[1mcollecting ... \u001b[0m\u001b[1m\rcollected 9 items                                                              \u001b[0m\n",
            "\n",
            "test_is_even.py::test_can_be_casted_to_int[2-True] \u001b[32mPASSED\u001b[0m\u001b[32m                [ 11%]\u001b[0m\n",
            "test_is_even.py::test_can_be_casted_to_int[-5-True] \u001b[32mPASSED\u001b[0m\u001b[32m               [ 22%]\u001b[0m\n",
            "test_is_even.py::test_can_be_casted_to_int[abasa-False] \u001b[32mPASSED\u001b[0m\u001b[32m           [ 33%]\u001b[0m\n",
            "test_is_even.py::test_can_be_casted_to_int[2.56-True] \u001b[32mPASSED\u001b[0m\u001b[32m             [ 44%]\u001b[0m\n",
            "test_is_even.py::test_is_even[0-True] \u001b[32mPASSED\u001b[0m\u001b[32m                             [ 55%]\u001b[0m\n",
            "test_is_even.py::test_is_even[2-True] \u001b[32mPASSED\u001b[0m\u001b[32m                             [ 66%]\u001b[0m\n",
            "test_is_even.py::test_is_even[3-False] \u001b[32mPASSED\u001b[0m\u001b[32m                            [ 77%]\u001b[0m\n",
            "test_is_even.py::test_is_even[-5-False] \u001b[32mPASSED\u001b[0m\u001b[32m                           [ 88%]\u001b[0m\n",
            "test_is_even.py::test_is_even[-4-True] \u001b[32mPASSED\u001b[0m\u001b[32m                            [100%]\u001b[0m\n",
            "\n",
            "\u001b[32m============================== \u001b[32m\u001b[1m9 passed\u001b[0m\u001b[32m in 0.03s\u001b[0m\u001b[32m ===============================\u001b[0m\n"
          ]
        }
      ]
    },
    {
      "cell_type": "code",
      "source": [
        "from is_even import is_even\n",
        "for i in range(5, 11):\n",
        "  print(f'{i} - is even? {is_even(i)}')"
      ],
      "metadata": {
        "colab": {
          "base_uri": "https://localhost:8080/"
        },
        "id": "gc5HfKlNyExF",
        "outputId": "1b506cb5-268a-4772-cf86-b833e7557e29"
      },
      "execution_count": null,
      "outputs": [
        {
          "output_type": "stream",
          "name": "stdout",
          "text": [
            "5 - is even? False\n",
            "6 - is even? True\n",
            "7 - is even? False\n",
            "8 - is even? True\n",
            "9 - is even? False\n",
            "10 - is even? True\n"
          ]
        }
      ]
    },
    {
      "cell_type": "markdown",
      "source": [
        "**Task 3**\\\n",
        "Write a function that calculates the sum of squares of consecutive natural numbers less than a given value."
      ],
      "metadata": {
        "id": "uCWekP_QyPP2"
      }
    },
    {
      "cell_type": "code",
      "source": [
        "%%file calculate_n_next_squares.py\n",
        "from typing import Any\n",
        "\n",
        "def check_whether_can_be_calculated(n: Any) -> bool:\n",
        "  \"\"\"\n",
        "  Helper function that checks wheter provided object can be casted to integer, \\n\n",
        "  if so checks whether it is lower/greater than 1.\n",
        "\n",
        "  Args:\n",
        "        x (__Any__): Object to check.\n",
        "  Returns:\n",
        "        bool: Return True/False whether object can be casted to int\n",
        "  \"\"\"\n",
        "  try:\n",
        "    int(n)\n",
        "    return True if n >= 1 else False\n",
        "  except TypeError:\n",
        "    return False\n",
        "\n",
        "def calculate_n_next_squares(max_natural_number: Any) -> int:\n",
        "  \"\"\"\n",
        "  Function that calculates sum for every natural number that is lower then provided input.\n",
        "\n",
        "  Args:\n",
        "        max_natural_number (__Any__): Object representation of number.\n",
        "\n",
        "  Returns:\n",
        "        int: Return sum of every lower digit then provided object.\n",
        "        \n",
        "  Raises:\n",
        "        TypeError: Occures when provided variable type is not correct. \n",
        "  \"\"\"\n",
        "  if check_whether_can_be_calculated(max_natural_number):\n",
        "    return sum([x**2 for x in range(1, max_natural_number)])\n"
      ],
      "metadata": {
        "colab": {
          "base_uri": "https://localhost:8080/"
        },
        "id": "srjc3Lp70Me6",
        "outputId": "f32df96f-829c-4297-9b4b-1c405a419980"
      },
      "execution_count": null,
      "outputs": [
        {
          "output_type": "stream",
          "name": "stdout",
          "text": [
            "Writing calculate_n_next_squares.py\n"
          ]
        }
      ]
    },
    {
      "cell_type": "code",
      "source": [
        "%%file test_calculate_n_next_squares.py\n",
        "import pytest\n",
        "from calculate_n_next_squares import calculate_n_next_squares\n",
        "\n",
        "@pytest.mark.parametrize(\n",
        "    ('input', 'expected'),\n",
        "    (\n",
        "        (5, 30),\n",
        "        (10, 285),\n",
        "        (14, 819),\n",
        "        (-5, None),\n",
        "        (0, None)\n",
        "    )\n",
        ")\n",
        "def test_calculate_n_next_squares(input, expected):\n",
        "  \"\"\"\n",
        "  Test function to check whether sum of squares for provided input is correct.\n",
        "  \"\"\"\n",
        "  assert calculate_n_next_squares(input) == expected"
      ],
      "metadata": {
        "colab": {
          "base_uri": "https://localhost:8080/"
        },
        "id": "g1npZ-x_WEUf",
        "outputId": "44f4ba8e-f82a-43b3-f96a-18ce88f62aad"
      },
      "execution_count": null,
      "outputs": [
        {
          "output_type": "stream",
          "name": "stdout",
          "text": [
            "Writing test_calculate_n_next_squares.py\n"
          ]
        }
      ]
    },
    {
      "cell_type": "code",
      "source": [
        "!python -m pytest test_calculate_n_next_squares.py -v"
      ],
      "metadata": {
        "colab": {
          "base_uri": "https://localhost:8080/"
        },
        "id": "lRjrGIpXXPMK",
        "outputId": "489fcfb4-c260-449e-85cd-810d58a066d8"
      },
      "execution_count": null,
      "outputs": [
        {
          "output_type": "stream",
          "name": "stdout",
          "text": [
            "\u001b[1m============================= test session starts ==============================\u001b[0m\n",
            "platform linux -- Python 3.9.16, pytest-7.2.2, pluggy-1.0.0 -- /usr/bin/python3\n",
            "cachedir: .pytest_cache\n",
            "rootdir: /content\n",
            "plugins: anyio-3.6.2\n",
            "\u001b[1mcollecting ... \u001b[0m\u001b[1m\rcollected 5 items                                                              \u001b[0m\n",
            "\n",
            "test_calculate_n_next_squares.py::test_calculate_n_next_squares[5-30] \u001b[32mPASSED\u001b[0m\u001b[32m [ 20%]\u001b[0m\n",
            "test_calculate_n_next_squares.py::test_calculate_n_next_squares[10-285] \u001b[32mPASSED\u001b[0m\u001b[32m [ 40%]\u001b[0m\n",
            "test_calculate_n_next_squares.py::test_calculate_n_next_squares[14-819] \u001b[32mPASSED\u001b[0m\u001b[32m [ 60%]\u001b[0m\n",
            "test_calculate_n_next_squares.py::test_calculate_n_next_squares[-5-None] \u001b[32mPASSED\u001b[0m\u001b[32m [ 80%]\u001b[0m\n",
            "test_calculate_n_next_squares.py::test_calculate_n_next_squares[0-None] \u001b[32mPASSED\u001b[0m\u001b[32m [100%]\u001b[0m\n",
            "\n",
            "\u001b[32m============================== \u001b[32m\u001b[1m5 passed\u001b[0m\u001b[32m in 0.03s\u001b[0m\u001b[32m ===============================\u001b[0m\n"
          ]
        }
      ]
    },
    {
      "cell_type": "code",
      "source": [
        "from calculate_n_next_squares import calculate_n_next_squares\n",
        "for i in range(5, 15):\n",
        "  print(f'Sum of squares for values lower than: {i}: {calculate_n_next_squares(i)}')"
      ],
      "metadata": {
        "id": "L40iousNPx9L",
        "colab": {
          "base_uri": "https://localhost:8080/"
        },
        "outputId": "c55aac7c-6596-48a9-9e5f-31bd5c0110b9"
      },
      "execution_count": null,
      "outputs": [
        {
          "output_type": "stream",
          "name": "stdout",
          "text": [
            "Sum of squares for values lower than: 5: 30\n",
            "Sum of squares for values lower than: 6: 55\n",
            "Sum of squares for values lower than: 7: 91\n",
            "Sum of squares for values lower than: 8: 140\n",
            "Sum of squares for values lower than: 9: 204\n",
            "Sum of squares for values lower than: 10: 285\n",
            "Sum of squares for values lower than: 11: 385\n",
            "Sum of squares for values lower than: 12: 506\n",
            "Sum of squares for values lower than: 13: 650\n",
            "Sum of squares for values lower than: 14: 819\n"
          ]
        }
      ]
    },
    {
      "cell_type": "markdown",
      "source": [
        "**Task 4**\\\n",
        "Write a function that checks if the given number is prime."
      ],
      "metadata": {
        "id": "hdvydH7r5Zhp"
      }
    },
    {
      "cell_type": "code",
      "source": [
        "%%file is_prime.py\n",
        "from is_even import can_be_casted_to_int\n",
        "from typing import Any\n",
        "\n",
        "def is_prime(n: Any) -> bool:\n",
        "  \"\"\"\n",
        "  Function that checks whether provided object is a prime number.\n",
        "\n",
        "  Args:\n",
        "        x (__Any__): Object representation of number.\n",
        "\n",
        "  Returns:\n",
        "        bool: Return True/False value based on result check.\n",
        "        \n",
        "  Raises:\n",
        "        TypeError: Occures when provided variable type is not correct. \n",
        "  \"\"\"\n",
        "  if can_be_casted_to_int(n):\n",
        "    if n > 1:\n",
        "      for div in range(2, int(n/2)+1):\n",
        "        if n % div == 0:\n",
        "          return False\n",
        "      return True\n",
        "    else:\n",
        "      return False\n",
        "  else:\n",
        "    raise TypeError(f'Provided var: {n} is not propper type!')"
      ],
      "metadata": {
        "colab": {
          "base_uri": "https://localhost:8080/"
        },
        "id": "RngnE01WQc7s",
        "outputId": "9b4b5d2d-129e-477e-e9cd-e9f311973e3f"
      },
      "execution_count": null,
      "outputs": [
        {
          "output_type": "stream",
          "name": "stdout",
          "text": [
            "Overwriting is_prime.py\n"
          ]
        }
      ]
    },
    {
      "cell_type": "code",
      "source": [
        "%%file test_is_prime.py\n",
        "from is_prime import is_prime\n",
        "import pytest\n",
        "\n",
        "@pytest.mark.parametrize(\n",
        "    ('input', 'expected'),\n",
        "    (\n",
        "        (0, False),\n",
        "        (1, False),\n",
        "        (2, True),\n",
        "        (5, True),\n",
        "        (13, True),\n",
        "        (101, True),\n",
        "        (-5, False),\n",
        "    )\n",
        ")\n",
        "def test_is_prime(input, expected):\n",
        "  \"\"\"\n",
        "  Test function to check whether provided input return expected value.\n",
        "  \"\"\"\n",
        "  assert is_prime(input) == expected\n",
        "  with pytest.raises(TypeError):\n",
        "    assert is_prime('abc') \n"
      ],
      "metadata": {
        "colab": {
          "base_uri": "https://localhost:8080/"
        },
        "id": "rjASLXTfT0RV",
        "outputId": "ec579a9f-2cb8-4ac0-dcfd-5f2ce29a2b85"
      },
      "execution_count": null,
      "outputs": [
        {
          "output_type": "stream",
          "name": "stdout",
          "text": [
            "Overwriting test_is_prime.py\n"
          ]
        }
      ]
    },
    {
      "cell_type": "code",
      "source": [
        "!python -m pytest test_is_prime.py -v"
      ],
      "metadata": {
        "colab": {
          "base_uri": "https://localhost:8080/"
        },
        "id": "s70HaGBHUz_a",
        "outputId": "50bca2d7-ff57-4a7a-c7cc-ca09ce050314"
      },
      "execution_count": null,
      "outputs": [
        {
          "output_type": "stream",
          "name": "stdout",
          "text": [
            "\u001b[1m============================= test session starts ==============================\u001b[0m\n",
            "platform linux -- Python 3.9.16, pytest-7.2.2, pluggy-1.0.0 -- /usr/bin/python3\n",
            "cachedir: .pytest_cache\n",
            "rootdir: /content\n",
            "plugins: anyio-3.6.2\n",
            "\u001b[1mcollecting ... \u001b[0m\u001b[1m\rcollected 7 items                                                              \u001b[0m\n",
            "\n",
            "test_is_prime.py::test_is_prime[0-False] \u001b[32mPASSED\u001b[0m\u001b[32m                          [ 14%]\u001b[0m\n",
            "test_is_prime.py::test_is_prime[1-False] \u001b[32mPASSED\u001b[0m\u001b[32m                          [ 28%]\u001b[0m\n",
            "test_is_prime.py::test_is_prime[2-True] \u001b[32mPASSED\u001b[0m\u001b[32m                           [ 42%]\u001b[0m\n",
            "test_is_prime.py::test_is_prime[5-True] \u001b[32mPASSED\u001b[0m\u001b[32m                           [ 57%]\u001b[0m\n",
            "test_is_prime.py::test_is_prime[13-True] \u001b[32mPASSED\u001b[0m\u001b[32m                          [ 71%]\u001b[0m\n",
            "test_is_prime.py::test_is_prime[101-True] \u001b[32mPASSED\u001b[0m\u001b[32m                         [ 85%]\u001b[0m\n",
            "test_is_prime.py::test_is_prime[-5-False] \u001b[32mPASSED\u001b[0m\u001b[32m                         [100%]\u001b[0m\n",
            "\n",
            "\u001b[32m============================== \u001b[32m\u001b[1m7 passed\u001b[0m\u001b[32m in 0.04s\u001b[0m\u001b[32m ===============================\u001b[0m\n"
          ]
        }
      ]
    },
    {
      "cell_type": "code",
      "source": [
        "from is_prime import is_prime\n",
        "for i in range(-1, 5):\n",
        "  print(f'{i}: is_prime? {is_prime(i)}')"
      ],
      "metadata": {
        "colab": {
          "base_uri": "https://localhost:8080/"
        },
        "id": "zv6mDasRQ3kN",
        "outputId": "0b61543e-b91d-4dda-b009-511622289b46"
      },
      "execution_count": null,
      "outputs": [
        {
          "output_type": "stream",
          "name": "stdout",
          "text": [
            "-1: is_prime? False\n",
            "0: is_prime? False\n",
            "1: is_prime? False\n",
            "2: is_prime? True\n",
            "3: is_prime? True\n",
            "4: is_prime? False\n"
          ]
        }
      ]
    },
    {
      "cell_type": "markdown",
      "source": [
        "**Task 5**\\\n",
        "Write a function that finds the divisors of the given number."
      ],
      "metadata": {
        "id": "LnIYCc7cTfFG"
      }
    },
    {
      "cell_type": "code",
      "source": [
        "%%file divisors.py\n",
        "from is_even import can_be_casted_to_int\n",
        "\n",
        "def divisors(n: int) -> list[int]:\n",
        "  \"\"\"\n",
        "  Function that find all divisors of provided number.\n",
        "\n",
        "  Args:\n",
        "        n (__int__): Number to calculate all of the divisors.\n",
        "\n",
        "  Returns:\n",
        "        list[int]: Lits of integers values, which are divisors of provided number.\n",
        "        \n",
        "  Raises:\n",
        "        TypeError: Occures when provided variable type is not correct. \n",
        "  \"\"\"\n",
        "  if can_be_casted_to_int(n):\n",
        "    if n > 1:\n",
        "      return list([div for div in range(1, n + 1) if n % div == 0])\n",
        "  else:\n",
        "    raise TypeError(f'Provided var: {n} has not expected type!')"
      ],
      "metadata": {
        "colab": {
          "base_uri": "https://localhost:8080/"
        },
        "id": "AU2h_fpVXbM1",
        "outputId": "641d16b8-6290-4e9b-bf5d-d05b07f12e6e"
      },
      "execution_count": 8,
      "outputs": [
        {
          "output_type": "stream",
          "name": "stdout",
          "text": [
            "Overwriting divisors.py\n"
          ]
        }
      ]
    },
    {
      "cell_type": "code",
      "source": [
        "%%file test_divisors.py\n",
        "import pytest\n",
        "from divisors import divisors\n",
        "\n",
        "@pytest.mark.parametrize(\n",
        "    ('input_number', 'list_of_divisors'),\n",
        "    [\n",
        "        pytest.param(2, [1, 2]),\n",
        "        pytest.param(8, [1, 2, 4, 8]),\n",
        "        pytest.param(10, [1, 2, 5, 10]),\n",
        "        pytest.param(-5, None)\n",
        "    ]\n",
        ")\n",
        "def test_divisors(input_number, list_of_divisors):\n",
        "  \"\"\"\n",
        "  Custom test function to check whether for provided input we've got expected list of divisors.\n",
        "  \"\"\"\n",
        "  assert divisors(input_number) == list_of_divisors"
      ],
      "metadata": {
        "colab": {
          "base_uri": "https://localhost:8080/"
        },
        "id": "3a4eUu9KaI8q",
        "outputId": "f5f16f8b-dc5e-4df7-b7bd-b1d2de19ce8c"
      },
      "execution_count": 9,
      "outputs": [
        {
          "output_type": "stream",
          "name": "stdout",
          "text": [
            "Writing test_divisors.py\n"
          ]
        }
      ]
    },
    {
      "cell_type": "code",
      "source": [
        "!python -m pytest test_divisors.py -v"
      ],
      "metadata": {
        "colab": {
          "base_uri": "https://localhost:8080/"
        },
        "id": "5qw5QmRnbeV9",
        "outputId": "35148d39-6af8-4dbc-f519-a7da7d8081bd"
      },
      "execution_count": 10,
      "outputs": [
        {
          "output_type": "stream",
          "name": "stdout",
          "text": [
            "\u001b[1m============================= test session starts ==============================\u001b[0m\n",
            "platform linux -- Python 3.9.16, pytest-7.2.2, pluggy-1.0.0 -- /usr/bin/python3\n",
            "cachedir: .pytest_cache\n",
            "rootdir: /content\n",
            "plugins: anyio-3.6.2\n",
            "\u001b[1mcollecting ... \u001b[0m\u001b[1m\rcollected 4 items                                                              \u001b[0m\n",
            "\n",
            "test_divisors.py::test_divisors[2-list_of_divisors0] \u001b[32mPASSED\u001b[0m\u001b[32m              [ 25%]\u001b[0m\n",
            "test_divisors.py::test_divisors[8-list_of_divisors1] \u001b[32mPASSED\u001b[0m\u001b[32m              [ 50%]\u001b[0m\n",
            "test_divisors.py::test_divisors[10-list_of_divisors2] \u001b[32mPASSED\u001b[0m\u001b[32m             [ 75%]\u001b[0m\n",
            "test_divisors.py::test_divisors[-5-None] \u001b[32mPASSED\u001b[0m\u001b[32m                          [100%]\u001b[0m\n",
            "\n",
            "\u001b[32m============================== \u001b[32m\u001b[1m4 passed\u001b[0m\u001b[32m in 0.03s\u001b[0m\u001b[32m ===============================\u001b[0m\n"
          ]
        }
      ]
    },
    {
      "cell_type": "code",
      "source": [
        "from divisors import divisors\n",
        "for i in range(2, 25):\n",
        "  print(f'Divisors for: {i} - {divisors(i)}')"
      ],
      "metadata": {
        "colab": {
          "base_uri": "https://localhost:8080/"
        },
        "id": "cStUDllTbiIG",
        "outputId": "10673a71-fa03-42fc-c4eb-1a9eae279be6"
      },
      "execution_count": 12,
      "outputs": [
        {
          "output_type": "stream",
          "name": "stdout",
          "text": [
            "Divisors for: 2 - [1, 2]\n",
            "Divisors for: 3 - [1, 3]\n",
            "Divisors for: 4 - [1, 2, 4]\n",
            "Divisors for: 5 - [1, 5]\n",
            "Divisors for: 6 - [1, 2, 3, 6]\n",
            "Divisors for: 7 - [1, 7]\n",
            "Divisors for: 8 - [1, 2, 4, 8]\n",
            "Divisors for: 9 - [1, 3, 9]\n",
            "Divisors for: 10 - [1, 2, 5, 10]\n",
            "Divisors for: 11 - [1, 11]\n",
            "Divisors for: 12 - [1, 2, 3, 4, 6, 12]\n",
            "Divisors for: 13 - [1, 13]\n",
            "Divisors for: 14 - [1, 2, 7, 14]\n",
            "Divisors for: 15 - [1, 3, 5, 15]\n",
            "Divisors for: 16 - [1, 2, 4, 8, 16]\n",
            "Divisors for: 17 - [1, 17]\n",
            "Divisors for: 18 - [1, 2, 3, 6, 9, 18]\n",
            "Divisors for: 19 - [1, 19]\n",
            "Divisors for: 20 - [1, 2, 4, 5, 10, 20]\n",
            "Divisors for: 21 - [1, 3, 7, 21]\n",
            "Divisors for: 22 - [1, 2, 11, 22]\n",
            "Divisors for: 23 - [1, 23]\n",
            "Divisors for: 24 - [1, 2, 3, 4, 6, 8, 12, 24]\n"
          ]
        }
      ]
    },
    {
      "cell_type": "markdown",
      "source": [
        "**Task 6**\\\n",
        "Write a function that returns the distribution of a given number into prime divisors."
      ],
      "metadata": {
        "id": "PJpex4Cob-qQ"
      }
    },
    {
      "cell_type": "code",
      "source": [
        "%%file divide_number_to_prime_divisors.py\n",
        "from is_even import can_be_casted_to_int\n",
        "\n",
        "def divide_number_to_prime_divisors(n: int) -> list[int]:\n",
        "  \"\"\"\n",
        "  Function that finds all prime factors for provided number.\n",
        "\n",
        "  Args:\n",
        "        n (__int__): Number to calculate prime factors.\n",
        "\n",
        "  Returns:\n",
        "        list[int]: Lits of integers values, which are prime factors provided number.\n",
        "        \n",
        "  Raises:\n",
        "        ValueError: Occures when value of number is lower than 1st prime number. \n",
        "  \"\"\"\n",
        "  if can_be_casted_to_int(n):\n",
        "    if n > 1:\n",
        "      # Setting 1st prime number\n",
        "      k: int = 2\n",
        "      prime_divisors: list[int] = list()\n",
        "\n",
        "      \"\"\"\n",
        "      While provided number is greater than 1 (so it is equal/higher than 1st prime number).\n",
        "      While n % k == 0 (Prime factor divides provided number) append it to provided list.\n",
        "      Divide out number by its prime factor and increment values of k.\n",
        "      \"\"\"\n",
        "      while n > 1:\n",
        "        while n % k == 0:\n",
        "          prime_divisors.append(k)\n",
        "          n /= k\n",
        "        k += 1\n",
        "      return prime_divisors\n",
        "    else:\n",
        "      raise ValueError(f'Provided number is lower than 1st prime number!')"
      ],
      "metadata": {
        "id": "A-hkFD2R1NBq",
        "colab": {
          "base_uri": "https://localhost:8080/"
        },
        "outputId": "914681db-8b55-45cd-f44e-4c4bc0f1d333"
      },
      "execution_count": 33,
      "outputs": [
        {
          "output_type": "stream",
          "name": "stdout",
          "text": [
            "Overwriting divide_number_to_prime_divisors.py\n"
          ]
        }
      ]
    },
    {
      "cell_type": "code",
      "source": [
        "%%file test_divide_number_to_prime_divisors.py\n",
        "from divide_number_to_prime_divisors import divide_number_to_prime_divisors\n",
        "import pytest\n",
        "\n",
        "@pytest.mark.parametrize(\n",
        "    ('input', 'expected'),\n",
        "    [\n",
        "        pytest.param(24, [2, 2, 2, 3]),\n",
        "        pytest.param(100, [2, 2, 5, 5]),\n",
        "        pytest.param(1520, [2, 2, 2, 2, 5, 19])\n",
        "    ]\n",
        ")\n",
        "def test_divide_number_to_prime_divisors(input, expected):\n",
        "  \"\"\"\n",
        "  Test function to test above specified test cases.\n",
        "  \"\"\"\n",
        "  assert divide_number_to_prime_divisors(input) == expected\n",
        "\n",
        "def test_divide_number_to_prime_divisors_error():\n",
        "  \"\"\"\n",
        "  Test function to check whether expected error is being raised for wrong input.\n",
        "  \"\"\"\n",
        "  with pytest.raises(ValueError):\n",
        "    assert divide_number_to_prime_divisors(1)"
      ],
      "metadata": {
        "colab": {
          "base_uri": "https://localhost:8080/"
        },
        "id": "SvRMlCKZQ3er",
        "outputId": "55b3211e-531b-4d11-8a46-8d69aea71514"
      },
      "execution_count": 36,
      "outputs": [
        {
          "output_type": "stream",
          "name": "stdout",
          "text": [
            "Overwriting test_divide_number_to_prime_divisors.py\n"
          ]
        }
      ]
    },
    {
      "cell_type": "code",
      "source": [
        "!python -m pytest test_divide_number_to_prime_divisors.py -v"
      ],
      "metadata": {
        "colab": {
          "base_uri": "https://localhost:8080/"
        },
        "id": "WlzuDNQOThYi",
        "outputId": "ce3560d9-71ad-482d-e324-fb8664b6c6fa"
      },
      "execution_count": 37,
      "outputs": [
        {
          "output_type": "stream",
          "name": "stdout",
          "text": [
            "\u001b[1m============================= test session starts ==============================\u001b[0m\n",
            "platform linux -- Python 3.9.16, pytest-7.2.2, pluggy-1.0.0 -- /usr/bin/python3\n",
            "cachedir: .pytest_cache\n",
            "rootdir: /content\n",
            "plugins: anyio-3.6.2\n",
            "\u001b[1mcollecting ... \u001b[0m\u001b[1m\rcollected 4 items                                                              \u001b[0m\n",
            "\n",
            "test_divide_number_to_prime_divisors.py::test_divide_number_to_prime_divisors[24-expected0] \u001b[32mPASSED\u001b[0m\u001b[32m [ 25%]\u001b[0m\n",
            "test_divide_number_to_prime_divisors.py::test_divide_number_to_prime_divisors[100-expected1] \u001b[32mPASSED\u001b[0m\u001b[32m [ 50%]\u001b[0m\n",
            "test_divide_number_to_prime_divisors.py::test_divide_number_to_prime_divisors[1520-expected2] \u001b[32mPASSED\u001b[0m\u001b[32m [ 75%]\u001b[0m\n",
            "test_divide_number_to_prime_divisors.py::test_divide_number_to_prime_divisors_error \u001b[32mPASSED\u001b[0m\u001b[32m [100%]\u001b[0m\n",
            "\n",
            "\u001b[32m============================== \u001b[32m\u001b[1m4 passed\u001b[0m\u001b[32m in 0.02s\u001b[0m\u001b[32m ===============================\u001b[0m\n"
          ]
        }
      ]
    },
    {
      "cell_type": "markdown",
      "source": [
        "**Task 7**\\\n",
        "Write a function that finds the smallest common multiple of the given two numbers."
      ],
      "metadata": {
        "id": "ezT-QEPo1PGs"
      }
    },
    {
      "cell_type": "code",
      "source": [
        "%%file calculate_nww.py\n",
        "def nww(a: int, b: int) -> int:\n",
        "  \"\"\"\n",
        "  Function that calculates smallest common multiple of two given numbers.\n",
        "\n",
        "  Args:\n",
        "        a (__int__): First number to calculate.\n",
        "        b (__int__): Second number to calculate.\n",
        "\n",
        "  Returns:\n",
        "        int: Value representation of common multiple of two given numbers.\n",
        "        \n",
        "  Raises:\n",
        "        TypeError: Occures when provided variable type is not correct.\n",
        "  \"\"\"\n",
        "  if isinstance(a, int) and isinstance(b, int):\n",
        "    return a * b / nwd(a, b)\n",
        "  else:\n",
        "    raise TypeError(f'Provided variable type is not correct!')\n",
        "\n",
        "def nwd(a: int, b: int) -> int:\n",
        "  \"\"\"\n",
        "  Function that calculates greatest common divisor.\n",
        "\n",
        "  Args:\n",
        "        a (__int__): First number to calculate.\n",
        "        b (__int__): Second number to calculate.\n",
        "\n",
        "  Returns:\n",
        "        int: Value representation of greatest common divisor of two given numbers.\n",
        "  \"\"\"\n",
        "  if b != 0:\n",
        "    return nwd(b, a%b)\n",
        "  return a"
      ],
      "metadata": {
        "id": "531sa1at1PYl",
        "colab": {
          "base_uri": "https://localhost:8080/"
        },
        "outputId": "31fe55a4-8219-4c56-c241-802ee3f477e8"
      },
      "execution_count": 43,
      "outputs": [
        {
          "output_type": "stream",
          "name": "stdout",
          "text": [
            "Writing calculate_nww.py\n"
          ]
        }
      ]
    },
    {
      "cell_type": "code",
      "source": [
        "%%file test_calculate_nww.py\n",
        "from calculate_nww import nww\n",
        "import pytest\n",
        "\n",
        "@pytest.mark.parametrize(\n",
        "    ('first_number', 'second_number','expected'),\n",
        "    [\n",
        "        pytest.param(24, 36, 72),\n",
        "        pytest.param(12, 18, 36)\n",
        "    ]\n",
        ")\n",
        "def test_nww(first_number,second_number, expected):\n",
        "  \"\"\"\n",
        "  Test function to check above declared cases.\n",
        "  \"\"\"\n",
        "  assert nww(first_number, second_number) == expected\n",
        "\n",
        "def test_nww_error():\n",
        "  \"\"\"\n",
        "  Test function to check whether for wrong input expected error is being raised.\n",
        "  \"\"\"\n",
        "  with pytest.raises(TypeError):\n",
        "    assert nww('a', 1)"
      ],
      "metadata": {
        "colab": {
          "base_uri": "https://localhost:8080/"
        },
        "id": "ycdzyb6JYwX1",
        "outputId": "2cd3b178-efd7-4e77-acdd-85e7a19bda2e"
      },
      "execution_count": 49,
      "outputs": [
        {
          "output_type": "stream",
          "name": "stdout",
          "text": [
            "Overwriting test_calculate_nww.py\n"
          ]
        }
      ]
    },
    {
      "cell_type": "code",
      "source": [
        "!python -m pytest test_calculate_nww.py -v"
      ],
      "metadata": {
        "colab": {
          "base_uri": "https://localhost:8080/"
        },
        "id": "CkwtCTADZm4f",
        "outputId": "57d117b0-d5f8-41fd-d937-190aa2b4a106"
      },
      "execution_count": 47,
      "outputs": [
        {
          "output_type": "stream",
          "name": "stdout",
          "text": [
            "\u001b[1m============================= test session starts ==============================\u001b[0m\n",
            "platform linux -- Python 3.9.16, pytest-7.2.2, pluggy-1.0.0 -- /usr/bin/python3\n",
            "cachedir: .pytest_cache\n",
            "rootdir: /content\n",
            "plugins: anyio-3.6.2\n",
            "\u001b[1mcollecting ... \u001b[0m\u001b[1m\rcollected 3 items                                                              \u001b[0m\n",
            "\n",
            "test_calculate_nww.py::test_nww[24-36-72] \u001b[32mPASSED\u001b[0m\u001b[32m                         [ 33%]\u001b[0m\n",
            "test_calculate_nww.py::test_nww[12-18-36] \u001b[32mPASSED\u001b[0m\u001b[32m                         [ 66%]\u001b[0m\n",
            "test_calculate_nww.py::test_nww_error \u001b[32mPASSED\u001b[0m\u001b[32m                             [100%]\u001b[0m\n",
            "\n",
            "\u001b[32m============================== \u001b[32m\u001b[1m3 passed\u001b[0m\u001b[32m in 0.02s\u001b[0m\u001b[32m ===============================\u001b[0m\n"
          ]
        }
      ]
    },
    {
      "cell_type": "code",
      "source": [
        "from calculate_nww import nww\n",
        "print(nww(18, 12))"
      ],
      "metadata": {
        "colab": {
          "base_uri": "https://localhost:8080/"
        },
        "id": "GGnwiqBwZyKR",
        "outputId": "70f735fe-d360-4112-bbdc-60083d282a5b"
      },
      "execution_count": 48,
      "outputs": [
        {
          "output_type": "stream",
          "name": "stdout",
          "text": [
            "36.0\n"
          ]
        }
      ]
    },
    {
      "cell_type": "markdown",
      "source": [
        "**Task 8**\\\n",
        "Write a function that represents a given number in binary form."
      ],
      "metadata": {
        "id": "fGgDJYSB0UMp"
      }
    },
    {
      "cell_type": "code",
      "source": [
        "%%file represent_binary.py\n",
        "def represent_binary(n: int) -> str:\n",
        "  \"\"\"\n",
        "  Function that turn decimal number representation to its binary form.\n",
        "\n",
        "  Args:\n",
        "        n (__int__): Integer number to represent as binary.\n",
        "\n",
        "  Returns:\n",
        "        str: String representation of binary value.\n",
        "        \n",
        "  Raises:\n",
        "        TypeError: Occures when provided variable type is not correct.\n",
        "  \"\"\"\n",
        "  if isinstance(n, int):\n",
        "    return str(bin(n)).split('b')[1]\n",
        "  else:\n",
        "    raise TypeError(f'Provided variable type is not correct: {type(n)}!')"
      ],
      "metadata": {
        "id": "hLv7jmn70U6F",
        "colab": {
          "base_uri": "https://localhost:8080/"
        },
        "outputId": "15e175bb-3ac8-4ddc-f8bd-aec64f21131b"
      },
      "execution_count": 50,
      "outputs": [
        {
          "output_type": "stream",
          "name": "stdout",
          "text": [
            "Writing represent_binary.py\n"
          ]
        }
      ]
    },
    {
      "cell_type": "code",
      "source": [
        "%%file test_represent_binary.py\n",
        "from represent_binary import represent_binary\n",
        "import pytest\n",
        "\n",
        "@pytest.mark.parametrize(\n",
        "    ('input', 'expected'),\n",
        "    (\n",
        "        (100, '1100100'),\n",
        "        (5, '101'),\n",
        "        (1, '1'),\n",
        "\n",
        "    )\n",
        ")\n",
        "def test_represent_binary(input, expected):\n",
        "  \"\"\"\n",
        "  Test function to check whether we're getting expected result for provided input\n",
        "  \"\"\"\n",
        "  assert represent_binary(input) == expected\n",
        "\n",
        "def test_represent_binary_error():\n",
        "  \"\"\"\n",
        "  Test function to check whether we're getting expected error for provided input.\n",
        "  \"\"\"\n",
        "  with pytest.raises(TypeError):\n",
        "    assert represent_binary('abx')"
      ],
      "metadata": {
        "colab": {
          "base_uri": "https://localhost:8080/"
        },
        "id": "tjSQgukKb4Wp",
        "outputId": "e1aab081-9e4a-429d-b151-5efe0e0cb30b"
      },
      "execution_count": 57,
      "outputs": [
        {
          "output_type": "stream",
          "name": "stdout",
          "text": [
            "Overwriting test_represent_binary.py\n"
          ]
        }
      ]
    },
    {
      "cell_type": "code",
      "source": [
        "!python -m pytest test_represent_binary.py -v"
      ],
      "metadata": {
        "colab": {
          "base_uri": "https://localhost:8080/"
        },
        "id": "qegIYsoRc1pV",
        "outputId": "a0f3ff3d-e425-4cea-e91f-020a950e3df7"
      },
      "execution_count": 58,
      "outputs": [
        {
          "output_type": "stream",
          "name": "stdout",
          "text": [
            "\u001b[1m============================= test session starts ==============================\u001b[0m\n",
            "platform linux -- Python 3.9.16, pytest-7.2.2, pluggy-1.0.0 -- /usr/bin/python3\n",
            "cachedir: .pytest_cache\n",
            "rootdir: /content\n",
            "plugins: anyio-3.6.2\n",
            "\u001b[1mcollecting ... \u001b[0m\u001b[1m\rcollected 4 items                                                              \u001b[0m\n",
            "\n",
            "test_represent_binary.py::test_represent_binary[100-1100100] \u001b[32mPASSED\u001b[0m\u001b[32m      [ 25%]\u001b[0m\n",
            "test_represent_binary.py::test_represent_binary[5-101] \u001b[32mPASSED\u001b[0m\u001b[32m            [ 50%]\u001b[0m\n",
            "test_represent_binary.py::test_represent_binary[1-1] \u001b[32mPASSED\u001b[0m\u001b[32m              [ 75%]\u001b[0m\n",
            "test_represent_binary.py::test_represent_binary_error \u001b[32mPASSED\u001b[0m\u001b[32m             [100%]\u001b[0m\n",
            "\n",
            "\u001b[32m============================== \u001b[32m\u001b[1m4 passed\u001b[0m\u001b[32m in 0.02s\u001b[0m\u001b[32m ===============================\u001b[0m\n"
          ]
        }
      ]
    },
    {
      "cell_type": "code",
      "source": [
        "from represent_binary import represent_binary\n",
        "represent_binary(100)"
      ],
      "metadata": {
        "colab": {
          "base_uri": "https://localhost:8080/",
          "height": 36
        },
        "id": "U8T0430g03_Y",
        "outputId": "77db917d-d614-426c-c72e-47ff1bfe5d31"
      },
      "execution_count": 59,
      "outputs": [
        {
          "output_type": "execute_result",
          "data": {
            "text/plain": [
              "'1100100'"
            ],
            "application/vnd.google.colaboratory.intrinsic+json": {
              "type": "string"
            }
          },
          "metadata": {},
          "execution_count": 59
        }
      ]
    },
    {
      "cell_type": "markdown",
      "source": [
        "**Task 9**\\\n",
        "Write a function that, for given values of the coefficients of a quadratic triangle, finds its zero places."
      ],
      "metadata": {
        "id": "h40nJ6DZzVra"
      }
    },
    {
      "cell_type": "code",
      "source": [
        "%%file calculate_zero_places.py\n",
        "import math\n",
        "def check_instances(*args: float) -> bool:\n",
        "  \"\"\"\n",
        "  Helper function to check whether we're getting numberic values for all passed arguments.\n",
        "\n",
        "  Args:\n",
        "        *args (__float__): Collection of n-passed numbers.\n",
        "\n",
        "  Returns:\n",
        "        bool: True/False based on we're getting only numeric values or not.\n",
        "  \"\"\"\n",
        "  if all([isinstance(item, (int, float)) for item in args]):\n",
        "    return True\n",
        "  return False\n",
        "\n",
        "def calculate_zero_places(a: float, b: float, c: float) -> tuple[float, float]:\n",
        "  \"\"\"\n",
        "  Function that calculates zero places for passed coefficients of the quadratic function.\n",
        "\n",
        "  Args:\n",
        "        a (__float__): Coefficent before a in quadratic function.\n",
        "        b (__float__): Coefficent before b in quadratic function.\n",
        "        c (__float__): Coefficent before c in quadratic function.\n",
        "\n",
        "  Returns:\n",
        "        tuple[float, float]: Tuple representation of quadratic function zero places.\n",
        "        \n",
        "  Raises:\n",
        "        ValueError: Occures when delta is lower than 0.\n",
        "  \"\"\"\n",
        "  if check_instances(a, b, c):\n",
        "    delta: float = b**2 - 4*a*c\n",
        "    if delta > 0:\n",
        "      return (-b-math.sqrt(delta))/ 2*a, (-b+math.sqrt(delta))/ 2*a\n",
        "    elif delta == 0:\n",
        "      return -b/2*a\n",
        "    else:\n",
        "      raise ValueError('No primes in the real number domain!')\n"
      ],
      "metadata": {
        "id": "bE2hRG2PzVWr",
        "colab": {
          "base_uri": "https://localhost:8080/"
        },
        "outputId": "b019b901-ce1c-4769-9a5a-2501b563afad"
      },
      "execution_count": 65,
      "outputs": [
        {
          "output_type": "stream",
          "name": "stdout",
          "text": [
            "Writing calculate_zero_places.py\n"
          ]
        }
      ]
    },
    {
      "cell_type": "code",
      "source": [
        "%%file test_calculate_zero_places.py\n",
        "from calculate_zero_places import calculate_zero_places\n",
        "import pytest\n",
        "\n",
        "@pytest.mark.parametrize(\n",
        "    ('a', 'b', 'c', 'expected'),\n",
        "    [\n",
        "        pytest.param(1, 5, 6, (-3, -2)),\n",
        "        pytest.param(1, 4, 4, -2)\n",
        "    ]\n",
        ")\n",
        "def test_calculate_zero_places(a, b, c, expected):\n",
        "  \"\"\"\n",
        "  Test function that checks above declared cases.\n",
        "  \"\"\"\n",
        "  assert calculate_zero_places(a, b, c) == expected\n",
        "\n",
        "def test_calculate_zero_plaes_delta_lower_than_zero():\n",
        "  \"\"\"\n",
        "  Test function to check whether for provided input we're getting expected error.\n",
        "  \"\"\"\n",
        "  with pytest.raises(ValueError):\n",
        "    assert calculate_zero_places(1, 5, 10)"
      ],
      "metadata": {
        "colab": {
          "base_uri": "https://localhost:8080/"
        },
        "id": "p2cSt8ufg3oz",
        "outputId": "f252a109-8dfb-42dd-ed5a-20b3e877a954"
      },
      "execution_count": 69,
      "outputs": [
        {
          "output_type": "stream",
          "name": "stdout",
          "text": [
            "Overwriting test_calculate_zero_places.py\n"
          ]
        }
      ]
    },
    {
      "cell_type": "code",
      "source": [
        "!python -m pytest test_calculate_zero_places.py -v"
      ],
      "metadata": {
        "colab": {
          "base_uri": "https://localhost:8080/"
        },
        "id": "xXcSdoRNg3xz",
        "outputId": "9fd88acd-6085-42f1-959f-08f7bd321eb1"
      },
      "execution_count": 68,
      "outputs": [
        {
          "output_type": "stream",
          "name": "stdout",
          "text": [
            "\u001b[1m============================= test session starts ==============================\u001b[0m\n",
            "platform linux -- Python 3.9.16, pytest-7.2.2, pluggy-1.0.0 -- /usr/bin/python3\n",
            "cachedir: .pytest_cache\n",
            "rootdir: /content\n",
            "plugins: anyio-3.6.2\n",
            "\u001b[1mcollecting ... \u001b[0m\u001b[1m\rcollected 3 items                                                              \u001b[0m\n",
            "\n",
            "test_calculate_zero_places.py::test_calculate_zero_places[1-5-6-expected0] \u001b[32mPASSED\u001b[0m\u001b[32m [ 33%]\u001b[0m\n",
            "test_calculate_zero_places.py::test_calculate_zero_places[1-4-4--2] \u001b[32mPASSED\u001b[0m\u001b[32m [ 66%]\u001b[0m\n",
            "test_calculate_zero_places.py::test_calculate_zero_plaes_delta_lower_than_zero \u001b[32mPASSED\u001b[0m\u001b[32m [100%]\u001b[0m\n",
            "\n",
            "\u001b[32m============================== \u001b[32m\u001b[1m3 passed\u001b[0m\u001b[32m in 0.02s\u001b[0m\u001b[32m ===============================\u001b[0m\n"
          ]
        }
      ]
    },
    {
      "cell_type": "code",
      "source": [
        "from calculate_zero_places import calculate_zero_places\n",
        "print(f'Zero places for function: x^2 + 5x + 6')\n",
        "print(calculate_zero_places(1, 5, 6))"
      ],
      "metadata": {
        "colab": {
          "base_uri": "https://localhost:8080/"
        },
        "id": "a9y6omJviOWP",
        "outputId": "722f3f93-dc1c-49a7-f941-20d8466753d4"
      },
      "execution_count": 70,
      "outputs": [
        {
          "output_type": "stream",
          "name": "stdout",
          "text": [
            "Zero places for function: x^2 + 5x + 6\n",
            "(-3.0, -2.0)\n"
          ]
        }
      ]
    },
    {
      "cell_type": "markdown",
      "source": [
        "**Task 10**\\\n",
        "Write a function that, for a given n, computes n! Give different solutions to this problem."
      ],
      "metadata": {
        "id": "TRGUxE7EywZx"
      }
    },
    {
      "cell_type": "code",
      "source": [
        "%%file calculate_power_of.py\n",
        "\n",
        "def n_power_recursive(n: int) -> int:\n",
        "  \"\"\"\n",
        "  Function that calculates power of n using recursive method.\n",
        "\n",
        "  Args:\n",
        "        n (__int__): Number to calculate power of n.\n",
        "\n",
        "  Returns:\n",
        "        int: Power of n value.\n",
        "        \n",
        "  Raises:\n",
        "        TypeError: Occures when provided variable type is not correct.\n",
        "  \"\"\"\n",
        "  if isinstance(n, int):\n",
        "    if n > 1:\n",
        "      return n * n_power_recursive(n-1)\n",
        "    else:\n",
        "      return 1\n",
        "  else:\n",
        "    raise TypeError(f'Provided variable type is not correct: {type(n)}!')\n",
        "\n",
        "def n_power_iterative(n: int) -> int:\n",
        "  \"\"\"\n",
        "  Function that calculates power of n using iterative method.\n",
        "\n",
        "  Args:\n",
        "        n (__int__): Number to calculate power of n.\n",
        "\n",
        "  Returns:\n",
        "        int: Power of n value.\n",
        "        \n",
        "  Raises:\n",
        "        TypeError: Occures when provided variable type is not correct.\n",
        "  \"\"\"\n",
        "  if isinstance(n, int):\n",
        "    result: int = 1\n",
        "    for i in range(1, n + 1):\n",
        "      result *= i\n",
        "    return result\n",
        "  else:\n",
        "    raise TypeError(f'Provided variable type is not correct: {type(n)}!')"
      ],
      "metadata": {
        "id": "NbZ28VQEywkK",
        "colab": {
          "base_uri": "https://localhost:8080/"
        },
        "outputId": "e5dbaa14-4031-42ff-ee7b-a18cc12abdbf"
      },
      "execution_count": 76,
      "outputs": [
        {
          "output_type": "stream",
          "name": "stdout",
          "text": [
            "Overwriting calculate_power_of.py\n"
          ]
        }
      ]
    },
    {
      "cell_type": "code",
      "source": [
        "%%file test_calculate_power_of.py\n",
        "from calculate_power_of import n_power_recursive, n_power_iterative\n",
        "import pytest\n",
        "\n",
        "@pytest.mark.parametrize(\n",
        "    ('input', 'expected'),\n",
        "    (\n",
        "        (5, 120),\n",
        "        (10, 3628800),\n",
        "        (1, 1),\n",
        "        (2, 2),\n",
        "     \n",
        "    )\n",
        ")\n",
        "def test_n_power_recursive(input, expected):\n",
        "  \"\"\"\n",
        "  Test function to check results for power of n using recursive method.\n",
        "  \"\"\"\n",
        "  assert n_power_recursive(input) == expected\n",
        "\n",
        "def test_n_power_recursive_error():\n",
        "  \"\"\"\n",
        "  Test function to check whether we're getting expected error for wrong input.\n",
        "  \"\"\"\n",
        "  with pytest.raises(TypeError):\n",
        "    assert n_power_recursive('abc')\n",
        "\n",
        "@pytest.mark.parametrize(\n",
        "    ('input', 'expected'),\n",
        "    (\n",
        "        (5, 120),\n",
        "        (10, 3628800),\n",
        "        (1, 1),\n",
        "        (2, 2),\n",
        "     \n",
        "    )\n",
        ")\n",
        "def test_n_power_iterative(input, expected):\n",
        "  \"\"\"\n",
        "  Test function to check results for power of n using iterative method.\n",
        "  \"\"\"\n",
        "  assert n_power_iterative(input) == expected\n",
        "\n",
        "def test_n_power_iterative_error():\n",
        "  \"\"\"\n",
        "  Test function to check whether we're getting expected error for wrong input.\n",
        "  \"\"\"\n",
        "  with pytest.raises(TypeError):\n",
        "    assert n_power_iterative('abc')"
      ],
      "metadata": {
        "colab": {
          "base_uri": "https://localhost:8080/"
        },
        "id": "CGss2UAHnGBV",
        "outputId": "ff728589-2137-4f57-dab9-44fb25cb344f"
      },
      "execution_count": 78,
      "outputs": [
        {
          "output_type": "stream",
          "name": "stdout",
          "text": [
            "Overwriting test_calculate_power_of.py\n"
          ]
        }
      ]
    },
    {
      "cell_type": "code",
      "source": [
        "!python -m pytest test_calculate_power_of.py -v"
      ],
      "metadata": {
        "colab": {
          "base_uri": "https://localhost:8080/"
        },
        "id": "jmQw2UlTp5qC",
        "outputId": "48e69b63-643f-4922-d7ef-b76468979091"
      },
      "execution_count": 79,
      "outputs": [
        {
          "output_type": "stream",
          "name": "stdout",
          "text": [
            "\u001b[1m============================= test session starts ==============================\u001b[0m\n",
            "platform linux -- Python 3.9.16, pytest-7.2.2, pluggy-1.0.0 -- /usr/bin/python3\n",
            "cachedir: .pytest_cache\n",
            "rootdir: /content\n",
            "plugins: anyio-3.6.2\n",
            "\u001b[1mcollecting ... \u001b[0m\u001b[1m\rcollected 10 items                                                             \u001b[0m\n",
            "\n",
            "test_calculate_power_of.py::test_n_power_recursive[5-120] \u001b[32mPASSED\u001b[0m\u001b[32m         [ 10%]\u001b[0m\n",
            "test_calculate_power_of.py::test_n_power_recursive[10-3628800] \u001b[32mPASSED\u001b[0m\u001b[32m    [ 20%]\u001b[0m\n",
            "test_calculate_power_of.py::test_n_power_recursive[1-1] \u001b[32mPASSED\u001b[0m\u001b[32m           [ 30%]\u001b[0m\n",
            "test_calculate_power_of.py::test_n_power_recursive[2-2] \u001b[32mPASSED\u001b[0m\u001b[32m           [ 40%]\u001b[0m\n",
            "test_calculate_power_of.py::test_n_power_recursive_error \u001b[32mPASSED\u001b[0m\u001b[32m          [ 50%]\u001b[0m\n",
            "test_calculate_power_of.py::test_n_power_iterative[5-120] \u001b[32mPASSED\u001b[0m\u001b[32m         [ 60%]\u001b[0m\n",
            "test_calculate_power_of.py::test_n_power_iterative[10-3628800] \u001b[32mPASSED\u001b[0m\u001b[32m    [ 70%]\u001b[0m\n",
            "test_calculate_power_of.py::test_n_power_iterative[1-1] \u001b[32mPASSED\u001b[0m\u001b[32m           [ 80%]\u001b[0m\n",
            "test_calculate_power_of.py::test_n_power_iterative[2-2] \u001b[32mPASSED\u001b[0m\u001b[32m           [ 90%]\u001b[0m\n",
            "test_calculate_power_of.py::test_n_power_iterative_error \u001b[32mPASSED\u001b[0m\u001b[32m          [100%]\u001b[0m\n",
            "\n",
            "\u001b[32m============================== \u001b[32m\u001b[1m10 passed\u001b[0m\u001b[32m in 0.03s\u001b[0m\u001b[32m ==============================\u001b[0m\n"
          ]
        }
      ]
    },
    {
      "cell_type": "code",
      "source": [
        "from calculate_power_of import n_power_recursive, n_power_iterative\n",
        "\n",
        "print('----RECURSIVE----')\n",
        "for i in range(1, 15):\n",
        "  print(f'Power of: {i}: {n_power_recursive(i)}')\n",
        "print('\\n')\n",
        "print('----ITERATIVE----')\n",
        "for i in range(1, 15):\n",
        "  print(f'Power of: {i}: {n_power_iterative(i)}')"
      ],
      "metadata": {
        "colab": {
          "base_uri": "https://localhost:8080/"
        },
        "id": "YEM1k6JWp9Ut",
        "outputId": "939d6194-5669-4a28-d7a5-5edba4d0d291"
      },
      "execution_count": 80,
      "outputs": [
        {
          "output_type": "stream",
          "name": "stdout",
          "text": [
            "----RECURSIVE----\n",
            "Power of: 1: 1\n",
            "Power of: 2: 2\n",
            "Power of: 3: 6\n",
            "Power of: 4: 24\n",
            "Power of: 5: 120\n",
            "Power of: 6: 720\n",
            "Power of: 7: 5040\n",
            "Power of: 8: 40320\n",
            "Power of: 9: 362880\n",
            "Power of: 10: 3628800\n",
            "Power of: 11: 39916800\n",
            "Power of: 12: 479001600\n",
            "Power of: 13: 6227020800\n",
            "Power of: 14: 87178291200\n",
            "\n",
            "\n",
            "----ITERATIVE----\n",
            "Power of: 1: 1\n",
            "Power of: 2: 2\n",
            "Power of: 3: 6\n",
            "Power of: 4: 24\n",
            "Power of: 5: 120\n",
            "Power of: 6: 720\n",
            "Power of: 7: 5040\n",
            "Power of: 8: 40320\n",
            "Power of: 9: 362880\n",
            "Power of: 10: 3628800\n",
            "Power of: 11: 39916800\n",
            "Power of: 12: 479001600\n",
            "Power of: 13: 6227020800\n",
            "Power of: 14: 87178291200\n"
          ]
        }
      ]
    },
    {
      "cell_type": "markdown",
      "source": [
        "**Task 11**\\\n",
        "Write a function that calculates the nth Fibonacci number."
      ],
      "metadata": {
        "id": "NWI3RGY6cE0-"
      }
    },
    {
      "cell_type": "code",
      "source": [
        "%%file calculate_fibonacci.py\n",
        "def check_whether_natural(n: int) -> bool:\n",
        "  \"\"\"\n",
        "  Function that calculates power of n using recursive method.\n",
        "\n",
        "  Args:\n",
        "        n (__int__): Number to calculate power of n.\n",
        "\n",
        "  Returns:\n",
        "        int: Power of n value.\n",
        "        \n",
        "  Raises:\n",
        "        TypeError: Occures when provided variable type is not correct.\n",
        "  \"\"\"\n",
        "  return n >= 0\n",
        "\n",
        "def calculate_fibonacci(n: int) -> list[int]:\n",
        "  \"\"\"\n",
        "  Function that nth value of Fibonacci sequence.\n",
        "\n",
        "  Args:\n",
        "        n (__int__): Number to calculate Fibonacci of n.\n",
        "\n",
        "  Returns:\n",
        "        int: Nth part of Fibonacci sequence.\n",
        "        \n",
        "  Raises:\n",
        "        ValueError: Occures when provided value is negative.\n",
        "        TypeError: Occures when provided variable is not an integer type.\n",
        "  \"\"\"\n",
        "  if isinstance(n, int):\n",
        "    if check_whether_natural(n):\n",
        "      if n == 0:\n",
        "        return 0\n",
        "      elif n == 1:\n",
        "        return 1\n",
        "      else:\n",
        "        return calculate_fibonacci(n-1) + calculate_fibonacci(n-2)\n",
        "    else:\n",
        "      raise ValueError(f'Wrong value provided: {n} - fibonacci does not exist for negative values!')\n",
        "  else:\n",
        "    raise TypeError(f'Wrong type of variable provided!')\n"
      ],
      "metadata": {
        "id": "53pU-sEsyP9I",
        "colab": {
          "base_uri": "https://localhost:8080/"
        },
        "outputId": "52722e72-be47-4067-95c7-14285ca16e3f"
      },
      "execution_count": 90,
      "outputs": [
        {
          "output_type": "stream",
          "name": "stdout",
          "text": [
            "Writing calculate_fibonacci.py\n"
          ]
        }
      ]
    },
    {
      "cell_type": "code",
      "source": [
        "%%file test_calculate_fibonacci.py\n",
        "from calculate_fibonacci import calculate_fibonacci\n",
        "import pytest\n",
        "\n",
        "@pytest.mark.parametrize(\n",
        "    ('input', 'expected'),\n",
        "    (\n",
        "        (0, 0),\n",
        "        (1, 1),\n",
        "        (2, 1),\n",
        "        (8, 21),\n",
        "        (11, 89),\n",
        "        (19, 4181),\n",
        "    )\n",
        ")\n",
        "def test_calculate_fibonacci(input, expected):\n",
        "  \"\"\"\n",
        "  Test function to check whether we're getting expected input for provided input test case declared above.\n",
        "  \"\"\"\n",
        "  assert calculate_fibonacci(input) == expected\n",
        "\n",
        "def test_calculate_fibonacci_error():\n",
        "  \"\"\"\n",
        "  Test function to check whether we're getting expected errors for wrong input values.\n",
        "  \"\"\"\n",
        "  with pytest.raises(ValueError):\n",
        "    assert calculate_fibonacci(-5)\n",
        "\n",
        "  with pytest.raises(TypeError):\n",
        "    assert calculate_fibonacci('abc')"
      ],
      "metadata": {
        "colab": {
          "base_uri": "https://localhost:8080/"
        },
        "id": "B4WUd24IyTEx",
        "outputId": "b50a611f-bf95-4552-bc35-8cb44fc840c3"
      },
      "execution_count": 94,
      "outputs": [
        {
          "output_type": "stream",
          "name": "stdout",
          "text": [
            "Overwriting test_calculate_fibonacci.py\n"
          ]
        }
      ]
    },
    {
      "cell_type": "code",
      "source": [
        "!python -m pytest test_calculate_fibonacci.py -v"
      ],
      "metadata": {
        "colab": {
          "base_uri": "https://localhost:8080/"
        },
        "id": "u8NH9oh_tcTF",
        "outputId": "20834343-0be0-4aca-d40e-ccd9a24ac137"
      },
      "execution_count": 95,
      "outputs": [
        {
          "output_type": "stream",
          "name": "stdout",
          "text": [
            "\u001b[1m============================= test session starts ==============================\u001b[0m\n",
            "platform linux -- Python 3.9.16, pytest-7.2.2, pluggy-1.0.0 -- /usr/bin/python3\n",
            "cachedir: .pytest_cache\n",
            "rootdir: /content\n",
            "plugins: anyio-3.6.2\n",
            "\u001b[1mcollecting ... \u001b[0m\u001b[1m\rcollected 7 items                                                              \u001b[0m\n",
            "\n",
            "test_calculate_fibonacci.py::test_calculate_fibonacci[0-0] \u001b[32mPASSED\u001b[0m\u001b[32m        [ 14%]\u001b[0m\n",
            "test_calculate_fibonacci.py::test_calculate_fibonacci[1-1] \u001b[32mPASSED\u001b[0m\u001b[32m        [ 28%]\u001b[0m\n",
            "test_calculate_fibonacci.py::test_calculate_fibonacci[2-1] \u001b[32mPASSED\u001b[0m\u001b[32m        [ 42%]\u001b[0m\n",
            "test_calculate_fibonacci.py::test_calculate_fibonacci[8-21] \u001b[32mPASSED\u001b[0m\u001b[32m       [ 57%]\u001b[0m\n",
            "test_calculate_fibonacci.py::test_calculate_fibonacci[11-89] \u001b[32mPASSED\u001b[0m\u001b[32m      [ 71%]\u001b[0m\n",
            "test_calculate_fibonacci.py::test_calculate_fibonacci[19-4181] \u001b[32mPASSED\u001b[0m\u001b[32m    [ 85%]\u001b[0m\n",
            "test_calculate_fibonacci.py::test_calculate_fibonacci_error \u001b[32mPASSED\u001b[0m\u001b[32m       [100%]\u001b[0m\n",
            "\n",
            "\u001b[32m============================== \u001b[32m\u001b[1m7 passed\u001b[0m\u001b[32m in 0.03s\u001b[0m\u001b[32m ===============================\u001b[0m\n"
          ]
        }
      ]
    },
    {
      "cell_type": "code",
      "source": [
        "from calculate_fibonacci import calculate_fibonacci\n",
        "for i in range(1, 18):\n",
        "  print(f'Fibonacci of: {i} - {calculate_fibonacci(i)}')"
      ],
      "metadata": {
        "colab": {
          "base_uri": "https://localhost:8080/"
        },
        "id": "DMFaO5ExtnkD",
        "outputId": "457eb21d-610d-4ee4-ffda-b7ac3f21e927"
      },
      "execution_count": 96,
      "outputs": [
        {
          "output_type": "stream",
          "name": "stdout",
          "text": [
            "Fibonacci of: 1 - 1\n",
            "Fibonacci of: 2 - 1\n",
            "Fibonacci of: 3 - 2\n",
            "Fibonacci of: 4 - 3\n",
            "Fibonacci of: 5 - 5\n",
            "Fibonacci of: 6 - 8\n",
            "Fibonacci of: 7 - 13\n",
            "Fibonacci of: 8 - 21\n",
            "Fibonacci of: 9 - 34\n",
            "Fibonacci of: 10 - 55\n",
            "Fibonacci of: 11 - 89\n",
            "Fibonacci of: 12 - 144\n",
            "Fibonacci of: 13 - 233\n",
            "Fibonacci of: 14 - 377\n",
            "Fibonacci of: 15 - 610\n",
            "Fibonacci of: 16 - 987\n",
            "Fibonacci of: 17 - 1597\n"
          ]
        }
      ]
    },
    {
      "cell_type": "markdown",
      "source": [
        "**Task 12**\\\n",
        "Write a function that, for any number of arguments, returns their cumulative subtotals."
      ],
      "metadata": {
        "id": "BlF2avxo5VAl"
      }
    },
    {
      "cell_type": "code",
      "source": [
        "# Is this task about excel formula?"
      ],
      "metadata": {
        "id": "6GLIpvra5fO2"
      },
      "execution_count": 103,
      "outputs": []
    },
    {
      "cell_type": "markdown",
      "source": [
        "**Task 13**\\\n",
        "Write a function that, for any number of numeric arguments, returns their arithmetic mean."
      ],
      "metadata": {
        "id": "sb-j-tM_cE8d"
      }
    },
    {
      "cell_type": "code",
      "source": [
        "%%file calculate_n_average.py\n",
        "from calculate_zero_places import check_instances\n",
        "import numpy as np\n",
        "def calculate_average(*args) -> float:\n",
        "  \"\"\"\n",
        "  Function that calculates average for provided list of numbers.\n",
        "\n",
        "  Args:\n",
        "        *args (__Any__): List of arguments.\n",
        "\n",
        "  Returns:\n",
        "        float: Float representation of calculated average value.\n",
        "        \n",
        "  Raises:\n",
        "        ValueError: Occures when provided variable type is not correct. \n",
        "  \"\"\"\n",
        "    \n",
        "  if all([isinstance(item, (int,float)) for item in args]):\n",
        "    return round(np.average(args), 2)\n",
        "  else:\n",
        "    raise ValueError(f'Provided list does not contain only numbers!')"
      ],
      "metadata": {
        "colab": {
          "base_uri": "https://localhost:8080/"
        },
        "id": "vM81p4JxwJDI",
        "outputId": "5b7d1745-633b-415f-f685-1953ec57a261"
      },
      "execution_count": 128,
      "outputs": [
        {
          "output_type": "stream",
          "name": "stdout",
          "text": [
            "Overwriting calculate_n_average.py\n"
          ]
        }
      ]
    },
    {
      "cell_type": "code",
      "source": [
        "%%file test_calculate_average.py\n",
        "from calculate_n_average import calculate_average\n",
        "import pytest\n",
        "\n",
        "def test_calculate_average():\n",
        "  \"\"\"\n",
        "  Custom test function to check whether for provided values we're getting approximetly propper value of average.\n",
        "  \"\"\"\n",
        "  assert calculate_average(1,2,3) == pytest.approx(2)\n",
        "  assert calculate_average(1,2,3,4,5) == pytest.approx(3)\n",
        "  assert calculate_average(2,3,-7,9) == pytest.approx(1.75)\n",
        "\n",
        "def test_calculate_average_error():\n",
        "  \"\"\"\n",
        "  Test function to check whether we're getting expected error for wrong input values.\n",
        "  \"\"\"\n",
        "  with pytest.raises(ValueError):\n",
        "    calculate_average(1, 'a', 2)"
      ],
      "metadata": {
        "colab": {
          "base_uri": "https://localhost:8080/"
        },
        "id": "3-sc4JP6fcl9",
        "outputId": "f8e740bf-fc44-477d-cb18-1e1cf2630e9b"
      },
      "execution_count": 136,
      "outputs": [
        {
          "output_type": "stream",
          "name": "stdout",
          "text": [
            "Overwriting test_calculate_average.py\n"
          ]
        }
      ]
    },
    {
      "cell_type": "code",
      "source": [
        "!python -m pytest test_calculate_average.py -v"
      ],
      "metadata": {
        "id": "jpdQtLFFfEI2",
        "colab": {
          "base_uri": "https://localhost:8080/"
        },
        "outputId": "968112ec-3530-47a8-abba-f292fdcea0c3"
      },
      "execution_count": 137,
      "outputs": [
        {
          "output_type": "stream",
          "name": "stdout",
          "text": [
            "\u001b[1m============================= test session starts ==============================\u001b[0m\n",
            "platform linux -- Python 3.9.16, pytest-7.2.2, pluggy-1.0.0 -- /usr/bin/python3\n",
            "cachedir: .pytest_cache\n",
            "rootdir: /content\n",
            "plugins: anyio-3.6.2\n",
            "\u001b[1mcollecting ... \u001b[0m\u001b[1m\rcollected 1 item                                                               \u001b[0m\n",
            "\n",
            "test_calculate_average.py::test_calculate_average \u001b[32mPASSED\u001b[0m\u001b[32m                 [100%]\u001b[0m\n",
            "\n",
            "\u001b[32m============================== \u001b[32m\u001b[1m1 passed\u001b[0m\u001b[32m in 0.12s\u001b[0m\u001b[32m ===============================\u001b[0m\n"
          ]
        }
      ]
    },
    {
      "cell_type": "code",
      "source": [
        "from calculate_n_average import calculate_average\n",
        "print(calculate_average(1,2,3))\n",
        "print(calculate_average(1,2,-5,7,8))\n",
        "print(calculate_average(1,2,3, 15, 50, -99))"
      ],
      "metadata": {
        "colab": {
          "base_uri": "https://localhost:8080/"
        },
        "id": "5JWmStodyMfl",
        "outputId": "c5e58d67-84fa-49f6-c88d-cdfb68c20100"
      },
      "execution_count": 138,
      "outputs": [
        {
          "output_type": "stream",
          "name": "stdout",
          "text": [
            "2.0\n",
            "2.6\n",
            "-4.67\n"
          ]
        }
      ]
    },
    {
      "cell_type": "markdown",
      "source": [
        "**Task 14**\\\n",
        "Write a function that, for a given string of characters, returns a string with the characters in reverse order."
      ],
      "metadata": {
        "id": "efW5QS4C33IS"
      }
    },
    {
      "cell_type": "code",
      "source": [
        "%%file reverse_string.py\n",
        "def reverse_string(string_obj: str) -> str:\n",
        "  \"\"\"\n",
        "  Function that return string for provided string object.\n",
        "\n",
        "  Args:\n",
        "        string_obj (__str__): String representation of provided text.\n",
        "\n",
        "  Returns:\n",
        "        str: String representation of reversed text.\n",
        "        \n",
        "  Raises:\n",
        "        TypeError: Occures when provided variable type is not correct. \n",
        "  \"\"\"\n",
        "  if isinstance(string_obj, str):\n",
        "    return string_obj[::-1]\n",
        "  else:\n",
        "    raise TypeError(f'Wrong variable type: {type(string_obj)}')"
      ],
      "metadata": {
        "id": "VkDW3bMEJpcD",
        "colab": {
          "base_uri": "https://localhost:8080/"
        },
        "outputId": "65d775c0-b595-47ab-adcc-973c3b23ba95"
      },
      "execution_count": null,
      "outputs": [
        {
          "output_type": "stream",
          "name": "stdout",
          "text": [
            "Overwriting reverse_string.py\n"
          ]
        }
      ]
    },
    {
      "cell_type": "code",
      "source": [
        "%%file test_reverse_string.py\n",
        "from reverse_string import reverse_string\n",
        "import pytest\n",
        "\n",
        "@pytest.mark.parametrize(\n",
        "    ('input', 'expected'),\n",
        "    (\n",
        "        ('kot', 'tok'),\n",
        "        ('i', 'i'),\n",
        "        ('alamakota', 'atokamala'),\n",
        "    )\n",
        ")\n",
        "def test_reverse_string(input, expected):\n",
        "  \"\"\"\n",
        "  Test function that checks whether for paramatrized values we're getting expected input.\n",
        "  \"\"\"\n",
        "  assert reverse_string(input) == expected\n",
        "\n",
        "\n",
        "def test_reverse_string_error():\n",
        "  \"\"\"\n",
        "  Test function that checks whether for wrong input expected exception is raised.\n",
        "  \"\"\"\n",
        "  with pytest.raises(TypeError):\n",
        "    assert reverse_string(1)"
      ],
      "metadata": {
        "colab": {
          "base_uri": "https://localhost:8080/"
        },
        "id": "zMV43hXRGLtm",
        "outputId": "1e85b34b-389b-44ed-8234-3bd25f536c75"
      },
      "execution_count": null,
      "outputs": [
        {
          "output_type": "stream",
          "name": "stdout",
          "text": [
            "Overwriting test_reverse_string.py\n"
          ]
        }
      ]
    },
    {
      "cell_type": "code",
      "source": [
        "!python -m pytest test_reverse_string.py -v"
      ],
      "metadata": {
        "colab": {
          "base_uri": "https://localhost:8080/"
        },
        "id": "YHTuQnaeHpaQ",
        "outputId": "5e68d3d4-fa12-44ca-c900-4e910108c7e4"
      },
      "execution_count": null,
      "outputs": [
        {
          "output_type": "stream",
          "name": "stdout",
          "text": [
            "\u001b[1m============================= test session starts ==============================\u001b[0m\n",
            "platform linux -- Python 3.9.16, pytest-7.2.2, pluggy-1.0.0 -- /usr/bin/python3\n",
            "cachedir: .pytest_cache\n",
            "rootdir: /content\n",
            "plugins: anyio-3.6.2\n",
            "\u001b[1mcollecting ... \u001b[0m\u001b[1m\rcollected 4 items                                                              \u001b[0m\n",
            "\n",
            "test_reverse_string.py::test_reverse_string[kot-tok] \u001b[32mPASSED\u001b[0m\u001b[32m              [ 25%]\u001b[0m\n",
            "test_reverse_string.py::test_reverse_string[i-i] \u001b[32mPASSED\u001b[0m\u001b[32m                  [ 50%]\u001b[0m\n",
            "test_reverse_string.py::test_reverse_string[alamakota-atokamala] \u001b[32mPASSED\u001b[0m\u001b[32m  [ 75%]\u001b[0m\n",
            "test_reverse_string.py::test_reverse_string_error \u001b[32mPASSED\u001b[0m\u001b[32m                 [100%]\u001b[0m\n",
            "\n",
            "\u001b[32m============================== \u001b[32m\u001b[1m4 passed\u001b[0m\u001b[32m in 0.02s\u001b[0m\u001b[32m ===============================\u001b[0m\n"
          ]
        }
      ]
    },
    {
      "cell_type": "code",
      "source": [
        "from reverse_string import reverse_string\n",
        "print(reverse_string('kamilślimak'))\n",
        "print(reverse_string('ala ma kota'))"
      ],
      "metadata": {
        "colab": {
          "base_uri": "https://localhost:8080/"
        },
        "id": "VszWIBJlHrFZ",
        "outputId": "79e83a24-4649-4459-9a37-7e0b91bd25e5"
      },
      "execution_count": null,
      "outputs": [
        {
          "output_type": "stream",
          "name": "stdout",
          "text": [
            "kamilślimak\n",
            "atok am ala\n"
          ]
        }
      ]
    },
    {
      "cell_type": "markdown",
      "source": [
        "**Task 15**\\\n",
        "Write a function that, for a given string of characters, returns how many uppercase and lowercase letters are in it."
      ],
      "metadata": {
        "id": "fNL1HBwQKMXo"
      }
    },
    {
      "cell_type": "code",
      "source": [
        "%%file calculate_small_large_letters.py\n",
        "def calculate_large_small_letters(string_obj: str) -> dict[str, int]:\n",
        "  \"\"\"\n",
        "  Function that calculates amount of small letters and large letters in provided text.\n",
        "\n",
        "  Args:\n",
        "        string_obj (__str__): String representation of provided text.\n",
        "\n",
        "  Returns:\n",
        "        dict[str, int]: Dictionary representation in below form: \\n\n",
        "        1. 'upper' : amount of upper letters.\n",
        "        2. 'lower' : amount of lower letters.\n",
        "        \n",
        "  Raises:\n",
        "        TypeError: Occures when provided variable type is not correct. \n",
        "  \"\"\"\n",
        "  if isinstance(string_obj, str):\n",
        "    upper: int = 0\n",
        "    lower: int = 0\n",
        "    for letter in string_obj:\n",
        "      if letter.islower():\n",
        "        lower += 1\n",
        "      else:\n",
        "        upper += 1\n",
        "    return dict({\n",
        "        'upper': upper,\n",
        "        'lower': lower\n",
        "    })\n",
        "  else:\n",
        "    raise TypeError(f'Wrong variable type: {type(string_obj)}')"
      ],
      "metadata": {
        "id": "MpfzxLtRKNi-",
        "colab": {
          "base_uri": "https://localhost:8080/"
        },
        "outputId": "4aa6c426-2f60-477d-f496-74ce0fc28de7"
      },
      "execution_count": null,
      "outputs": [
        {
          "output_type": "stream",
          "name": "stdout",
          "text": [
            "Writing calculate_small_large_letters.py\n"
          ]
        }
      ]
    },
    {
      "cell_type": "code",
      "source": [
        "%%file test_calculate_small_large_letters.py\n",
        "from calculate_small_large_letters import calculate_large_small_letters\n",
        "import pytest\n",
        "\n",
        "@pytest.mark.parametrize(\n",
        "    ('input', 'expected'),\n",
        "    [\n",
        "        pytest.param('AAbbCdd', {'lower': 4, 'upper': 3})\n",
        "    ]\n",
        ")\n",
        "def test_calculate_large_small_letters(input, expected):\n",
        "  \"\"\"\n",
        "  Test function that checks whether provided input returns expected results.\n",
        "  \"\"\"\n",
        "  assert calculate_large_small_letters(input) == expected\n",
        "\n",
        "def test_calculate_large_small_letters_error():\n",
        "  \"\"\"\n",
        "  Test function that checks whether for wrong input we're getting expected error.\n",
        "  \"\"\"\n",
        "  with pytest.raises(TypeError):\n",
        "    assert calculate_large_small_letters(152)"
      ],
      "metadata": {
        "id": "TRS6yUudLPnn",
        "colab": {
          "base_uri": "https://localhost:8080/"
        },
        "outputId": "29326a77-db6a-4f80-860b-47d780df2806"
      },
      "execution_count": null,
      "outputs": [
        {
          "output_type": "stream",
          "name": "stdout",
          "text": [
            "Overwriting test_calculate_small_large_letters.py\n"
          ]
        }
      ]
    },
    {
      "cell_type": "code",
      "source": [
        "!python -m pytest test_calculate_small_large_letters.py -v"
      ],
      "metadata": {
        "id": "dalFwxXyJwWH",
        "colab": {
          "base_uri": "https://localhost:8080/"
        },
        "outputId": "4f8806a3-2812-42a7-8aed-dd6682205e44"
      },
      "execution_count": null,
      "outputs": [
        {
          "output_type": "stream",
          "name": "stdout",
          "text": [
            "\u001b[1m============================= test session starts ==============================\u001b[0m\n",
            "platform linux -- Python 3.9.16, pytest-7.2.2, pluggy-1.0.0 -- /usr/bin/python3\n",
            "cachedir: .pytest_cache\n",
            "rootdir: /content\n",
            "plugins: anyio-3.6.2\n",
            "\u001b[1mcollecting ... \u001b[0m\u001b[1m\rcollected 2 items                                                              \u001b[0m\n",
            "\n",
            "test_calculate_small_large_letters.py::test_calculate_large_small_letters[AAbbCdd-expected0] \u001b[32mPASSED\u001b[0m\u001b[32m [ 50%]\u001b[0m\n",
            "test_calculate_small_large_letters.py::test_calculate_large_small_letters_error \u001b[32mPASSED\u001b[0m\u001b[32m [100%]\u001b[0m\n",
            "\n",
            "\u001b[32m============================== \u001b[32m\u001b[1m2 passed\u001b[0m\u001b[32m in 0.04s\u001b[0m\u001b[32m ===============================\u001b[0m\n"
          ]
        }
      ]
    },
    {
      "cell_type": "code",
      "source": [
        "from calculate_small_large_letters import calculate_large_small_letters\n",
        "print(calculate_large_small_letters('aaBBccD'))"
      ],
      "metadata": {
        "colab": {
          "base_uri": "https://localhost:8080/"
        },
        "id": "kZ1Dprql4Fr7",
        "outputId": "d493ab75-9f75-48dd-c06c-2f0cb31a3abd"
      },
      "execution_count": null,
      "outputs": [
        {
          "output_type": "stream",
          "name": "stdout",
          "text": [
            "{'upper': 3, 'lower': 4}\n"
          ]
        }
      ]
    },
    {
      "cell_type": "markdown",
      "source": [
        "**Task 16**\\\n",
        "Write a function that, for a given array, returns an array with its unique elements."
      ],
      "metadata": {
        "id": "WK3HrTGpLSk6"
      }
    },
    {
      "cell_type": "code",
      "source": [
        "%%file unique_values.py\n",
        "from typing import Any\n",
        "def get_unique_elements(to_filter_list: list[Any]) -> list[Any]:\n",
        "  \"\"\"\n",
        "  Function that calculates returns unique elemnts from provided list.\n",
        "\n",
        "  Args:\n",
        "        to_filter_list (__list[Any]__): Collection of objects of any type.\n",
        "\n",
        "  Returns:\n",
        "        list[Any]: Unique values of provided list input.\n",
        "        \n",
        "  Raises:\n",
        "        TypeError: Occures when provided variable type is not correct. \n",
        "  \"\"\"\n",
        "  if isinstance(to_filter_list, list):\n",
        "    return list(set(to_filter_list))"
      ],
      "metadata": {
        "id": "zDJzzjAPLT-o",
        "colab": {
          "base_uri": "https://localhost:8080/"
        },
        "outputId": "102675b3-72d1-4c7f-e564-dd6b627527f1"
      },
      "execution_count": null,
      "outputs": [
        {
          "output_type": "stream",
          "name": "stdout",
          "text": [
            "Writing unique_values.py\n"
          ]
        }
      ]
    },
    {
      "cell_type": "code",
      "source": [
        "%%file test_unqiue_values.py\n",
        "from unique_values import get_unique_elements\n",
        "import pytest\n",
        "\n",
        "@pytest.mark.parametrize(\n",
        "    ('input', 'expected'),\n",
        "    [\n",
        "        pytest.param([1, 1, 'a', 'b', 'b'], [1, 'a', 'b']),\n",
        "        pytest.param({'a':2, 'b':3}, None)\n",
        "    ]\n",
        ")\n",
        "def test_get_unqiue_elements(input, expected):\n",
        "  \"\"\"\n",
        "  Test case for parametrized cases above.\n",
        "  \"\"\"\n",
        "  assert get_unique_elements(input) == expected"
      ],
      "metadata": {
        "id": "DNycQFuELpPq",
        "colab": {
          "base_uri": "https://localhost:8080/"
        },
        "outputId": "60fd2c50-51ea-491a-8f85-17e80dd76758"
      },
      "execution_count": null,
      "outputs": [
        {
          "output_type": "stream",
          "name": "stdout",
          "text": [
            "Overwriting test_unqiue_values.py\n"
          ]
        }
      ]
    },
    {
      "cell_type": "code",
      "source": [
        "!python -m pytest test_unqiue_values.py -v"
      ],
      "metadata": {
        "colab": {
          "base_uri": "https://localhost:8080/"
        },
        "id": "vmE4_-kU6vw6",
        "outputId": "3baf8540-2c95-42b6-a1e2-0b1f92a499d8"
      },
      "execution_count": null,
      "outputs": [
        {
          "output_type": "stream",
          "name": "stdout",
          "text": [
            "\u001b[1m============================= test session starts ==============================\u001b[0m\n",
            "platform linux -- Python 3.9.16, pytest-7.2.2, pluggy-1.0.0 -- /usr/bin/python3\n",
            "cachedir: .pytest_cache\n",
            "rootdir: /content\n",
            "plugins: anyio-3.6.2\n",
            "\u001b[1mcollecting ... \u001b[0m\u001b[1m\rcollected 2 items                                                              \u001b[0m\n",
            "\n",
            "test_unqiue_values.py::test_get_unqiue_elements[input0-expected0] \u001b[32mPASSED\u001b[0m\u001b[32m [ 50%]\u001b[0m\n",
            "test_unqiue_values.py::test_get_unqiue_elements[input1-None] \u001b[32mPASSED\u001b[0m\u001b[32m      [100%]\u001b[0m\n",
            "\n",
            "\u001b[32m============================== \u001b[32m\u001b[1m2 passed\u001b[0m\u001b[32m in 0.02s\u001b[0m\u001b[32m ===============================\u001b[0m\n"
          ]
        }
      ]
    },
    {
      "cell_type": "code",
      "source": [
        "from unique_values import get_unique_elements\n",
        "print(get_unique_elements([1, 1, 5, 5, 'a', 'b', 'b', 'cc']))"
      ],
      "metadata": {
        "colab": {
          "base_uri": "https://localhost:8080/"
        },
        "id": "hSzt4hld7M2t",
        "outputId": "c7e9e6a2-8cda-4dce-c3fa-66aeba3fb7f6"
      },
      "execution_count": null,
      "outputs": [
        {
          "output_type": "stream",
          "name": "stdout",
          "text": [
            "[1, 'cc', 'a', 5, 'b']\n"
          ]
        }
      ]
    },
    {
      "cell_type": "markdown",
      "source": [
        "**Task 17**\\\n",
        "Write a function that, for a given string of characters, returns a dictionary with statistics on the frequency of each character."
      ],
      "metadata": {
        "id": "0qfVJBLKLrKE"
      }
    },
    {
      "cell_type": "code",
      "source": [
        "%%file count_marks_at_string.py\n",
        "from collections import Counter\n",
        "\n",
        "def count_mark_in_string(string_obj: str) -> Counter:\n",
        "  \"\"\"\n",
        "  Function that counts occurences of every unique mark in provided string.\n",
        "\n",
        "  Args:\n",
        "        string_obj (__str__): String representation of provided string.\n",
        "\n",
        "  Returns:\n",
        "        Counter: Counter object from collections.\n",
        "        \n",
        "  Raises:\n",
        "        TypeError: Occures when provided variable type is not correct.\n",
        "  \"\"\"\n",
        "  if isinstance(string_obj, str):\n",
        "    return Counter(string_obj)\n",
        "  else:\n",
        "    raise TypeError(f'Provided not expected var type: {type(string_obj)}!')"
      ],
      "metadata": {
        "id": "cPIYXz5NLrdr",
        "colab": {
          "base_uri": "https://localhost:8080/"
        },
        "outputId": "788a8a3b-6794-40d0-e8f5-4e8d7081c478"
      },
      "execution_count": null,
      "outputs": [
        {
          "output_type": "stream",
          "name": "stdout",
          "text": [
            "Writing count_marks_at_string.py\n"
          ]
        }
      ]
    },
    {
      "cell_type": "code",
      "source": [
        "%%file test_count_marks_at_string.py\n",
        "from count_marks_at_string import count_mark_in_string\n",
        "import pytest\n",
        "\n",
        "@pytest.mark.parametrize(\n",
        "    ('input', 'expected'),\n",
        "    [\n",
        "        pytest.param('aabbc112', {'a':2, 'b':2, 'c':1, '1':2, '2':1})\n",
        "    ]\n",
        ")\n",
        "def test_count_mark_in_string(input, expected):\n",
        "  \"\"\"\n",
        "  Test function that checks parametrized test cases above.\n",
        "  \"\"\"\n",
        "  assert count_mark_in_string(input) == expected\n",
        "\n",
        "def test_count_mark_in_string_error():\n",
        "  \"\"\"\n",
        "  Test case that check whether expected error is being raised after wrong input's been provided.\n",
        "  \"\"\"\n",
        "  with pytest.raises(TypeError):\n",
        "    assert count_mark_in_string(12)"
      ],
      "metadata": {
        "id": "-7VJsrfXMFXP",
        "colab": {
          "base_uri": "https://localhost:8080/"
        },
        "outputId": "fdb41a00-2acb-4fa7-86de-e26026a1ed61"
      },
      "execution_count": null,
      "outputs": [
        {
          "output_type": "stream",
          "name": "stdout",
          "text": [
            "Overwriting test_count_marks_at_string.py\n"
          ]
        }
      ]
    },
    {
      "cell_type": "code",
      "source": [
        "!python -m pytest test_count_marks_at_string.py -v"
      ],
      "metadata": {
        "colab": {
          "base_uri": "https://localhost:8080/"
        },
        "id": "2e0p5395IJt6",
        "outputId": "a8180037-1074-47a0-be5c-33b9e389e4f5"
      },
      "execution_count": null,
      "outputs": [
        {
          "output_type": "stream",
          "name": "stdout",
          "text": [
            "\u001b[1m============================= test session starts ==============================\u001b[0m\n",
            "platform linux -- Python 3.9.16, pytest-7.2.2, pluggy-1.0.0 -- /usr/bin/python3\n",
            "cachedir: .pytest_cache\n",
            "rootdir: /content\n",
            "plugins: anyio-3.6.2\n",
            "\u001b[1mcollecting ... \u001b[0m\u001b[1m\rcollected 2 items                                                              \u001b[0m\n",
            "\n",
            "test_count_marks_at_string.py::test_count_mark_in_string[aabbc112-expected0] \u001b[32mPASSED\u001b[0m\u001b[32m [ 50%]\u001b[0m\n",
            "test_count_marks_at_string.py::test_count_mark_in_string_error \u001b[32mPASSED\u001b[0m\u001b[32m    [100%]\u001b[0m\n",
            "\n",
            "\u001b[32m============================== \u001b[32m\u001b[1m2 passed\u001b[0m\u001b[32m in 0.02s\u001b[0m\u001b[32m ===============================\u001b[0m\n"
          ]
        }
      ]
    },
    {
      "cell_type": "code",
      "source": [
        "from count_marks_at_string import count_mark_in_string\n",
        "print(count_mark_in_string('aabbc1'))"
      ],
      "metadata": {
        "id": "biLY8M4qJgpU",
        "outputId": "50e548ac-9510-4ea0-fe3f-1a94f3d67f2a",
        "colab": {
          "base_uri": "https://localhost:8080/"
        }
      },
      "execution_count": null,
      "outputs": [
        {
          "output_type": "stream",
          "name": "stdout",
          "text": [
            "Counter({'a': 2, 'b': 2, 'c': 1, '1': 1})\n"
          ]
        }
      ]
    },
    {
      "cell_type": "markdown",
      "source": [
        "**Task 18**\\\n",
        "Write a function that, for a given string, returns a list of words into which it can be divided."
      ],
      "metadata": {
        "id": "sfr7YvjoMHFI"
      }
    },
    {
      "cell_type": "code",
      "source": [
        "%%file extract_every_substring.py\n",
        "def get_all_substring_of_given_str(text: str) -> set[str]:\n",
        "  \"\"\"\n",
        "  Function that divide text into every possible substring in given word.\n",
        "\n",
        "  Args:\n",
        "        text (__str__): String representation of provided text.\n",
        "\n",
        "  Returns:\n",
        "        set[str]: Set object containg all of substring for given text.\n",
        "        \n",
        "  Raises:\n",
        "        TypeError: Occures when provided variable type is not correct.\n",
        "  \"\"\"\n",
        "  if isinstance(text, str):\n",
        "    return set([text[i:j] for i in range(len(text))\\\n",
        "                 for j in range(i+1, len(text) + 1)])\n",
        "  else:\n",
        "    raise TypeError(f'Provided variable type is not correct: {type(text)}!')"
      ],
      "metadata": {
        "id": "LiIoenlQMHw2",
        "colab": {
          "base_uri": "https://localhost:8080/"
        },
        "outputId": "e04f0888-cf42-43dd-8768-3c02cd73682c"
      },
      "execution_count": 149,
      "outputs": [
        {
          "output_type": "stream",
          "name": "stdout",
          "text": [
            "Writing extract_every_substring.py\n"
          ]
        }
      ]
    },
    {
      "cell_type": "code",
      "source": [
        "%%file test_extract_every_substring.py\n",
        "from extract_every_substring import get_all_substring_of_given_str\n",
        "import pytest\n",
        "\n",
        "@pytest.mark.parametrize(\n",
        "    ('input', 'expected'),\n",
        "    [\n",
        "        pytest.param('ala', {'a', 'al', 'la', 'ala', 'l'}),\n",
        "        pytest.param('dog', {'d', 'do', 'dog', 'o','og', 'g'})\n",
        "    ]\n",
        ")\n",
        "def test_get_all_substring_of_given_str(input, expected):\n",
        "  \"\"\"\n",
        "  Test function to check provided above cases.\n",
        "  \"\"\"\n",
        "  assert get_all_substring_of_given_str(input) == expected\n",
        "\n",
        "def test_get_all_substring_of_given_str_error():\n",
        "  with pytest.raises(TypeError):\n",
        "    assert get_all_substring_of_given_str(123)"
      ],
      "metadata": {
        "colab": {
          "base_uri": "https://localhost:8080/"
        },
        "id": "cz4lPe3fz4ao",
        "outputId": "8976cc02-eea4-41e1-8b07-6f42da3c7c95"
      },
      "execution_count": 152,
      "outputs": [
        {
          "output_type": "stream",
          "name": "stdout",
          "text": [
            "Overwriting test_extract_every_substring.py\n"
          ]
        }
      ]
    },
    {
      "cell_type": "code",
      "source": [
        "!python -m pytest test_extract_every_substring.py -v"
      ],
      "metadata": {
        "colab": {
          "base_uri": "https://localhost:8080/"
        },
        "id": "YfDDsnvi0qvK",
        "outputId": "d28e2fd1-02c9-494b-ad06-dbd7cbe49e0b"
      },
      "execution_count": 153,
      "outputs": [
        {
          "output_type": "stream",
          "name": "stdout",
          "text": [
            "\u001b[1m============================= test session starts ==============================\u001b[0m\n",
            "platform linux -- Python 3.9.16, pytest-7.2.2, pluggy-1.0.0 -- /usr/bin/python3\n",
            "cachedir: .pytest_cache\n",
            "rootdir: /content\n",
            "plugins: anyio-3.6.2\n",
            "\u001b[1mcollecting ... \u001b[0m\u001b[1m\rcollected 3 items                                                              \u001b[0m\n",
            "\n",
            "test_extract_every_substring.py::test_get_all_substring_of_given_str[ala-expected0] \u001b[32mPASSED\u001b[0m\u001b[32m [ 33%]\u001b[0m\n",
            "test_extract_every_substring.py::test_get_all_substring_of_given_str[dog-expected1] \u001b[32mPASSED\u001b[0m\u001b[32m [ 66%]\u001b[0m\n",
            "test_extract_every_substring.py::test_get_all_substring_of_given_str_error \u001b[32mPASSED\u001b[0m\u001b[32m [100%]\u001b[0m\n",
            "\n",
            "\u001b[32m============================== \u001b[32m\u001b[1m3 passed\u001b[0m\u001b[32m in 0.02s\u001b[0m\u001b[32m ===============================\u001b[0m\n"
          ]
        }
      ]
    },
    {
      "cell_type": "code",
      "source": [
        "from extract_every_substring import get_all_substring_of_given_str\n",
        "get_all_substring_of_given_str('python')"
      ],
      "metadata": {
        "colab": {
          "base_uri": "https://localhost:8080/"
        },
        "id": "RKIED4V3y2Lt",
        "outputId": "6ddbfb56-489e-4035-f239-c33b43a2c3d6"
      },
      "execution_count": 155,
      "outputs": [
        {
          "output_type": "execute_result",
          "data": {
            "text/plain": [
              "{'h',\n",
              " 'ho',\n",
              " 'hon',\n",
              " 'n',\n",
              " 'o',\n",
              " 'on',\n",
              " 'p',\n",
              " 'py',\n",
              " 'pyt',\n",
              " 'pyth',\n",
              " 'pytho',\n",
              " 'python',\n",
              " 't',\n",
              " 'th',\n",
              " 'tho',\n",
              " 'thon',\n",
              " 'y',\n",
              " 'yt',\n",
              " 'yth',\n",
              " 'ytho',\n",
              " 'ython'}"
            ]
          },
          "metadata": {},
          "execution_count": 155
        }
      ]
    },
    {
      "cell_type": "markdown",
      "source": [
        "**Task 19**\\\n",
        "Write a function that, for a given string, returns its form in camel notation, e.g. for *'ala ma python'* we get *'alaMaPython'*."
      ],
      "metadata": {
        "id": "tIuh-1efMRWY"
      }
    },
    {
      "cell_type": "code",
      "source": [
        "%%file convert_to_camel_case.py\n",
        "def get_camel_case_string(string_obj: str) -> str:\n",
        "  \"\"\"\n",
        "  Function that returns camel case form of provided string object.\n",
        "\n",
        "  Args:\n",
        "        string_obj (__str__): String representation of provided string.\n",
        "\n",
        "  Returns:\n",
        "        str: Camel case string.\n",
        "        \n",
        "  Raises:\n",
        "        TypeError: Occures when provided variable type is not correct.\n",
        "  \"\"\"\n",
        "  if isinstance(string_obj, str):\n",
        "    words = string_obj.lower().split(' ')\n",
        "    for i in range(1, len(words)):\n",
        "      words[i] = words[i].capitalize()\n",
        "    return ''.join(words)\n",
        "  else:\n",
        "    raise TypeError(f'Wrong variable type: {type(string_obj)}')"
      ],
      "metadata": {
        "id": "gWC1UWFDMRnQ",
        "colab": {
          "base_uri": "https://localhost:8080/"
        },
        "outputId": "b7a3fbb8-c745-4ece-b2cb-a935e6e9c9d6"
      },
      "execution_count": 156,
      "outputs": [
        {
          "output_type": "stream",
          "name": "stdout",
          "text": [
            "Writing convert_to_camel_case.py\n"
          ]
        }
      ]
    },
    {
      "cell_type": "code",
      "source": [
        "%%file test_convert_to_camel_case.py\n",
        "from convert_to_camel_case import get_camel_case_string\n",
        "import pytest\n",
        "\n",
        "@pytest.mark.parametrize(\n",
        "    ('input', 'expected'),\n",
        "    (\n",
        "        ('ala ma kota', 'alaMaKota'),\n",
        "        ('Ala ma kota', 'alaMaKota'),\n",
        "        ('Ala Ma Kota', 'alaMaKota'),\n",
        "        ('ALA MA KOTA', 'alaMaKota'),\n",
        "    )\n",
        ")\n",
        "def test_get_camel_case_string(input, expected):\n",
        "  \"\"\"\n",
        "  Test function that checks results for provided input.\n",
        "  \"\"\"\n",
        "  assert get_camel_case_string(input) == expected\n",
        "\n",
        "def test_get_camel_case_string_error():\n",
        "  with pytest.raises(TypeError):\n",
        "    assert get_camel_case_string(156)"
      ],
      "metadata": {
        "colab": {
          "base_uri": "https://localhost:8080/"
        },
        "id": "w52UdraA88r6",
        "outputId": "ae440b7d-c9e4-410f-e151-18f55ed161bf"
      },
      "execution_count": 157,
      "outputs": [
        {
          "output_type": "stream",
          "name": "stdout",
          "text": [
            "Writing test_convert_to_camel_case.py\n"
          ]
        }
      ]
    },
    {
      "cell_type": "code",
      "source": [
        "!python -m pytest test_convert_to_camel_case.py -v"
      ],
      "metadata": {
        "colab": {
          "base_uri": "https://localhost:8080/"
        },
        "id": "2Wl2nmU998ay",
        "outputId": "03a8a6ed-c88a-4b6f-dd8e-96f5afc69161"
      },
      "execution_count": 158,
      "outputs": [
        {
          "output_type": "stream",
          "name": "stdout",
          "text": [
            "\u001b[1m============================= test session starts ==============================\u001b[0m\n",
            "platform linux -- Python 3.9.16, pytest-7.2.2, pluggy-1.0.0 -- /usr/bin/python3\n",
            "cachedir: .pytest_cache\n",
            "rootdir: /content\n",
            "plugins: anyio-3.6.2\n",
            "\u001b[1mcollecting ... \u001b[0m\u001b[1m\rcollected 5 items                                                              \u001b[0m\n",
            "\n",
            "test_convert_to_camel_case.py::test_get_camel_case_string[ala ma kota-alaMaKota] \u001b[32mPASSED\u001b[0m\u001b[32m [ 20%]\u001b[0m\n",
            "test_convert_to_camel_case.py::test_get_camel_case_string[Ala ma kota-alaMaKota] \u001b[32mPASSED\u001b[0m\u001b[32m [ 40%]\u001b[0m\n",
            "test_convert_to_camel_case.py::test_get_camel_case_string[Ala Ma Kota-alaMaKota] \u001b[32mPASSED\u001b[0m\u001b[32m [ 60%]\u001b[0m\n",
            "test_convert_to_camel_case.py::test_get_camel_case_string[ALA MA KOTA-alaMaKota] \u001b[32mPASSED\u001b[0m\u001b[32m [ 80%]\u001b[0m\n",
            "test_convert_to_camel_case.py::test_get_camel_case_string_error \u001b[32mPASSED\u001b[0m\u001b[32m   [100%]\u001b[0m\n",
            "\n",
            "\u001b[32m============================== \u001b[32m\u001b[1m5 passed\u001b[0m\u001b[32m in 0.02s\u001b[0m\u001b[32m ===============================\u001b[0m\n"
          ]
        }
      ]
    },
    {
      "cell_type": "code",
      "source": [
        "from convert_to_camel_case import get_camel_case_string\n",
        "get_camel_case_string('ala ma pythona')"
      ],
      "metadata": {
        "colab": {
          "base_uri": "https://localhost:8080/",
          "height": 36
        },
        "id": "xaYAFn4pMvEU",
        "outputId": "d14a2939-d738-4c7b-cda4-80b2b83dba82"
      },
      "execution_count": 160,
      "outputs": [
        {
          "output_type": "execute_result",
          "data": {
            "text/plain": [
              "'alaMaPythona'"
            ],
            "application/vnd.google.colaboratory.intrinsic+json": {
              "type": "string"
            }
          },
          "metadata": {},
          "execution_count": 160
        }
      ]
    },
    {
      "cell_type": "markdown",
      "source": [
        "**Task 20**\\\n",
        "Write a function that, for a string in camel form, returns its \"normal\" form."
      ],
      "metadata": {
        "id": "GxEtoiZsMwtr"
      }
    },
    {
      "cell_type": "code",
      "source": [
        "%%file convert_camel_case_to_normal.py\n",
        "import re\n",
        "def convert_camel_case_to_normal(text: str) -> str:\n",
        "  \"\"\"\n",
        "  Function that converts camel case string to its normal form.\n",
        "\n",
        "  Args:\n",
        "        string_obj (__str__): String representation of provided string.\n",
        "\n",
        "  Returns:\n",
        "        str: Normal string.\n",
        "        \n",
        "  Raises:\n",
        "        TypeError: Occures when provided variable type is not correct.\n",
        "  \"\"\"\n",
        "  if isinstance(text, str):\n",
        "    # We're searching for pattern small/large letter and then zero or more small ones\n",
        "    upper_case_pattern: str = \"[a-zA-Z][a-z]*\" \n",
        "    results: list[str] = re.findall(upper_case_pattern, text)\n",
        "    test: str = ''\n",
        "    for res in results:\n",
        "      test += res.lower()\n",
        "      test += ' '\n",
        "    return test[:-1]\n",
        "  else:\n",
        "    raise TypeError(f'Wrong variable type: {type(text)}!')"
      ],
      "metadata": {
        "id": "EZjJ9GqbNb_7",
        "colab": {
          "base_uri": "https://localhost:8080/"
        },
        "outputId": "a91831a4-cf21-46ed-ae99-6813fc122129"
      },
      "execution_count": 175,
      "outputs": [
        {
          "output_type": "stream",
          "name": "stdout",
          "text": [
            "Overwriting convert_camel_case_to_normal.py\n"
          ]
        }
      ]
    },
    {
      "cell_type": "code",
      "source": [
        "%%file test_convert_camel_case_to_normal.py\n",
        "from convert_camel_case_to_normal import convert_camel_case_to_normal\n",
        "import pytest\n",
        "\n",
        "@pytest.mark.parametrize(\n",
        "    ('input', 'expected'),\n",
        "    (\n",
        "        ('alaMaPythona', 'ala ma pythona'),\n",
        "        ('AlaMaPythona', 'ala ma pythona'),\n",
        "        ('test', 'test')\n",
        "    )\n",
        ")\n",
        "def test_convert_camel_case_to_normal(input, expected):\n",
        "  \"\"\"\n",
        "  Test function to check declared above cases.\n",
        "  \"\"\"\n",
        "  assert convert_camel_case_to_normal(input) == expected\n",
        "\n",
        "def test_convert_camel_case_to_normal_error():\n",
        "  \"\"\"\n",
        "  Test function to check whether we're getting expected error for wrong input.\n",
        "  \"\"\"\n",
        "  with pytest.raises(TypeError):\n",
        "    assert convert_camel_case_to_normal(123)"
      ],
      "metadata": {
        "colab": {
          "base_uri": "https://localhost:8080/"
        },
        "id": "nGs31mZd37Eb",
        "outputId": "dfbf6c19-1fff-4fc1-ecd2-587ac852b4bd"
      },
      "execution_count": 176,
      "outputs": [
        {
          "output_type": "stream",
          "name": "stdout",
          "text": [
            "Writing test_convert_camel_case_to_normal.py\n"
          ]
        }
      ]
    },
    {
      "cell_type": "code",
      "source": [
        "!python -m pytest test_convert_camel_case_to_normal.py -v"
      ],
      "metadata": {
        "colab": {
          "base_uri": "https://localhost:8080/"
        },
        "id": "_A_h3e8B5ltp",
        "outputId": "e71f5b16-9cd2-43fe-f7ff-748358da1042"
      },
      "execution_count": 177,
      "outputs": [
        {
          "output_type": "stream",
          "name": "stdout",
          "text": [
            "\u001b[1m============================= test session starts ==============================\u001b[0m\n",
            "platform linux -- Python 3.9.16, pytest-7.2.2, pluggy-1.0.0 -- /usr/bin/python3\n",
            "cachedir: .pytest_cache\n",
            "rootdir: /content\n",
            "plugins: anyio-3.6.2\n",
            "\u001b[1mcollecting ... \u001b[0m\u001b[1m\rcollected 4 items                                                              \u001b[0m\n",
            "\n",
            "test_convert_camel_case_to_normal.py::test_convert_camel_case_to_normal[alaMaPythona-ala ma pythona] \u001b[32mPASSED\u001b[0m\u001b[32m [ 25%]\u001b[0m\n",
            "test_convert_camel_case_to_normal.py::test_convert_camel_case_to_normal[AlaMaPythona-ala ma pythona] \u001b[32mPASSED\u001b[0m\u001b[32m [ 50%]\u001b[0m\n",
            "test_convert_camel_case_to_normal.py::test_convert_camel_case_to_normal[test-test] \u001b[32mPASSED\u001b[0m\u001b[32m [ 75%]\u001b[0m\n",
            "test_convert_camel_case_to_normal.py::test_convert_camel_case_to_normal_error \u001b[32mPASSED\u001b[0m\u001b[32m [100%]\u001b[0m\n",
            "\n",
            "\u001b[32m============================== \u001b[32m\u001b[1m4 passed\u001b[0m\u001b[32m in 0.02s\u001b[0m\u001b[32m ===============================\u001b[0m\n"
          ]
        }
      ]
    },
    {
      "cell_type": "code",
      "source": [
        "from convert_camel_case_to_normal import convert_camel_case_to_normal\n",
        "convert_camel_case_to_normal('alaMaPythona')"
      ],
      "metadata": {
        "colab": {
          "base_uri": "https://localhost:8080/",
          "height": 36
        },
        "id": "EIeyPGbQ5oti",
        "outputId": "86131f7a-7ee7-480a-f882-cdc03cf81497"
      },
      "execution_count": 178,
      "outputs": [
        {
          "output_type": "execute_result",
          "data": {
            "text/plain": [
              "'ala ma pythona'"
            ],
            "application/vnd.google.colaboratory.intrinsic+json": {
              "type": "string"
            }
          },
          "metadata": {},
          "execution_count": 178
        }
      ]
    },
    {
      "cell_type": "markdown",
      "source": [
        "**Task 21**\\\n",
        "Write a function that, according to the Babylonian method, calculates the approximation of the square root of a given number."
      ],
      "metadata": {
        "id": "jrwjOqvk6r8T"
      }
    },
    {
      "cell_type": "code",
      "source": [
        "%%file sqrt_babylonian_method.py\n",
        "def babylonian_sqrt(num: float) -> float:\n",
        "  \"\"\"\n",
        "  Function that calculates approx value of sqrt based on babylonian method.\n",
        "  Args:\n",
        "        num (__float__): Number to calculate sqrt.\n",
        "\n",
        "  Returns:\n",
        "        float: Sqrt of provided number\n",
        "        \n",
        "  Raises:\n",
        "        TypeError: Occures when provided variable type is not correct.\n",
        "  \"\"\"\n",
        "  if isinstance(num, (int, float)):\n",
        "    \n",
        "    if num < 0:\n",
        "      raise ValueError(f'No square roots of negative numbers in the real number domain!')\n",
        "\n",
        "    # If number is zero return zero\n",
        "    if num == 0:\n",
        "      return 0\n",
        "\n",
        "    \"\"\"\n",
        "    1. 1st guess - Divide number by 2.\n",
        "    2. 2nd guess - Add 1 to number.\n",
        "    3. While guesses are not equal:\n",
        "      3a) Divide number by values of 1st guess.\n",
        "      3b) Switch values of guesses.\n",
        "      3c) Add number to guess and divided it by 2.\n",
        "    \"\"\"\n",
        "    first_guess: float = num/2.0\n",
        "    second_guess: float = first_guess + 1\n",
        "    while first_guess != second_guess:\n",
        "      n: float = num / first_guess\n",
        "      second_guess = first_guess\n",
        "      first_guess = (first_guess+n)/2\n",
        "\n",
        "    return first_guess\n",
        "  else:\n",
        "    raise TypeError(f'Wrong variable type: {type(num)}!')"
      ],
      "metadata": {
        "colab": {
          "base_uri": "https://localhost:8080/"
        },
        "id": "ZAecoWzY7uHF",
        "outputId": "4211211b-c0ef-41df-aac1-3d4ad85a3469"
      },
      "execution_count": 185,
      "outputs": [
        {
          "output_type": "stream",
          "name": "stdout",
          "text": [
            "Overwriting sqrt_babylonian_method.py\n"
          ]
        }
      ]
    },
    {
      "cell_type": "code",
      "source": [
        "%%file test_sqrt_babylonian_method.py\n",
        "from sqrt_babylonian_method import babylonian_sqrt\n",
        "import pytest\n",
        "\n",
        "@pytest.mark.parametrize(\n",
        "    ('input', 'expected'),\n",
        "    (\n",
        "        (4, 2),\n",
        "        (9, 3),\n",
        "        (16, 4)\n",
        "    )\n",
        ")\n",
        "def test_babylonian_sqrt(input, expected):\n",
        "  \"\"\"\n",
        "  Test function to check declared above cases.\n",
        "  \"\"\"\n",
        "  assert babylonian_sqrt(input) == pytest.approx(expected)\n",
        "\n",
        "def test_babylonian_sqrt_negative_error():\n",
        "  \"\"\"\n",
        "  Test function to check whether we're getting ValueError raised for negative value\n",
        "  \"\"\"\n",
        "  with pytest.raises(ValueError):\n",
        "    assert babylonian_sqrt(-5)\n",
        "\n",
        "def test_test_babylonian_sqrt_type_error():\n",
        "  \"\"\"\n",
        "  Test function to check whether we're getting error raised for wrong input.\n",
        "  \"\"\"\n",
        "  with pytest.raises(TypeError):\n",
        "    assert babylonian_sqrt('abc')"
      ],
      "metadata": {
        "colab": {
          "base_uri": "https://localhost:8080/"
        },
        "id": "fhTbY8ZZ7zXx",
        "outputId": "fced4eaa-afc2-48a8-ff8c-43cb28e0a8bf"
      },
      "execution_count": 189,
      "outputs": [
        {
          "output_type": "stream",
          "name": "stdout",
          "text": [
            "Overwriting test_sqrt_babylonian_method.py\n"
          ]
        }
      ]
    },
    {
      "cell_type": "code",
      "source": [
        "!python -m pytest test_sqrt_babylonian_method.py -v"
      ],
      "metadata": {
        "colab": {
          "base_uri": "https://localhost:8080/"
        },
        "id": "0oO4iDln9jnv",
        "outputId": "319ef55d-f502-488c-d61f-4e18f7de3c21"
      },
      "execution_count": 190,
      "outputs": [
        {
          "output_type": "stream",
          "name": "stdout",
          "text": [
            "\u001b[1m============================= test session starts ==============================\u001b[0m\n",
            "platform linux -- Python 3.9.16, pytest-7.2.2, pluggy-1.0.0 -- /usr/bin/python3\n",
            "cachedir: .pytest_cache\n",
            "rootdir: /content\n",
            "plugins: anyio-3.6.2\n",
            "\u001b[1mcollecting ... \u001b[0m\u001b[1m\rcollected 5 items                                                              \u001b[0m\n",
            "\n",
            "test_sqrt_babylonian_method.py::test_babylonian_sqrt[4-2] \u001b[32mPASSED\u001b[0m\u001b[32m         [ 20%]\u001b[0m\n",
            "test_sqrt_babylonian_method.py::test_babylonian_sqrt[9-3] \u001b[32mPASSED\u001b[0m\u001b[32m         [ 40%]\u001b[0m\n",
            "test_sqrt_babylonian_method.py::test_babylonian_sqrt[16-4] \u001b[32mPASSED\u001b[0m\u001b[32m        [ 60%]\u001b[0m\n",
            "test_sqrt_babylonian_method.py::test_babylonian_sqrt_negative_error \u001b[32mPASSED\u001b[0m\u001b[32m [ 80%]\u001b[0m\n",
            "test_sqrt_babylonian_method.py::test_test_babylonian_sqrt_type_error \u001b[32mPASSED\u001b[0m\u001b[32m [100%]\u001b[0m\n",
            "\n",
            "\u001b[32m============================== \u001b[32m\u001b[1m5 passed\u001b[0m\u001b[32m in 0.03s\u001b[0m\u001b[32m ===============================\u001b[0m\n"
          ]
        }
      ]
    },
    {
      "cell_type": "code",
      "source": [
        "from sqrt_babylonian_method import babylonian_sqrt\n",
        "print(babylonian_sqrt(4))\n",
        "print(babylonian_sqrt(2.25))"
      ],
      "metadata": {
        "colab": {
          "base_uri": "https://localhost:8080/"
        },
        "id": "3EkbaU279m2M",
        "outputId": "f0f3ecc7-ff3c-4f57-e18c-75d1c7e2198a"
      },
      "execution_count": 191,
      "outputs": [
        {
          "output_type": "stream",
          "name": "stdout",
          "text": [
            "2.0\n",
            "1.5\n"
          ]
        }
      ]
    },
    {
      "cell_type": "markdown",
      "source": [
        "**Task 22**\\\n",
        "Write a function that approximates the value of π (Monte-Carlo method)."
      ],
      "metadata": {
        "id": "4af-eIhb6xhL"
      }
    },
    {
      "cell_type": "markdown",
      "source": [
        "**Used pattern**\\\n",
        "$$Π = {4*Points Inside The Circle \\over Number Of Trials}$$"
      ],
      "metadata": {
        "id": "OkbspZ4FAfYe"
      }
    },
    {
      "cell_type": "code",
      "source": [
        "%%file monte_carlo_pi.py\n",
        "import numpy as np\n",
        "def calculate_monte_carlo_pi(radius: float, n_trials: int) -> float:\n",
        "\n",
        "  if isinstance(radius, (int, float)) and isinstance(n_trials, int):\n",
        "\n",
        "    if radius > 0 and n_trials > 0:\n",
        "      # Variable to store information how many points are inside the circle\n",
        "      points_inside: int = 0\n",
        "\n",
        "      # Variables that generates lists of random points on OX/OY\n",
        "      rand_x: list[float] = np.random.default_rng().uniform(-radius, radius, (n_trials,))\n",
        "      rand_y: list[float] = np.random.default_rng().uniform(-radius, radius, (n_trials,))\n",
        "\n",
        "      # Check condition whether we're inside/ outside the circle\n",
        "      for i in range(n_trials):\n",
        "        if rand_x[i]**2 + rand_y[i]**2 <= radius**2:\n",
        "          points_inside += 1\n",
        "\n",
        "      # Calculate value of pi\n",
        "      return round(4*points_inside / n_trials, 4)\n",
        "    \n",
        "    else:\n",
        "      raise ValueError('Radius or number of trials can not be negative value!')\n",
        "  \n",
        "  else:\n",
        "    raise TypeError(f'Wrong variable type provided!')"
      ],
      "metadata": {
        "colab": {
          "base_uri": "https://localhost:8080/"
        },
        "id": "svuDxR-g_B9b",
        "outputId": "45e58b55-952a-4014-e1d2-f33dc91444e1"
      },
      "execution_count": 212,
      "outputs": [
        {
          "output_type": "stream",
          "name": "stdout",
          "text": [
            "Overwriting monte_carlo_pi.py\n"
          ]
        }
      ]
    },
    {
      "cell_type": "code",
      "source": [
        "%%file test_monte_carlo_pi.py\n",
        "from monte_carlo_pi import calculate_monte_carlo_pi\n",
        "import pytest\n",
        "\n",
        "def test_calculate_monte_carlo_pi():\n",
        "  \"\"\"\n",
        "  Test function to check below test cases\n",
        "  \"\"\"\n",
        "  assert calculate_monte_carlo_pi(1, 1000) == pytest.approx(3.14)\n",
        "  assert calculate_monte_carlo_pi(5, 100000) == pytest.approx(3.14)\n",
        "\n",
        "def test_calculate_monte_carlo_pi_type_error():\n",
        "  \"\"\"\n",
        "  Test case to check provided type variable and error.\n",
        "  \"\"\"\n",
        "  with pytest.raises(TypeError):\n",
        "    assert calculate_monte_carlo_pi('abc', 5)\n",
        "    assert calculate_monte_carlo_pi(3, 'bc')\n",
        "    assert calculate_monte_carlo_pi('abc', 'abc')\n",
        "\n",
        "def test_calculate_monte_carlo_pi_value_error():\n",
        "  \"\"\"\n",
        "  Test case to check whether radius and number of trials are postive values.\n",
        "  \"\"\"\n",
        "  with pytest.raises(ValueError):\n",
        "    assert calculate_monte_carlo_pi(-5, -5)\n",
        "    assert calculate_monte_carlo_pi(3, -5)\n",
        "    assert calculate_monte_carlo_pi(-5, 5)"
      ],
      "metadata": {
        "colab": {
          "base_uri": "https://localhost:8080/"
        },
        "id": "x-2c295dBRqi",
        "outputId": "619e4928-68a5-4a64-924f-7dae90f1b7e9"
      },
      "execution_count": 215,
      "outputs": [
        {
          "output_type": "stream",
          "name": "stdout",
          "text": [
            "Overwriting test_monte_carlo_pi.py\n"
          ]
        }
      ]
    },
    {
      "cell_type": "code",
      "source": [
        "!python -m pytest test_monte_carlo_pi.py -v"
      ],
      "metadata": {
        "colab": {
          "base_uri": "https://localhost:8080/"
        },
        "id": "On4IT2a8CYl5",
        "outputId": "dc7a7b9f-a05b-4f0b-8573-c2ea3a5102ee"
      },
      "execution_count": 216,
      "outputs": [
        {
          "output_type": "stream",
          "name": "stdout",
          "text": [
            "\u001b[1m============================= test session starts ==============================\u001b[0m\n",
            "platform linux -- Python 3.9.16, pytest-7.2.2, pluggy-1.0.0 -- /usr/bin/python3\n",
            "cachedir: .pytest_cache\n",
            "rootdir: /content\n",
            "plugins: anyio-3.6.2\n",
            "\u001b[1mcollecting ... \u001b[0m\u001b[1m\rcollected 3 items                                                              \u001b[0m\n",
            "\n",
            "test_monte_carlo_pi.py::test_calculate_monte_carlo_pi \u001b[31mFAILED\u001b[0m\u001b[31m             [ 33%]\u001b[0m\n",
            "test_monte_carlo_pi.py::test_calculate_monte_carlo_pi_type_error \u001b[32mPASSED\u001b[0m\u001b[31m  [ 66%]\u001b[0m\n",
            "test_monte_carlo_pi.py::test_calculate_monte_carlo_pi_value_error \u001b[32mPASSED\u001b[0m\u001b[31m [100%]\u001b[0m\n",
            "\n",
            "=================================== FAILURES ===================================\n",
            "\u001b[31m\u001b[1m________________________ test_calculate_monte_carlo_pi _________________________\u001b[0m\n",
            "\n",
            "    \u001b[94mdef\u001b[39;49;00m \u001b[92mtest_calculate_monte_carlo_pi\u001b[39;49;00m():\u001b[90m\u001b[39;49;00m\n",
            "    \u001b[90m  \u001b[39;49;00m\u001b[33m\"\"\"\u001b[39;49;00m\n",
            "    \u001b[33m  Test function to check below test cases\u001b[39;49;00m\n",
            "    \u001b[33m  \"\"\"\u001b[39;49;00m\u001b[90m\u001b[39;49;00m\n",
            ">     \u001b[94massert\u001b[39;49;00m calculate_monte_carlo_pi(\u001b[94m1\u001b[39;49;00m, \u001b[94m1000\u001b[39;49;00m) == pytest.approx(\u001b[94m3.14\u001b[39;49;00m)\u001b[90m\u001b[39;49;00m\n",
            "\u001b[1m\u001b[31mE     assert 3.048 == 3.14 ± 3.1e-06\u001b[0m\n",
            "\u001b[1m\u001b[31mE       comparison failed\u001b[0m\n",
            "\u001b[1m\u001b[31mE       Obtained: 3.048\u001b[0m\n",
            "\u001b[1m\u001b[31mE       Expected: 3.14 ± 3.1e-06\u001b[0m\n",
            "\n",
            "\u001b[1m\u001b[31mtest_monte_carlo_pi.py\u001b[0m:8: AssertionError\n",
            "\u001b[36m\u001b[1m=========================== short test summary info ============================\u001b[0m\n",
            "\u001b[31mFAILED\u001b[0m test_monte_carlo_pi.py::\u001b[1mtest_calculate_monte_carlo_pi\u001b[0m - assert 3.048 == 3.14 ± 3.1e-06\n",
            "\u001b[31m========================= \u001b[31m\u001b[1m1 failed\u001b[0m, \u001b[32m2 passed\u001b[0m\u001b[31m in 0.20s\u001b[0m\u001b[31m ==========================\u001b[0m\n"
          ]
        }
      ]
    },
    {
      "cell_type": "markdown",
      "source": [
        "For this task I will consider that despite not passing the task test was done correctly. Everything depends on the values of the parameters matched and the points drawn."
      ],
      "metadata": {
        "id": "PUDinx-oDQBh"
      }
    },
    {
      "cell_type": "code",
      "source": [
        "from monte_carlo_pi import calculate_monte_carlo_pi\n",
        "print('-------------')\n",
        "print(calculate_monte_carlo_pi(5, 1000000))\n",
        "print('-------------')\n",
        "print(calculate_monte_carlo_pi(5, 1000))"
      ],
      "metadata": {
        "colab": {
          "base_uri": "https://localhost:8080/"
        },
        "id": "rFBAKN8HDfCD",
        "outputId": "9bf6644b-54d8-41ae-ca55-2387a2588705"
      },
      "execution_count": 218,
      "outputs": [
        {
          "output_type": "stream",
          "name": "stdout",
          "text": [
            "-------------\n",
            "3.1432\n",
            "-------------\n",
            "3.068\n"
          ]
        }
      ]
    },
    {
      "cell_type": "markdown",
      "source": [
        "**Task 23**\\\n",
        "Write a function that for the lists a = [1, 2, 3] and b = [4, 5, 6] returns the result c = [(1, 4),(2, 5),(3, 6)]."
      ],
      "metadata": {
        "id": "K_C1uo9UN8Hl"
      }
    },
    {
      "cell_type": "code",
      "source": [
        "%%file convert_two_lists_into_list_of_tuples.py\n",
        "class ListsNotEqualError(Exception):\n",
        "  def __init__(self, message: str) -> None:\n",
        "    self.message = message\n",
        "    super(Exception, self).__init__(self.message)\n",
        "\n",
        "def concat_two_list_into_list_of_tuples(list_1: list[int], list_2: list[int]) -> list[tuple[int]]:\n",
        "  \"\"\"\n",
        "  Function converts provided lists into one merged list of tuples.\n",
        "\n",
        "  Args:\n",
        "        list_1 (__list[int]__): Expected list of integer values.\n",
        "        list_2 (__list[int]__): Expected list of integer values.\n",
        "\n",
        "  Returns:\n",
        "        list[tuple[int]]: Return merged list of tuples.\n",
        "        \n",
        "  Raises:\n",
        "        ListsNotEqualError: Occures when provided lists do not have the same length.\n",
        "  \"\"\"\n",
        "  if len(list_1) != len(list_2):\n",
        "    raise ListsNotEqualError(f'Provided length of list: {len(list_1)} is not equal with other list: {len(list_2)}')\n",
        "  else:\n",
        "    return list([(list_1[i], list_2[i]) for i in range(0, len(list_1))])"
      ],
      "metadata": {
        "id": "LEAFzJhSN8Z9",
        "colab": {
          "base_uri": "https://localhost:8080/"
        },
        "outputId": "0fe888af-20de-4519-db85-8a2e46af4833"
      },
      "execution_count": null,
      "outputs": [
        {
          "output_type": "stream",
          "name": "stdout",
          "text": [
            "Writing convert_two_lists_into_list_of_tuples.py\n"
          ]
        }
      ]
    },
    {
      "cell_type": "code",
      "source": [
        "%%file test_convert_two_lists_into_list_of_tuples.py\n",
        "import pytest\n",
        "from convert_two_lists_into_list_of_tuples import concat_two_list_into_list_of_tuples, ListsNotEqualError\n",
        "\n",
        "@pytest.mark.parametrize(\n",
        "    ('input_list_1', 'input_list_2','expected'),\n",
        "    [\n",
        "        pytest.param([1,2,3], [4,5,6], [(1,4), (2,5), (3,6)])\n",
        "    ]\n",
        ")\n",
        "def test_concat_two_lists_into_list_of_tuples(input_list_1, input_list_2,expected):\n",
        "  \"\"\"\n",
        "  Pramatrized test case for specified lists in task content.\n",
        "  \"\"\"\n",
        "  assert concat_two_list_into_list_of_tuples(input_list_1, input_list_2) == expected\n",
        "\n",
        "def test_concat_two_lists_into_list_of_tuples_error():\n",
        "  \"\"\"\n",
        "  Test function to check whether we're getting expected error for specified cases below.\n",
        "  \"\"\"\n",
        "  with pytest.raises(ListsNotEqualError):\n",
        "    assert concat_two_list_into_list_of_tuples([1,2], [4, 5,6])\n",
        "    assert concat_two_list_into_list_of_tuples([], [1])\n",
        "    assert concat_two_list_into_list_of_tuples([3, 2], [1])"
      ],
      "metadata": {
        "colab": {
          "base_uri": "https://localhost:8080/"
        },
        "id": "dHxudwT6Ax4V",
        "outputId": "65265972-f238-41de-c698-d914e9de9361"
      },
      "execution_count": null,
      "outputs": [
        {
          "output_type": "stream",
          "name": "stdout",
          "text": [
            "Overwriting test_convert_two_lists_into_list_of_tuples.py\n"
          ]
        }
      ]
    },
    {
      "cell_type": "code",
      "source": [
        "!python -m pytest test_convert_two_lists_into_list_of_tuples.py -v"
      ],
      "metadata": {
        "colab": {
          "base_uri": "https://localhost:8080/"
        },
        "id": "Veg8ilSGBrkh",
        "outputId": "9b50cc98-12da-4e37-c4b9-b82ec41e39c8"
      },
      "execution_count": null,
      "outputs": [
        {
          "output_type": "stream",
          "name": "stdout",
          "text": [
            "\u001b[1m============================= test session starts ==============================\u001b[0m\n",
            "platform linux -- Python 3.9.16, pytest-7.2.2, pluggy-1.0.0 -- /usr/local/bin/python\n",
            "cachedir: .pytest_cache\n",
            "rootdir: /content\n",
            "plugins: anyio-3.6.2\n",
            "\u001b[1mcollecting ... \u001b[0m\u001b[1m\rcollected 2 items                                                              \u001b[0m\n",
            "\n",
            "test_convert_two_lists_into_list_of_tuples.py::test_concat_two_lists_into_list_of_tuples[input_list_10-input_list_20-expected0] \u001b[32mPASSED\u001b[0m\u001b[32m [ 50%]\u001b[0m\n",
            "test_convert_two_lists_into_list_of_tuples.py::test_concat_two_lists_into_list_of_tuples_error \u001b[32mPASSED\u001b[0m\u001b[32m [100%]\u001b[0m\n",
            "\n",
            "\u001b[32m============================== \u001b[32m\u001b[1m2 passed\u001b[0m\u001b[32m in 0.02s\u001b[0m\u001b[32m ===============================\u001b[0m\n"
          ]
        }
      ]
    },
    {
      "cell_type": "code",
      "source": [
        "from convert_two_lists_into_list_of_tuples import concat_two_list_into_list_of_tuples\n",
        "concat_two_list_into_list_of_tuples([1, 2, 3], [4, 5, 6])"
      ],
      "metadata": {
        "colab": {
          "base_uri": "https://localhost:8080/"
        },
        "id": "xkgs2HwnOYF6",
        "outputId": "990f24d5-5e18-4be0-ef6c-232dda7e132b"
      },
      "execution_count": null,
      "outputs": [
        {
          "output_type": "execute_result",
          "data": {
            "text/plain": [
              "[(1, 4), (2, 5), (3, 6)]"
            ]
          },
          "metadata": {},
          "execution_count": 23
        }
      ]
    },
    {
      "cell_type": "markdown",
      "source": [
        "**Task 24**\\\n",
        "Write a function that, for a range of numbers range(100), returns a list of values that are divisible by 3 and indivisible by 5."
      ],
      "metadata": {
        "id": "LpguVBqTOany"
      }
    },
    {
      "cell_type": "code",
      "source": [
        "%%file propper_values.py\n",
        "def get_propper_values(max_range: int) -> list[int]:\n",
        "  \"\"\"\n",
        "  Function that find numbers that can be divided by 3 but not by 5.\n",
        "\n",
        "  Args:\n",
        "        max_range (__int__): Range for finding those numbers..\n",
        "\n",
        "  Returns:\n",
        "        int: Return all of numbers in given range..\n",
        "        \n",
        "  Raises:\n",
        "        TypeError: Occures when provided variable type is not correct. \n",
        "  \"\"\"\n",
        "  if isinstance(max_range, int):\n",
        "    if max_range > 0:\n",
        "      return list([i for i in range(0, max_range)\\\n",
        "                  if i%3 == 0 and i%5 != 0])\n",
        "    else:\n",
        "      raise ValueError(f'Expected natural number!')\n",
        "  else:\n",
        "    raise TypeError(f'Provided var type is not correct: {type(max_range)}!')"
      ],
      "metadata": {
        "id": "WbQy5rawOpnV",
        "colab": {
          "base_uri": "https://localhost:8080/"
        },
        "outputId": "5b5b191b-6e28-4c73-eb8e-3ddcbc4197af"
      },
      "execution_count": null,
      "outputs": [
        {
          "output_type": "stream",
          "name": "stdout",
          "text": [
            "Overwriting propper_values.py\n"
          ]
        }
      ]
    },
    {
      "cell_type": "code",
      "source": [
        "%%file test_propper_values.py\n",
        "from propper_values import get_propper_values\n",
        "import pytest\n",
        "\n",
        "@pytest.mark.parametrize(\n",
        "    ('input', 'expected'),\n",
        "    (\n",
        "        (10, [3, 6, 9]),\n",
        "        (20, [3,6,9,12,18])\n",
        "    )\n",
        ")\n",
        "def test_get_propper_values(input, expected):\n",
        "  \"\"\"\n",
        "  Parametrized test function for checking whether for provided input we're getting desired list output.\n",
        "  \"\"\"\n",
        "  assert get_propper_values(input) == expected\n",
        "\n",
        "def test_propper_values_value_error():\n",
        "  \"\"\"\n",
        "  Test function that checks whether for negetive number we're getting expected ValueError.\n",
        "  \"\"\"\n",
        "  with pytest.raises(ValueError):\n",
        "    assert get_propper_values(-5)\n",
        "\n",
        "def test_propper_values_type_error():\n",
        "  \"\"\"\n",
        "  Test function thath checks whether for not expected object input we're getting expected TypeError.\n",
        "  \"\"\"\n",
        "  with pytest.raises(TypeError):\n",
        "    assert get_propper_values('abcd')"
      ],
      "metadata": {
        "colab": {
          "base_uri": "https://localhost:8080/"
        },
        "id": "7TUg3Tu983hD",
        "outputId": "51add94c-4e8e-45eb-af3d-c6090b767f12"
      },
      "execution_count": null,
      "outputs": [
        {
          "output_type": "stream",
          "name": "stdout",
          "text": [
            "Overwriting test_propper_values.py\n"
          ]
        }
      ]
    },
    {
      "cell_type": "code",
      "source": [
        "!python -m pytest test_propper_values.py -v"
      ],
      "metadata": {
        "colab": {
          "base_uri": "https://localhost:8080/"
        },
        "id": "MJnXFqA1-0LQ",
        "outputId": "99ea0500-d02a-48dd-a8d6-df5f09c6f864"
      },
      "execution_count": null,
      "outputs": [
        {
          "output_type": "stream",
          "name": "stdout",
          "text": [
            "\u001b[1m============================= test session starts ==============================\u001b[0m\n",
            "platform linux -- Python 3.9.16, pytest-7.2.2, pluggy-1.0.0 -- /usr/local/bin/python\n",
            "cachedir: .pytest_cache\n",
            "rootdir: /content\n",
            "plugins: anyio-3.6.2\n",
            "\u001b[1mcollecting ... \u001b[0m\u001b[1m\rcollected 4 items                                                              \u001b[0m\n",
            "\n",
            "test_propper_values.py::test_get_propper_values[10-expected0] \u001b[32mPASSED\u001b[0m\u001b[32m     [ 25%]\u001b[0m\n",
            "test_propper_values.py::test_get_propper_values[20-expected1] \u001b[32mPASSED\u001b[0m\u001b[32m     [ 50%]\u001b[0m\n",
            "test_propper_values.py::test_propper_values_value_error \u001b[32mPASSED\u001b[0m\u001b[32m           [ 75%]\u001b[0m\n",
            "test_propper_values.py::test_propper_values_type_error \u001b[32mPASSED\u001b[0m\u001b[32m            [100%]\u001b[0m\n",
            "\n",
            "\u001b[32m============================== \u001b[32m\u001b[1m4 passed\u001b[0m\u001b[32m in 0.02s\u001b[0m\u001b[32m ===============================\u001b[0m\n"
          ]
        }
      ]
    },
    {
      "cell_type": "code",
      "source": [
        "from propper_values import get_propper_values\n",
        "for elem in get_propper_values(50):\n",
        "  print(elem)"
      ],
      "metadata": {
        "colab": {
          "base_uri": "https://localhost:8080/"
        },
        "id": "LA76-cH6O9Tn",
        "outputId": "c02808b7-3109-4831-d4d9-fa066b42f799"
      },
      "execution_count": null,
      "outputs": [
        {
          "output_type": "stream",
          "name": "stdout",
          "text": [
            "3\n",
            "6\n",
            "9\n",
            "12\n",
            "18\n",
            "21\n",
            "24\n",
            "27\n",
            "33\n",
            "36\n",
            "39\n",
            "42\n",
            "48\n"
          ]
        }
      ]
    },
    {
      "cell_type": "code",
      "source": [],
      "metadata": {
        "id": "7qn81HTNO-GW"
      },
      "execution_count": null,
      "outputs": []
    }
  ]
}