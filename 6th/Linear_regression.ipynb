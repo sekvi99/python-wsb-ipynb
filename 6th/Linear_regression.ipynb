{
  "nbformat": 4,
  "nbformat_minor": 0,
  "metadata": {
    "colab": {
      "provenance": []
    },
    "kernelspec": {
      "name": "python3",
      "display_name": "Python 3"
    },
    "language_info": {
      "name": "python"
    }
  },
  "cells": [
    {
      "cell_type": "markdown",
      "source": [
        "**Filip Koźlik**"
      ],
      "metadata": {
        "id": "zANdoU19x2-x"
      }
    },
    {
      "cell_type": "markdown",
      "source": [
        "**Task 1.**\\\n",
        "Write a function that calculates Pearson's linear correlation coefficient. Do not use any off-the-shelf functions."
      ],
      "metadata": {
        "id": "btmjMD8WvnUL"
      }
    },
    {
      "cell_type": "code",
      "source": [
        "!pip install pytest"
      ],
      "metadata": {
        "colab": {
          "base_uri": "https://localhost:8080/"
        },
        "id": "VxdNaF5qv3Ey",
        "outputId": "2f10fc88-3911-4e0d-e883-590f8cbab06c"
      },
      "execution_count": 4,
      "outputs": [
        {
          "output_type": "stream",
          "name": "stdout",
          "text": [
            "Requirement already satisfied: pytest in /usr/local/lib/python3.10/dist-packages (7.4.3)\n",
            "Requirement already satisfied: iniconfig in /usr/local/lib/python3.10/dist-packages (from pytest) (2.0.0)\n",
            "Requirement already satisfied: packaging in /usr/local/lib/python3.10/dist-packages (from pytest) (23.2)\n",
            "Requirement already satisfied: pluggy<2.0,>=0.12 in /usr/local/lib/python3.10/dist-packages (from pytest) (1.3.0)\n",
            "Requirement already satisfied: exceptiongroup>=1.0.0rc8 in /usr/local/lib/python3.10/dist-packages (from pytest) (1.1.3)\n",
            "Requirement already satisfied: tomli>=1.0.0 in /usr/local/lib/python3.10/dist-packages (from pytest) (2.0.1)\n"
          ]
        }
      ]
    },
    {
      "cell_type": "code",
      "execution_count": 20,
      "metadata": {
        "colab": {
          "base_uri": "https://localhost:8080/"
        },
        "id": "hslwpG6iuepG",
        "outputId": "45678e3a-4ee4-4d47-9b6d-15b037dd2d75"
      },
      "outputs": [
        {
          "output_type": "stream",
          "name": "stdout",
          "text": [
            "Overwriting helpers.py\n"
          ]
        }
      ],
      "source": [
        "%%file helpers.py\n",
        "from typing import List, Tuple\n",
        "\n",
        "class Statistics:\n",
        "    @staticmethod\n",
        "    def mean(data: List[float]) -> float:\n",
        "        return sum(data) / len(data) if data else 0.0\n",
        "\n",
        "    @staticmethod\n",
        "    def variance(data: List[float], mean_val: float) -> float:\n",
        "        return sum((x - mean_val) ** 2 for x in data) / len(data) if data else 0.0\n",
        "\n",
        "    @staticmethod\n",
        "    def covariance(x: List[float], y: List[float], mean_x: float, mean_y: float) -> float:\n",
        "        if len(x) != len(y):\n",
        "            raise ValueError(\"Lists must have the same length\")\n",
        "\n",
        "        return sum((x[i] - mean_x) * (y[i] - mean_y) for i in range(len(x))) / len(x) if x and y else 0.0\n",
        "\n",
        "    @staticmethod\n",
        "    def linear_regression_coefficients(x: List[float], y: List[float]) -> Tuple[float, float]:\n",
        "        if len(x) != len(y):\n",
        "            raise ValueError(\"Lists must have the same length\")\n",
        "\n",
        "        mean_x = Statistics.mean(x)\n",
        "        mean_y = Statistics.mean(y)\n",
        "\n",
        "        # Calculate the slope (a) and intercept (b) of the regression line\n",
        "        numerator = sum((x[i] - mean_x) * (y[i] - mean_y) for i in range(len(x)))\n",
        "        denominator = sum((xi - mean_x) ** 2 for xi in x)\n",
        "\n",
        "        a = numerator / denominator if denominator != 0 else 0.0\n",
        "        b = mean_y - a * mean_x\n",
        "\n",
        "        return a, b"
      ]
    },
    {
      "cell_type": "code",
      "source": [
        "%%file solutions.py\n",
        "from typing import List\n",
        "from helpers import *\n",
        "\n",
        "class Solutions:\n",
        "    @staticmethod\n",
        "    def pearson_correlation(x: List[float], y: List[float]) -> float:\n",
        "        # Check if both lists have the same length\n",
        "        if len(x) != len(y):\n",
        "            raise ValueError(\"Lists must have the same length\")\n",
        "\n",
        "        # Calculate the mean values of x and y\n",
        "        mean_x = Statistics.mean(x)\n",
        "        mean_y = Statistics.mean(y)\n",
        "\n",
        "        # Calculate covariance\n",
        "        covariance = Statistics.covariance(x, y, mean_x, mean_y)\n",
        "\n",
        "        # Calculate variance for x and y\n",
        "        variance_x = Statistics.variance(x, mean_x)\n",
        "        variance_y = Statistics.variance(y, mean_y)\n",
        "\n",
        "        # Calculate the Pearson correlation coefficient\n",
        "        correlation = covariance / (variance_x ** 0.5 * variance_y ** 0.5) if variance_x and variance_y else 0.0\n",
        "\n",
        "        return correlation"
      ],
      "metadata": {
        "colab": {
          "base_uri": "https://localhost:8080/"
        },
        "id": "q6XFMzq1vpib",
        "outputId": "3f526a1f-57f3-480c-814f-4354ba12b3b0"
      },
      "execution_count": 6,
      "outputs": [
        {
          "output_type": "stream",
          "name": "stdout",
          "text": [
            "Writing solutions.py\n"
          ]
        }
      ]
    },
    {
      "cell_type": "code",
      "source": [
        "print(Solutions.pearson_correlation([1, 2, 3], [1, 2, 3]))\n",
        "print(Solutions.pearson_correlation([1, 2, 3], [3, 2, 1]))\n",
        "print(Solutions.pearson_correlation([1, 2, 3], [4, 5, 6]))"
      ],
      "metadata": {
        "colab": {
          "base_uri": "https://localhost:8080/"
        },
        "id": "oRLj2fgqvyzg",
        "outputId": "20fd144c-1e7e-4119-cead-605ed106dc32"
      },
      "execution_count": 10,
      "outputs": [
        {
          "output_type": "stream",
          "name": "stdout",
          "text": [
            "1.0\n",
            "-1.0\n",
            "1.0\n"
          ]
        }
      ]
    },
    {
      "cell_type": "code",
      "source": [
        "%%file test_pearson_correlation.py\n",
        "from helpers import Statistics\n",
        "from solutions import Solutions\n",
        "import pytest\n",
        "\n",
        "@pytest.fixture\n",
        "def solutions_instance():\n",
        "    return Solutions()\n",
        "\n",
        "def test_pearson_correlation(solutions_instance):\n",
        "    # Test correlation coefficient for identical lists\n",
        "    assert solutions_instance.pearson_correlation([1, 2, 3], [1, 2, 3]) == 1.0\n",
        "\n",
        "    # Test correlation coefficient for reversed lists\n",
        "    assert solutions_instance.pearson_correlation([1, 2, 3], [3, 2, 1]) == -1.0\n",
        "\n",
        "    # Test correlation coefficient for lists with zero correlation\n",
        "    assert solutions_instance.pearson_correlation([1, 2, 3], [4, 5, 6]) == 1.0\n",
        "\n",
        "    # Test correlation coefficient for empty lists\n",
        "    with pytest.raises(ValueError, match=\"Lists must have the same length\"):\n",
        "        solutions_instance.pearson_correlation([], [1, 2, 3])\n",
        "\n",
        "    # Test correlation coefficient for lists of different lengths\n",
        "    with pytest.raises(ValueError, match=\"Lists must have the same length\"):\n",
        "        solutions_instance.pearson_correlation([1, 2, 3], [1, 2, 3, 4])"
      ],
      "metadata": {
        "colab": {
          "base_uri": "https://localhost:8080/"
        },
        "id": "QCxhIF-fwUSl",
        "outputId": "84afcdfa-f14b-4302-c0af-597a239a597b"
      },
      "execution_count": 24,
      "outputs": [
        {
          "output_type": "stream",
          "name": "stdout",
          "text": [
            "Overwriting test_pearson_correlation.py\n"
          ]
        }
      ]
    },
    {
      "cell_type": "code",
      "source": [
        "!python -m pytest test_pearson_correlation.py -v"
      ],
      "metadata": {
        "colab": {
          "base_uri": "https://localhost:8080/"
        },
        "id": "0ru2JiLswtNE",
        "outputId": "01df0f6b-af97-4e10-f632-941629b16adf"
      },
      "execution_count": 18,
      "outputs": [
        {
          "output_type": "stream",
          "name": "stdout",
          "text": [
            "\u001b[1m======================================= test session starts ========================================\u001b[0m\n",
            "platform linux -- Python 3.10.12, pytest-7.4.3, pluggy-1.3.0 -- /usr/bin/python3\n",
            "cachedir: .pytest_cache\n",
            "rootdir: /content\n",
            "plugins: anyio-3.7.1\n",
            "\u001b[1mcollecting ... \u001b[0m\u001b[1m\rcollected 1 item                                                                                   \u001b[0m\n",
            "\n",
            "test_pearson_correlation.py::test_pearson_correlation \u001b[32mPASSED\u001b[0m\u001b[32m                                 [100%]\u001b[0m\n",
            "\n",
            "\u001b[32m======================================== \u001b[32m\u001b[1m1 passed\u001b[0m\u001b[32m in 0.01s\u001b[0m\u001b[32m =========================================\u001b[0m\n"
          ]
        }
      ]
    },
    {
      "cell_type": "markdown",
      "source": [
        "**Task 2.**\\\n",
        "Write a function that finds the coefficients of a simple regression."
      ],
      "metadata": {
        "id": "f6wJvhaex9UG"
      }
    },
    {
      "cell_type": "code",
      "source": [
        "from helpers import Statistics\n",
        "\n",
        "x = [1, 2, 3, 4, 5]\n",
        "y = [2, 4, 6, 8, 10]\n",
        "a, b = Statistics.linear_regression_coefficients(x, y)\n",
        "print('A: ', a)\n",
        "print('B: ', b)"
      ],
      "metadata": {
        "colab": {
          "base_uri": "https://localhost:8080/"
        },
        "id": "NFLn0vvjxCtK",
        "outputId": "a874813b-154b-4683-fd1b-62dc0325dd2a"
      },
      "execution_count": 27,
      "outputs": [
        {
          "output_type": "stream",
          "name": "stdout",
          "text": [
            "A:  2.0\n",
            "B:  0.0\n"
          ]
        }
      ]
    },
    {
      "cell_type": "code",
      "source": [
        "%%file test_linear_regression.py\n",
        "\n",
        "import pytest\n",
        "from helpers import Statistics\n",
        "\n",
        "@pytest.fixture\n",
        "def statistics_instance():\n",
        "    return Statistics()\n",
        "\n",
        "def test_linear_regression_coefficients(statistics_instance):\n",
        "    # Test linear regression coefficients for a perfect linear relationship\n",
        "    x = [1, 2, 3, 4, 5]\n",
        "    y = [2, 4, 6, 8, 10]\n",
        "    a, b = statistics_instance.linear_regression_coefficients(x, y)\n",
        "    assert a == 2.0\n",
        "    assert b == 0.0\n",
        "\n",
        "    # Test linear regression coefficients for a different slope and intercept\n",
        "    x = [1, 2, 3, 4, 5]\n",
        "    y = [3, 5, 7, 9, 11]\n",
        "    a, b = statistics_instance.linear_regression_coefficients(x, y)\n",
        "    assert a == 2.0\n",
        "    assert b == 1.0\n",
        "\n",
        "    # Test linear regression coefficients for a horizontal line (slope should be 0)\n",
        "    x = [1, 2, 3, 4, 5]\n",
        "    y = [5, 5, 5, 5, 5]\n",
        "    a, b = statistics_instance.linear_regression_coefficients(x, y)\n",
        "    assert a == 0.0\n",
        "    assert b == 5.0\n",
        "\n",
        "    # Test linear regression coefficients for an empty dataset\n",
        "    with pytest.raises(ValueError, match=\"Lists must have the same length\"):\n",
        "        statistics_instance.linear_regression_coefficients([], [1, 2, 3])\n",
        "\n",
        "    # Test linear regression coefficients for lists of different lengths\n",
        "    with pytest.raises(ValueError, match=\"Lists must have the same length\"):\n",
        "        statistics_instance.linear_regression_coefficients([1, 2, 3], [1, 2, 3, 4])"
      ],
      "metadata": {
        "colab": {
          "base_uri": "https://localhost:8080/"
        },
        "id": "-9bu8KqJy3De",
        "outputId": "94ee73bd-256d-4c9b-9084-e4011ca818d4"
      },
      "execution_count": 31,
      "outputs": [
        {
          "output_type": "stream",
          "name": "stdout",
          "text": [
            "Overwriting test_linear_regression.py\n"
          ]
        }
      ]
    },
    {
      "cell_type": "code",
      "source": [
        "!python -m pytest test_linear_regression.py -v"
      ],
      "metadata": {
        "colab": {
          "base_uri": "https://localhost:8080/"
        },
        "id": "nG6j7BZlzSbQ",
        "outputId": "361b1969-4286-4b90-bdfa-d2702fe4e58b"
      },
      "execution_count": 32,
      "outputs": [
        {
          "output_type": "stream",
          "name": "stdout",
          "text": [
            "\u001b[1m======================================= test session starts ========================================\u001b[0m\n",
            "platform linux -- Python 3.10.12, pytest-7.4.3, pluggy-1.3.0 -- /usr/bin/python3\n",
            "cachedir: .pytest_cache\n",
            "rootdir: /content\n",
            "plugins: anyio-3.7.1\n",
            "\u001b[1mcollecting ... \u001b[0m\u001b[1m\rcollected 1 item                                                                                   \u001b[0m\n",
            "\n",
            "test_linear_regression.py::test_linear_regression_coefficients \u001b[32mPASSED\u001b[0m\u001b[32m                        [100%]\u001b[0m\n",
            "\n",
            "\u001b[32m======================================== \u001b[32m\u001b[1m1 passed\u001b[0m\u001b[32m in 0.01s\u001b[0m\u001b[32m =========================================\u001b[0m\n"
          ]
        }
      ]
    },
    {
      "cell_type": "markdown",
      "source": [
        "**Task 3.**\\\n",
        "Write a function that draws the relationship between x and y from Anscombe's. quartet"
      ],
      "metadata": {
        "id": "WgW0905p08Ld"
      }
    },
    {
      "cell_type": "code",
      "source": [
        "import numpy as np\n",
        "import pandas as pd\n",
        "\n",
        "def get_anscombe_data() -> pd.DataFrame:\n",
        "    # Get data from provided url\n",
        "    url = \"https://pl.wikipedia.org/wiki/Kwartet_Anscombe%E2%80%99a\"\n",
        "    dfs = pd.read_html(url, header=0)\n",
        "\n",
        "    # Select propper data\n",
        "    df = dfs[1].drop([0])\n",
        "\n",
        "    # Rename data columns\n",
        "    df = df.rename(columns={\n",
        "        'I': 'X.1',\n",
        "        'I.1': 'Y.1',\n",
        "        'II': 'X.2',\n",
        "        'II.1': 'Y.2',\n",
        "        'III': 'X.3',\n",
        "        'III.1': 'Y.3',\n",
        "        'IV': 'X.4',\n",
        "        'IV.1': 'Y.4'\n",
        "    })\n",
        "\n",
        "    # Return data as numeric\n",
        "    return df.apply(pd.to_numeric, errors='coerce')"
      ],
      "metadata": {
        "id": "ictg0W6tzhlh"
      },
      "execution_count": 53,
      "outputs": []
    },
    {
      "cell_type": "code",
      "source": [
        "df = get_anscombe_data()\n",
        "df"
      ],
      "metadata": {
        "colab": {
          "base_uri": "https://localhost:8080/",
          "height": 394
        },
        "id": "yv6NjBzxz98E",
        "outputId": "02b6b845-3d18-4f8d-eb44-ebdb0ab6783d"
      },
      "execution_count": 52,
      "outputs": [
        {
          "output_type": "execute_result",
          "data": {
            "text/plain": [
              "     X.1    Y.1   X.2   Y.2   X.3    Y.3   X.4    Y.4\n",
              "1   10.0   8.04  10.0  9.14  10.0   7.46   8.0   6.58\n",
              "2    8.0   6.95   8.0  8.14   8.0   6.77   8.0   5.76\n",
              "3   13.0   7.58  13.0  8.74  13.0  12.74   8.0   7.71\n",
              "4    9.0   8.81   9.0  8.77   9.0   7.11   8.0   8.84\n",
              "5   11.0   8.33  11.0  9.26  11.0   7.81   8.0   8.47\n",
              "6   14.0   9.96  14.0  8.10  14.0   8.84   8.0   7.04\n",
              "7    6.0   7.24   6.0  6.13   6.0   6.08   8.0   5.25\n",
              "8    4.0   4.26   4.0  3.10   4.0   5.39  19.0  12.50\n",
              "9   12.0  10.84  12.0  9.13  12.0   8.15   8.0   5.56\n",
              "10   7.0   4.82   7.0  7.26   7.0   6.42   8.0   7.91\n",
              "11   5.0   5.68   5.0  4.74   5.0   5.73   8.0   6.89"
            ],
            "text/html": [
              "\n",
              "  <div id=\"df-cb5e2e6d-3ac1-4e6c-90b7-08fae58d11f5\" class=\"colab-df-container\">\n",
              "    <div>\n",
              "<style scoped>\n",
              "    .dataframe tbody tr th:only-of-type {\n",
              "        vertical-align: middle;\n",
              "    }\n",
              "\n",
              "    .dataframe tbody tr th {\n",
              "        vertical-align: top;\n",
              "    }\n",
              "\n",
              "    .dataframe thead th {\n",
              "        text-align: right;\n",
              "    }\n",
              "</style>\n",
              "<table border=\"1\" class=\"dataframe\">\n",
              "  <thead>\n",
              "    <tr style=\"text-align: right;\">\n",
              "      <th></th>\n",
              "      <th>X.1</th>\n",
              "      <th>Y.1</th>\n",
              "      <th>X.2</th>\n",
              "      <th>Y.2</th>\n",
              "      <th>X.3</th>\n",
              "      <th>Y.3</th>\n",
              "      <th>X.4</th>\n",
              "      <th>Y.4</th>\n",
              "    </tr>\n",
              "  </thead>\n",
              "  <tbody>\n",
              "    <tr>\n",
              "      <th>1</th>\n",
              "      <td>10.0</td>\n",
              "      <td>8.04</td>\n",
              "      <td>10.0</td>\n",
              "      <td>9.14</td>\n",
              "      <td>10.0</td>\n",
              "      <td>7.46</td>\n",
              "      <td>8.0</td>\n",
              "      <td>6.58</td>\n",
              "    </tr>\n",
              "    <tr>\n",
              "      <th>2</th>\n",
              "      <td>8.0</td>\n",
              "      <td>6.95</td>\n",
              "      <td>8.0</td>\n",
              "      <td>8.14</td>\n",
              "      <td>8.0</td>\n",
              "      <td>6.77</td>\n",
              "      <td>8.0</td>\n",
              "      <td>5.76</td>\n",
              "    </tr>\n",
              "    <tr>\n",
              "      <th>3</th>\n",
              "      <td>13.0</td>\n",
              "      <td>7.58</td>\n",
              "      <td>13.0</td>\n",
              "      <td>8.74</td>\n",
              "      <td>13.0</td>\n",
              "      <td>12.74</td>\n",
              "      <td>8.0</td>\n",
              "      <td>7.71</td>\n",
              "    </tr>\n",
              "    <tr>\n",
              "      <th>4</th>\n",
              "      <td>9.0</td>\n",
              "      <td>8.81</td>\n",
              "      <td>9.0</td>\n",
              "      <td>8.77</td>\n",
              "      <td>9.0</td>\n",
              "      <td>7.11</td>\n",
              "      <td>8.0</td>\n",
              "      <td>8.84</td>\n",
              "    </tr>\n",
              "    <tr>\n",
              "      <th>5</th>\n",
              "      <td>11.0</td>\n",
              "      <td>8.33</td>\n",
              "      <td>11.0</td>\n",
              "      <td>9.26</td>\n",
              "      <td>11.0</td>\n",
              "      <td>7.81</td>\n",
              "      <td>8.0</td>\n",
              "      <td>8.47</td>\n",
              "    </tr>\n",
              "    <tr>\n",
              "      <th>6</th>\n",
              "      <td>14.0</td>\n",
              "      <td>9.96</td>\n",
              "      <td>14.0</td>\n",
              "      <td>8.10</td>\n",
              "      <td>14.0</td>\n",
              "      <td>8.84</td>\n",
              "      <td>8.0</td>\n",
              "      <td>7.04</td>\n",
              "    </tr>\n",
              "    <tr>\n",
              "      <th>7</th>\n",
              "      <td>6.0</td>\n",
              "      <td>7.24</td>\n",
              "      <td>6.0</td>\n",
              "      <td>6.13</td>\n",
              "      <td>6.0</td>\n",
              "      <td>6.08</td>\n",
              "      <td>8.0</td>\n",
              "      <td>5.25</td>\n",
              "    </tr>\n",
              "    <tr>\n",
              "      <th>8</th>\n",
              "      <td>4.0</td>\n",
              "      <td>4.26</td>\n",
              "      <td>4.0</td>\n",
              "      <td>3.10</td>\n",
              "      <td>4.0</td>\n",
              "      <td>5.39</td>\n",
              "      <td>19.0</td>\n",
              "      <td>12.50</td>\n",
              "    </tr>\n",
              "    <tr>\n",
              "      <th>9</th>\n",
              "      <td>12.0</td>\n",
              "      <td>10.84</td>\n",
              "      <td>12.0</td>\n",
              "      <td>9.13</td>\n",
              "      <td>12.0</td>\n",
              "      <td>8.15</td>\n",
              "      <td>8.0</td>\n",
              "      <td>5.56</td>\n",
              "    </tr>\n",
              "    <tr>\n",
              "      <th>10</th>\n",
              "      <td>7.0</td>\n",
              "      <td>4.82</td>\n",
              "      <td>7.0</td>\n",
              "      <td>7.26</td>\n",
              "      <td>7.0</td>\n",
              "      <td>6.42</td>\n",
              "      <td>8.0</td>\n",
              "      <td>7.91</td>\n",
              "    </tr>\n",
              "    <tr>\n",
              "      <th>11</th>\n",
              "      <td>5.0</td>\n",
              "      <td>5.68</td>\n",
              "      <td>5.0</td>\n",
              "      <td>4.74</td>\n",
              "      <td>5.0</td>\n",
              "      <td>5.73</td>\n",
              "      <td>8.0</td>\n",
              "      <td>6.89</td>\n",
              "    </tr>\n",
              "  </tbody>\n",
              "</table>\n",
              "</div>\n",
              "    <div class=\"colab-df-buttons\">\n",
              "\n",
              "  <div class=\"colab-df-container\">\n",
              "    <button class=\"colab-df-convert\" onclick=\"convertToInteractive('df-cb5e2e6d-3ac1-4e6c-90b7-08fae58d11f5')\"\n",
              "            title=\"Convert this dataframe to an interactive table.\"\n",
              "            style=\"display:none;\">\n",
              "\n",
              "  <svg xmlns=\"http://www.w3.org/2000/svg\" height=\"24px\" viewBox=\"0 -960 960 960\">\n",
              "    <path d=\"M120-120v-720h720v720H120Zm60-500h600v-160H180v160Zm220 220h160v-160H400v160Zm0 220h160v-160H400v160ZM180-400h160v-160H180v160Zm440 0h160v-160H620v160ZM180-180h160v-160H180v160Zm440 0h160v-160H620v160Z\"/>\n",
              "  </svg>\n",
              "    </button>\n",
              "\n",
              "  <style>\n",
              "    .colab-df-container {\n",
              "      display:flex;\n",
              "      gap: 12px;\n",
              "    }\n",
              "\n",
              "    .colab-df-convert {\n",
              "      background-color: #E8F0FE;\n",
              "      border: none;\n",
              "      border-radius: 50%;\n",
              "      cursor: pointer;\n",
              "      display: none;\n",
              "      fill: #1967D2;\n",
              "      height: 32px;\n",
              "      padding: 0 0 0 0;\n",
              "      width: 32px;\n",
              "    }\n",
              "\n",
              "    .colab-df-convert:hover {\n",
              "      background-color: #E2EBFA;\n",
              "      box-shadow: 0px 1px 2px rgba(60, 64, 67, 0.3), 0px 1px 3px 1px rgba(60, 64, 67, 0.15);\n",
              "      fill: #174EA6;\n",
              "    }\n",
              "\n",
              "    .colab-df-buttons div {\n",
              "      margin-bottom: 4px;\n",
              "    }\n",
              "\n",
              "    [theme=dark] .colab-df-convert {\n",
              "      background-color: #3B4455;\n",
              "      fill: #D2E3FC;\n",
              "    }\n",
              "\n",
              "    [theme=dark] .colab-df-convert:hover {\n",
              "      background-color: #434B5C;\n",
              "      box-shadow: 0px 1px 3px 1px rgba(0, 0, 0, 0.15);\n",
              "      filter: drop-shadow(0px 1px 2px rgba(0, 0, 0, 0.3));\n",
              "      fill: #FFFFFF;\n",
              "    }\n",
              "  </style>\n",
              "\n",
              "    <script>\n",
              "      const buttonEl =\n",
              "        document.querySelector('#df-cb5e2e6d-3ac1-4e6c-90b7-08fae58d11f5 button.colab-df-convert');\n",
              "      buttonEl.style.display =\n",
              "        google.colab.kernel.accessAllowed ? 'block' : 'none';\n",
              "\n",
              "      async function convertToInteractive(key) {\n",
              "        const element = document.querySelector('#df-cb5e2e6d-3ac1-4e6c-90b7-08fae58d11f5');\n",
              "        const dataTable =\n",
              "          await google.colab.kernel.invokeFunction('convertToInteractive',\n",
              "                                                    [key], {});\n",
              "        if (!dataTable) return;\n",
              "\n",
              "        const docLinkHtml = 'Like what you see? Visit the ' +\n",
              "          '<a target=\"_blank\" href=https://colab.research.google.com/notebooks/data_table.ipynb>data table notebook</a>'\n",
              "          + ' to learn more about interactive tables.';\n",
              "        element.innerHTML = '';\n",
              "        dataTable['output_type'] = 'display_data';\n",
              "        await google.colab.output.renderOutput(dataTable, element);\n",
              "        const docLink = document.createElement('div');\n",
              "        docLink.innerHTML = docLinkHtml;\n",
              "        element.appendChild(docLink);\n",
              "      }\n",
              "    </script>\n",
              "  </div>\n",
              "\n",
              "\n",
              "<div id=\"df-b3e5e9f5-02be-4e74-9d36-45e6ace4905d\">\n",
              "  <button class=\"colab-df-quickchart\" onclick=\"quickchart('df-b3e5e9f5-02be-4e74-9d36-45e6ace4905d')\"\n",
              "            title=\"Suggest charts\"\n",
              "            style=\"display:none;\">\n",
              "\n",
              "<svg xmlns=\"http://www.w3.org/2000/svg\" height=\"24px\"viewBox=\"0 0 24 24\"\n",
              "     width=\"24px\">\n",
              "    <g>\n",
              "        <path d=\"M19 3H5c-1.1 0-2 .9-2 2v14c0 1.1.9 2 2 2h14c1.1 0 2-.9 2-2V5c0-1.1-.9-2-2-2zM9 17H7v-7h2v7zm4 0h-2V7h2v10zm4 0h-2v-4h2v4z\"/>\n",
              "    </g>\n",
              "</svg>\n",
              "  </button>\n",
              "\n",
              "<style>\n",
              "  .colab-df-quickchart {\n",
              "      --bg-color: #E8F0FE;\n",
              "      --fill-color: #1967D2;\n",
              "      --hover-bg-color: #E2EBFA;\n",
              "      --hover-fill-color: #174EA6;\n",
              "      --disabled-fill-color: #AAA;\n",
              "      --disabled-bg-color: #DDD;\n",
              "  }\n",
              "\n",
              "  [theme=dark] .colab-df-quickchart {\n",
              "      --bg-color: #3B4455;\n",
              "      --fill-color: #D2E3FC;\n",
              "      --hover-bg-color: #434B5C;\n",
              "      --hover-fill-color: #FFFFFF;\n",
              "      --disabled-bg-color: #3B4455;\n",
              "      --disabled-fill-color: #666;\n",
              "  }\n",
              "\n",
              "  .colab-df-quickchart {\n",
              "    background-color: var(--bg-color);\n",
              "    border: none;\n",
              "    border-radius: 50%;\n",
              "    cursor: pointer;\n",
              "    display: none;\n",
              "    fill: var(--fill-color);\n",
              "    height: 32px;\n",
              "    padding: 0;\n",
              "    width: 32px;\n",
              "  }\n",
              "\n",
              "  .colab-df-quickchart:hover {\n",
              "    background-color: var(--hover-bg-color);\n",
              "    box-shadow: 0 1px 2px rgba(60, 64, 67, 0.3), 0 1px 3px 1px rgba(60, 64, 67, 0.15);\n",
              "    fill: var(--button-hover-fill-color);\n",
              "  }\n",
              "\n",
              "  .colab-df-quickchart-complete:disabled,\n",
              "  .colab-df-quickchart-complete:disabled:hover {\n",
              "    background-color: var(--disabled-bg-color);\n",
              "    fill: var(--disabled-fill-color);\n",
              "    box-shadow: none;\n",
              "  }\n",
              "\n",
              "  .colab-df-spinner {\n",
              "    border: 2px solid var(--fill-color);\n",
              "    border-color: transparent;\n",
              "    border-bottom-color: var(--fill-color);\n",
              "    animation:\n",
              "      spin 1s steps(1) infinite;\n",
              "  }\n",
              "\n",
              "  @keyframes spin {\n",
              "    0% {\n",
              "      border-color: transparent;\n",
              "      border-bottom-color: var(--fill-color);\n",
              "      border-left-color: var(--fill-color);\n",
              "    }\n",
              "    20% {\n",
              "      border-color: transparent;\n",
              "      border-left-color: var(--fill-color);\n",
              "      border-top-color: var(--fill-color);\n",
              "    }\n",
              "    30% {\n",
              "      border-color: transparent;\n",
              "      border-left-color: var(--fill-color);\n",
              "      border-top-color: var(--fill-color);\n",
              "      border-right-color: var(--fill-color);\n",
              "    }\n",
              "    40% {\n",
              "      border-color: transparent;\n",
              "      border-right-color: var(--fill-color);\n",
              "      border-top-color: var(--fill-color);\n",
              "    }\n",
              "    60% {\n",
              "      border-color: transparent;\n",
              "      border-right-color: var(--fill-color);\n",
              "    }\n",
              "    80% {\n",
              "      border-color: transparent;\n",
              "      border-right-color: var(--fill-color);\n",
              "      border-bottom-color: var(--fill-color);\n",
              "    }\n",
              "    90% {\n",
              "      border-color: transparent;\n",
              "      border-bottom-color: var(--fill-color);\n",
              "    }\n",
              "  }\n",
              "</style>\n",
              "\n",
              "  <script>\n",
              "    async function quickchart(key) {\n",
              "      const quickchartButtonEl =\n",
              "        document.querySelector('#' + key + ' button');\n",
              "      quickchartButtonEl.disabled = true;  // To prevent multiple clicks.\n",
              "      quickchartButtonEl.classList.add('colab-df-spinner');\n",
              "      try {\n",
              "        const charts = await google.colab.kernel.invokeFunction(\n",
              "            'suggestCharts', [key], {});\n",
              "      } catch (error) {\n",
              "        console.error('Error during call to suggestCharts:', error);\n",
              "      }\n",
              "      quickchartButtonEl.classList.remove('colab-df-spinner');\n",
              "      quickchartButtonEl.classList.add('colab-df-quickchart-complete');\n",
              "    }\n",
              "    (() => {\n",
              "      let quickchartButtonEl =\n",
              "        document.querySelector('#df-b3e5e9f5-02be-4e74-9d36-45e6ace4905d button');\n",
              "      quickchartButtonEl.style.display =\n",
              "        google.colab.kernel.accessAllowed ? 'block' : 'none';\n",
              "    })();\n",
              "  </script>\n",
              "</div>\n",
              "    </div>\n",
              "  </div>\n"
            ]
          },
          "metadata": {},
          "execution_count": 52
        }
      ]
    },
    {
      "cell_type": "code",
      "source": [
        "import matplotlib.pyplot as plt\n",
        "import pandas as pd\n",
        "\n",
        "def plot_anscombe(dataframe: pd.DataFrame) -> None:\n",
        "    # Create a 2x2 subplot layout for each Anscombe's quartet\n",
        "    fig, axes = plt.subplots(nrows=2, ncols=2, figsize=(10, 8))\n",
        "\n",
        "    # Iterate through columns (X.1, Y.1, X.2, Y.2, etc.) and plot charts for each quartet\n",
        "    for i, ax in enumerate(axes.flatten()):\n",
        "        x_col = f'X.{i+1}'\n",
        "        y_col = f'Y.{i+1}'\n",
        "\n",
        "        ax.scatter(dataframe[x_col], dataframe[y_col], label=f'Q{i+1}')\n",
        "        ax.set_title(f'Quartet {i+1}')\n",
        "        ax.set_xlabel(f'X.{i+1}')\n",
        "        ax.set_ylabel(f'Y.{i+1}')\n",
        "        ax.legend()\n",
        "\n",
        "    # Adjust subplot layout\n",
        "    plt.tight_layout()\n",
        "    plt.show()"
      ],
      "metadata": {
        "id": "hQd4823U6J2Z"
      },
      "execution_count": 57,
      "outputs": []
    },
    {
      "cell_type": "code",
      "source": [
        "plot_anscombe(df)"
      ],
      "metadata": {
        "colab": {
          "base_uri": "https://localhost:8080/",
          "height": 807
        },
        "id": "5QiZtHGq6fQC",
        "outputId": "1c27a1ce-c544-45fa-90be-500aa27506fd"
      },
      "execution_count": 58,
      "outputs": [
        {
          "output_type": "display_data",
          "data": {
            "text/plain": [
              "<Figure size 1000x800 with 4 Axes>"
            ],
            "image/png": "[encoded data removed]"
          },
          "metadata": {}
        }
      ]
    },
    {
      "cell_type": "markdown",
      "source": [
        "**Task 4.**\\\n",
        "Check the Pearson correlation coefficient."
      ],
      "metadata": {
        "id": "BsKxDrJ87JSF"
      }
    },
    {
      "cell_type": "code",
      "source": [
        "from solutions import Solutions\n",
        "\n",
        "# Dataset 1\n",
        "x_1 = df['X.1'].tolist()\n",
        "y_1 = df['Y.1'].tolist()\n",
        "print('Dataset 1: ', Solutions.pearson_correlation(x_1, y_1))\n",
        "\n",
        "# Dataset 2\n",
        "x_2 = df['X.2'].tolist()\n",
        "y_2 = df['Y.2'].tolist()\n",
        "print('Dataset 2: ', Solutions.pearson_correlation(x_2, y_2))\n",
        "\n",
        "# Dataset 3\n",
        "x_3 = df['X.3'].tolist()\n",
        "y_3 = df['Y.3'].tolist()\n",
        "print('Dataset 3: ', Solutions.pearson_correlation(x_3, y_3))\n",
        "\n",
        "# Dataset 4\n",
        "x_4 = df['X.4'].tolist()\n",
        "y_4 = df['Y.4'].tolist()\n",
        "print('Dataset 4: ', Solutions.pearson_correlation(x_4, y_4))"
      ],
      "metadata": {
        "colab": {
          "base_uri": "https://localhost:8080/"
        },
        "id": "1XqyPx2g6k_f",
        "outputId": "80bc6950-d963-4719-d5c4-2a2e437285aa"
      },
      "execution_count": 63,
      "outputs": [
        {
          "output_type": "stream",
          "name": "stdout",
          "text": [
            "Dataset 1:  0.8164205163448399\n",
            "Dataset 2:  0.8162365060002427\n",
            "Dataset 3:  0.8162867394895982\n",
            "Dataset 4:  0.8165214368885028\n"
          ]
        }
      ]
    },
    {
      "cell_type": "markdown",
      "source": [
        "**Task 5.**\\\n",
        "Apply the statsmodels and seaborn library to the data from point 3 to obtain a simple regression model and corresponding graphs."
      ],
      "metadata": {
        "id": "TF1bugN18ZcP"
      }
    },
    {
      "cell_type": "code",
      "source": [
        "!pip install statsmodels seaborn"
      ],
      "metadata": {
        "colab": {
          "base_uri": "https://localhost:8080/"
        },
        "id": "Bhm97K_z8DlP",
        "outputId": "6e4ec37b-b165-4fd7-ee22-098f878168f9"
      },
      "execution_count": 64,
      "outputs": [
        {
          "output_type": "stream",
          "name": "stdout",
          "text": [
            "Requirement already satisfied: statsmodels in /usr/local/lib/python3.10/dist-packages (0.14.0)\n",
            "Requirement already satisfied: seaborn in /usr/local/lib/python3.10/dist-packages (0.12.2)\n",
            "Requirement already satisfied: numpy>=1.18 in /usr/local/lib/python3.10/dist-packages (from statsmodels) (1.23.5)\n",
            "Requirement already satisfied: scipy!=1.9.2,>=1.4 in /usr/local/lib/python3.10/dist-packages (from statsmodels) (1.11.3)\n",
            "Requirement already satisfied: pandas>=1.0 in /usr/local/lib/python3.10/dist-packages (from statsmodels) (1.5.3)\n",
            "Requirement already satisfied: patsy>=0.5.2 in /usr/local/lib/python3.10/dist-packages (from statsmodels) (0.5.3)\n",
            "Requirement already satisfied: packaging>=21.3 in /usr/local/lib/python3.10/dist-packages (from statsmodels) (23.2)\n",
            "Requirement already satisfied: matplotlib!=3.6.1,>=3.1 in /usr/local/lib/python3.10/dist-packages (from seaborn) (3.7.1)\n",
            "Requirement already satisfied: contourpy>=1.0.1 in /usr/local/lib/python3.10/dist-packages (from matplotlib!=3.6.1,>=3.1->seaborn) (1.2.0)\n",
            "Requirement already satisfied: cycler>=0.10 in /usr/local/lib/python3.10/dist-packages (from matplotlib!=3.6.1,>=3.1->seaborn) (0.12.1)\n",
            "Requirement already satisfied: fonttools>=4.22.0 in /usr/local/lib/python3.10/dist-packages (from matplotlib!=3.6.1,>=3.1->seaborn) (4.44.3)\n",
            "Requirement already satisfied: kiwisolver>=1.0.1 in /usr/local/lib/python3.10/dist-packages (from matplotlib!=3.6.1,>=3.1->seaborn) (1.4.5)\n",
            "Requirement already satisfied: pillow>=6.2.0 in /usr/local/lib/python3.10/dist-packages (from matplotlib!=3.6.1,>=3.1->seaborn) (9.4.0)\n",
            "Requirement already satisfied: pyparsing>=2.3.1 in /usr/local/lib/python3.10/dist-packages (from matplotlib!=3.6.1,>=3.1->seaborn) (3.1.1)\n",
            "Requirement already satisfied: python-dateutil>=2.7 in /usr/local/lib/python3.10/dist-packages (from matplotlib!=3.6.1,>=3.1->seaborn) (2.8.2)\n",
            "Requirement already satisfied: pytz>=2020.1 in /usr/local/lib/python3.10/dist-packages (from pandas>=1.0->statsmodels) (2023.3.post1)\n",
            "Requirement already satisfied: six in /usr/local/lib/python3.10/dist-packages (from patsy>=0.5.2->statsmodels) (1.16.0)\n"
          ]
        }
      ]
    },
    {
      "cell_type": "code",
      "source": [
        "import seaborn as sns\n",
        "import statsmodels.api as sm\n",
        "import matplotlib.pyplot as plt\n",
        "\n",
        "def create_regression_model_with_plots() -> None:\n",
        "\n",
        "    for indx, col_name in enumerate(df.iteritems()):\n",
        "\n",
        "      if indx + 1 >= 5:\n",
        "        return\n",
        "\n",
        "      x_col = f'X.{indx + 1}'\n",
        "      y_col = f'Y.{indx + 1}'\n",
        "\n",
        "      # Create model stats\n",
        "      X = sm.add_constant(df[x_col])\n",
        "      model = sm.OLS(df[y_col], df[x_col]).fit()\n",
        "      print(model.summary())\n",
        "\n",
        "      # Create plot\n",
        "      sns.regplot(x=x_col, y=y_col, data=df)\n",
        "      plt.title(f'Regression Plot: {indx + 1}')\n",
        "      plt.show()\n",
        "\n",
        "      print('\\n')\n",
        "\n",
        "create_regression_model_with_plots()"
      ],
      "metadata": {
        "colab": {
          "base_uri": "https://localhost:8080/",
          "height": 1000
        },
        "id": "ds79ldrp8wql",
        "outputId": "1b423ba4-8c32-4ba4-837b-8ad148744357"
      },
      "execution_count": 72,
      "outputs": [
        {
          "output_type": "stream",
          "name": "stderr",
          "text": [
            "<ipython-input-72-28b777bea4c9>:7: FutureWarning: iteritems is deprecated and will be removed in a future version. Use .items instead.\n",
            "  for indx, col_name in enumerate(df.iteritems()):\n",
            "/usr/local/lib/python3.10/dist-packages/scipy/stats/_stats_py.py:1806: UserWarning: kurtosistest only valid for n>=20 ... continuing anyway, n=11\n",
            "  warnings.warn(\"kurtosistest only valid for n>=20 ... continuing \"\n"
          ]
        },
        {
          "output_type": "stream",
          "name": "stdout",
          "text": [
            "                                 OLS Regression Results                                \n",
            "=======================================================================================\n",
            "Dep. Variable:                    Y.1   R-squared (uncentered):                   0.963\n",
            "Model:                            OLS   Adj. R-squared (uncentered):              0.959\n",
            "Method:                 Least Squares   F-statistic:                              257.9\n",
            "Date:                Tue, 28 Nov 2023   Prob (F-statistic):                    1.81e-08\n",
            "Time:                        17:28:55   Log-Likelihood:                         -20.044\n",
            "No. Observations:                  11   AIC:                                      42.09\n",
            "Df Residuals:                      10   BIC:                                      42.49\n",
            "Df Model:                           1                                                  \n",
            "Covariance Type:            nonrobust                                                  \n",
            "==============================================================================\n",
            "                 coef    std err          t      P>|t|      [0.025      0.975]\n",
            "------------------------------------------------------------------------------\n",
            "X.1            0.7968      0.050     16.059      0.000       0.686       0.907\n",
            "==============================================================================\n",
            "Omnibus:                        1.171   Durbin-Watson:                   2.491\n",
            "Prob(Omnibus):                  0.557   Jarque-Bera (JB):                0.684\n",
            "Skew:                          -0.572   Prob(JB):                        0.710\n",
            "Kurtosis:                       2.573   Cond. No.                         1.00\n",
            "==============================================================================\n",
            "\n",
            "Notes:\n",
            "[1] R² is computed without centering (uncentered) since the model does not contain a constant.\n",
            "[2] Standard Errors assume that the covariance matrix of the errors is correctly specified.\n"
          ]
        },
        {
          "output_type": "display_data",
          "data": {
            "text/plain": [
              "<Figure size 640x480 with 1 Axes>"
            ],
            "image/png": "[encoded data removed]"
          },
          "metadata": {}
        },
        {
          "output_type": "stream",
          "name": "stdout",
          "text": [
            "\n",
            "\n",
            "                                 OLS Regression Results                                \n",
            "=======================================================================================\n",
            "Dep. Variable:                    Y.2   R-squared (uncentered):                   0.963\n",
            "Model:                            OLS   Adj. R-squared (uncentered):              0.959\n",
            "Method:                 Least Squares   F-statistic:                              257.7\n",
            "Date:                Tue, 28 Nov 2023   Prob (F-statistic):                    1.82e-08\n",
            "Time:                        17:28:55   Log-Likelihood:                         -20.049\n",
            "No. Observations:                  11   AIC:                                      42.10\n",
            "Df Residuals:                      10   BIC:                                      42.50\n",
            "Df Model:                           1                                                  \n",
            "Covariance Type:            nonrobust                                                  \n",
            "==============================================================================\n",
            "                 coef    std err          t      P>|t|      [0.025      0.975]\n",
            "------------------------------------------------------------------------------\n",
            "X.2            0.7968      0.050     16.053      0.000       0.686       0.907\n",
            "==============================================================================\n",
            "Omnibus:                        4.616   Durbin-Watson:                   2.550\n",
            "Prob(Omnibus):                  0.099   Jarque-Bera (JB):                2.202\n",
            "Skew:                          -1.093   Prob(JB):                        0.333\n",
            "Kurtosis:                       3.153   Cond. No.                         1.00\n",
            "==============================================================================\n",
            "\n",
            "Notes:\n",
            "[1] R² is computed without centering (uncentered) since the model does not contain a constant.\n",
            "[2] Standard Errors assume that the covariance matrix of the errors is correctly specified.\n"
          ]
        },
        {
          "output_type": "stream",
          "name": "stderr",
          "text": [
            "/usr/local/lib/python3.10/dist-packages/scipy/stats/_stats_py.py:1806: UserWarning: kurtosistest only valid for n>=20 ... continuing anyway, n=11\n",
            "  warnings.warn(\"kurtosistest only valid for n>=20 ... continuing \"\n"
          ]
        },
        {
          "output_type": "display_data",
          "data": {
            "text/plain": [
              "<Figure size 640x480 with 1 Axes>"
            ],
            "image/png": "[encoded data removed]"
          },
          "metadata": {}
        },
        {
          "output_type": "stream",
          "name": "stdout",
          "text": [
            "\n",
            "\n",
            "                                 OLS Regression Results                                \n",
            "=======================================================================================\n",
            "Dep. Variable:                    Y.3   R-squared (uncentered):                   0.963\n",
            "Model:                            OLS   Adj. R-squared (uncentered):              0.959\n",
            "Method:                 Least Squares   F-statistic:                              257.7\n",
            "Date:                Tue, 28 Nov 2023   Prob (F-statistic):                    1.82e-08\n",
            "Time:                        17:28:55   Log-Likelihood:                         -20.047\n",
            "No. Observations:                  11   AIC:                                      42.09\n",
            "Df Residuals:                      10   BIC:                                      42.49\n",
            "Df Model:                           1                                                  \n",
            "Covariance Type:            nonrobust                                                  \n",
            "==============================================================================\n",
            "                 coef    std err          t      P>|t|      [0.025      0.975]\n",
            "------------------------------------------------------------------------------\n",
            "X.3            0.7967      0.050     16.053      0.000       0.686       0.907\n",
            "==============================================================================\n",
            "Omnibus:                        0.727   Durbin-Watson:                   1.874\n",
            "Prob(Omnibus):                  0.695   Jarque-Bera (JB):                0.614\n",
            "Skew:                          -0.215   Prob(JB):                        0.735\n",
            "Kurtosis:                       1.925   Cond. No.                         1.00\n",
            "==============================================================================\n",
            "\n",
            "Notes:\n",
            "[1] R² is computed without centering (uncentered) since the model does not contain a constant.\n",
            "[2] Standard Errors assume that the covariance matrix of the errors is correctly specified.\n"
          ]
        },
        {
          "output_type": "stream",
          "name": "stderr",
          "text": [
            "/usr/local/lib/python3.10/dist-packages/scipy/stats/_stats_py.py:1806: UserWarning: kurtosistest only valid for n>=20 ... continuing anyway, n=11\n",
            "  warnings.warn(\"kurtosistest only valid for n>=20 ... continuing \"\n"
          ]
        },
        {
          "output_type": "display_data",
          "data": {
            "text/plain": [
              "<Figure size 640x480 with 1 Axes>"
            ],
            "image/png": "[encoded data removed]"
          },
          "metadata": {}
        },
        {
          "output_type": "stream",
          "name": "stdout",
          "text": [
            "\n",
            "\n",
            "                                 OLS Regression Results                                \n",
            "=======================================================================================\n",
            "Dep. Variable:                    Y.4   R-squared (uncentered):                   0.963\n",
            "Model:                            OLS   Adj. R-squared (uncentered):              0.959\n",
            "Method:                 Least Squares   F-statistic:                              258.0\n",
            "Date:                Tue, 28 Nov 2023   Prob (F-statistic):                    1.81e-08\n",
            "Time:                        17:28:56   Log-Likelihood:                         -20.043\n",
            "No. Observations:                  11   AIC:                                      42.09\n",
            "Df Residuals:                      10   BIC:                                      42.48\n",
            "Df Model:                           1                                                  \n",
            "Covariance Type:            nonrobust                                                  \n",
            "==============================================================================\n",
            "                 coef    std err          t      P>|t|      [0.025      0.975]\n",
            "------------------------------------------------------------------------------\n",
            "X.4            0.7968      0.050     16.062      0.000       0.686       0.907\n",
            "==============================================================================\n",
            "Omnibus:                        0.522   Durbin-Watson:                   0.947\n",
            "Prob(Omnibus):                  0.770   Jarque-Bera (JB):                0.468\n",
            "Skew:                          -0.395   Prob(JB):                        0.791\n",
            "Kurtosis:                       2.370   Cond. No.                         1.00\n",
            "==============================================================================\n",
            "\n",
            "Notes:\n",
            "[1] R² is computed without centering (uncentered) since the model does not contain a constant.\n",
            "[2] Standard Errors assume that the covariance matrix of the errors is correctly specified.\n"
          ]
        },
        {
          "output_type": "stream",
          "name": "stderr",
          "text": [
            "/usr/local/lib/python3.10/dist-packages/scipy/stats/_stats_py.py:1806: UserWarning: kurtosistest only valid for n>=20 ... continuing anyway, n=11\n",
            "  warnings.warn(\"kurtosistest only valid for n>=20 ... continuing \"\n"
          ]
        },
        {
          "output_type": "display_data",
          "data": {
            "text/plain": [
              "<Figure size 640x480 with 1 Axes>"
            ],
            "image/png": "[encoded data removed]"
          },
          "metadata": {}
        },
        {
          "output_type": "stream",
          "name": "stdout",
          "text": [
            "\n",
            "\n"
          ]
        }
      ]
    },
    {
      "cell_type": "code",
      "source": [],
      "metadata": {
        "id": "fC2rRi5986sj"
      },
      "execution_count": null,
      "outputs": []
    }
  ]
}